{
  "cells": [
    {
      "cell_type": "code",
      "execution_count": null,
      "metadata": {
        "colab": {
          "base_uri": "https://localhost:8080/"
        },
        "id": "qrIHFOULDDpi",
        "outputId": "4093c863-7a92-42ce-d7e1-ea89e6911bd5"
      },
      "outputs": [
        {
          "output_type": "stream",
          "name": "stdout",
          "text": [
            "Mounted at /content/drive\n"
          ]
        }
      ],
      "source": [
        "from google.colab import drive\n",
        "drive.mount('/content/drive')"
      ]
    },
    {
      "cell_type": "markdown",
      "metadata": {
        "id": "eZvchEIi8Yud"
      },
      "source": [
        "## Installing Libraries (if any)\n",
        "###Drive Link--->(https://drive.google.com/drive/folders/1lMVAN3glfGllGXQzQODKoH5U_QdEQ3n-?usp=sharing)"
      ]
    },
    {
      "cell_type": "code",
      "execution_count": null,
      "metadata": {
        "colab": {
          "base_uri": "https://localhost:8080/"
        },
        "id": "PTNlx5FC8csQ",
        "outputId": "402e98ff-35e5-499e-df42-b2d632b11c0c"
      },
      "outputs": [
        {
          "output_type": "stream",
          "name": "stdout",
          "text": [
            "Looking in indexes: https://pypi.org/simple, https://us-python.pkg.dev/colab-wheels/public/simple/\n",
            "Collecting pytorch_lightning\n",
            "  Downloading pytorch_lightning-1.9.3-py3-none-any.whl (826 kB)\n",
            "\u001b[2K     \u001b[90m━━━━━━━━━━━━━━━━━━━━━━━━━━━━━━━━━━━━━━\u001b[0m \u001b[32m826.4/826.4 KB\u001b[0m \u001b[31m13.0 MB/s\u001b[0m eta \u001b[36m0:00:00\u001b[0m\n",
            "\u001b[?25hRequirement already satisfied: numpy>=1.17.2 in /usr/local/lib/python3.8/dist-packages (from pytorch_lightning) (1.22.4)\n",
            "Collecting torchmetrics>=0.7.0\n",
            "  Downloading torchmetrics-0.11.3-py3-none-any.whl (518 kB)\n",
            "\u001b[2K     \u001b[90m━━━━━━━━━━━━━━━━━━━━━━━━━━━━━━━━━━━━━━\u001b[0m \u001b[32m518.6/518.6 KB\u001b[0m \u001b[31m40.5 MB/s\u001b[0m eta \u001b[36m0:00:00\u001b[0m\n",
            "\u001b[?25hRequirement already satisfied: typing-extensions>=4.0.0 in /usr/local/lib/python3.8/dist-packages (from pytorch_lightning) (4.5.0)\n",
            "Requirement already satisfied: tqdm>=4.57.0 in /usr/local/lib/python3.8/dist-packages (from pytorch_lightning) (4.64.1)\n",
            "Requirement already satisfied: packaging>=17.1 in /usr/local/lib/python3.8/dist-packages (from pytorch_lightning) (23.0)\n",
            "Collecting lightning-utilities>=0.6.0.post0\n",
            "  Downloading lightning_utilities-0.7.1-py3-none-any.whl (18 kB)\n",
            "Requirement already satisfied: torch>=1.10.0 in /usr/local/lib/python3.8/dist-packages (from pytorch_lightning) (1.13.1+cu116)\n",
            "Requirement already satisfied: PyYAML>=5.4 in /usr/local/lib/python3.8/dist-packages (from pytorch_lightning) (6.0)\n",
            "Requirement already satisfied: fsspec[http]>2021.06.0 in /usr/local/lib/python3.8/dist-packages (from pytorch_lightning) (2023.1.0)\n",
            "Requirement already satisfied: requests in /usr/local/lib/python3.8/dist-packages (from fsspec[http]>2021.06.0->pytorch_lightning) (2.25.1)\n",
            "Requirement already satisfied: aiohttp!=4.0.0a0,!=4.0.0a1 in /usr/local/lib/python3.8/dist-packages (from fsspec[http]>2021.06.0->pytorch_lightning) (3.8.4)\n",
            "Requirement already satisfied: multidict<7.0,>=4.5 in /usr/local/lib/python3.8/dist-packages (from aiohttp!=4.0.0a0,!=4.0.0a1->fsspec[http]>2021.06.0->pytorch_lightning) (6.0.4)\n",
            "Requirement already satisfied: yarl<2.0,>=1.0 in /usr/local/lib/python3.8/dist-packages (from aiohttp!=4.0.0a0,!=4.0.0a1->fsspec[http]>2021.06.0->pytorch_lightning) (1.8.2)\n",
            "Requirement already satisfied: frozenlist>=1.1.1 in /usr/local/lib/python3.8/dist-packages (from aiohttp!=4.0.0a0,!=4.0.0a1->fsspec[http]>2021.06.0->pytorch_lightning) (1.3.3)\n",
            "Requirement already satisfied: charset-normalizer<4.0,>=2.0 in /usr/local/lib/python3.8/dist-packages (from aiohttp!=4.0.0a0,!=4.0.0a1->fsspec[http]>2021.06.0->pytorch_lightning) (3.0.1)\n",
            "Requirement already satisfied: attrs>=17.3.0 in /usr/local/lib/python3.8/dist-packages (from aiohttp!=4.0.0a0,!=4.0.0a1->fsspec[http]>2021.06.0->pytorch_lightning) (22.2.0)\n",
            "Requirement already satisfied: async-timeout<5.0,>=4.0.0a3 in /usr/local/lib/python3.8/dist-packages (from aiohttp!=4.0.0a0,!=4.0.0a1->fsspec[http]>2021.06.0->pytorch_lightning) (4.0.2)\n",
            "Requirement already satisfied: aiosignal>=1.1.2 in /usr/local/lib/python3.8/dist-packages (from aiohttp!=4.0.0a0,!=4.0.0a1->fsspec[http]>2021.06.0->pytorch_lightning) (1.3.1)\n",
            "Requirement already satisfied: chardet<5,>=3.0.2 in /usr/local/lib/python3.8/dist-packages (from requests->fsspec[http]>2021.06.0->pytorch_lightning) (4.0.0)\n",
            "Requirement already satisfied: urllib3<1.27,>=1.21.1 in /usr/local/lib/python3.8/dist-packages (from requests->fsspec[http]>2021.06.0->pytorch_lightning) (1.26.14)\n",
            "Requirement already satisfied: certifi>=2017.4.17 in /usr/local/lib/python3.8/dist-packages (from requests->fsspec[http]>2021.06.0->pytorch_lightning) (2022.12.7)\n",
            "Requirement already satisfied: idna<3,>=2.5 in /usr/local/lib/python3.8/dist-packages (from requests->fsspec[http]>2021.06.0->pytorch_lightning) (2.10)\n",
            "Installing collected packages: lightning-utilities, torchmetrics, pytorch_lightning\n",
            "Successfully installed lightning-utilities-0.7.1 pytorch_lightning-1.9.3 torchmetrics-0.11.3\n",
            "Looking in indexes: https://pypi.org/simple, https://us-python.pkg.dev/colab-wheels/public/simple/\n",
            "Collecting torchattacks\n",
            "  Downloading torchattacks-3.3.0-py3-none-any.whl (155 kB)\n",
            "\u001b[2K     \u001b[90m━━━━━━━━━━━━━━━━━━━━━━━━━━━━━━━━━━━━━━━\u001b[0m \u001b[32m155.9/155.9 KB\u001b[0m \u001b[31m4.1 MB/s\u001b[0m eta \u001b[36m0:00:00\u001b[0m\n",
            "\u001b[?25hInstalling collected packages: torchattacks\n",
            "Successfully installed torchattacks-3.3.0\n",
            "Looking in indexes: https://pypi.org/simple, https://us-python.pkg.dev/colab-wheels/public/simple/\n",
            "Collecting pyttsx3\n",
            "  Downloading pyttsx3-2.90-py3-none-any.whl (39 kB)\n",
            "Installing collected packages: pyttsx3\n",
            "Successfully installed pyttsx3-2.90\n",
            "Reading package lists... Done\n",
            "Building dependency tree       \n",
            "Reading state information... Done\n",
            "The following additional packages will be installed:\n",
            "  espeak-data libespeak1 libportaudio2 libsonic0\n",
            "The following NEW packages will be installed:\n",
            "  espeak espeak-data libespeak1 libportaudio2 libsonic0\n",
            "0 upgraded, 5 newly installed, 0 to remove and 19 not upgraded.\n",
            "Need to get 1,220 kB of archives.\n",
            "After this operation, 3,060 kB of additional disk space will be used.\n",
            "Get:1 http://archive.ubuntu.com/ubuntu focal/universe amd64 libportaudio2 amd64 19.6.0-1build1 [65.4 kB]\n",
            "Get:2 http://archive.ubuntu.com/ubuntu focal/main amd64 libsonic0 amd64 0.2.0-8 [13.1 kB]\n",
            "Get:3 http://archive.ubuntu.com/ubuntu focal/universe amd64 espeak-data amd64 1.48.04+dfsg-8build1 [932 kB]\n",
            "Get:4 http://archive.ubuntu.com/ubuntu focal/universe amd64 libespeak1 amd64 1.48.04+dfsg-8build1 [147 kB]\n",
            "Get:5 http://archive.ubuntu.com/ubuntu focal/universe amd64 espeak amd64 1.48.04+dfsg-8build1 [61.8 kB]\n",
            "Fetched 1,220 kB in 2s (692 kB/s)\n",
            "debconf: unable to initialize frontend: Dialog\n",
            "debconf: (No usable dialog-like program is installed, so the dialog based frontend cannot be used. at /usr/share/perl5/Debconf/FrontEnd/Dialog.pm line 76, <> line 5.)\n",
            "debconf: falling back to frontend: Readline\n",
            "debconf: unable to initialize frontend: Readline\n",
            "debconf: (This frontend requires a controlling tty.)\n",
            "debconf: falling back to frontend: Teletype\n",
            "dpkg-preconfigure: unable to re-open stdin: \n",
            "Selecting previously unselected package libportaudio2:amd64.\n",
            "(Reading database ... 128221 files and directories currently installed.)\n",
            "Preparing to unpack .../libportaudio2_19.6.0-1build1_amd64.deb ...\n",
            "Unpacking libportaudio2:amd64 (19.6.0-1build1) ...\n",
            "Selecting previously unselected package libsonic0:amd64.\n",
            "Preparing to unpack .../libsonic0_0.2.0-8_amd64.deb ...\n",
            "Unpacking libsonic0:amd64 (0.2.0-8) ...\n",
            "Selecting previously unselected package espeak-data:amd64.\n",
            "Preparing to unpack .../espeak-data_1.48.04+dfsg-8build1_amd64.deb ...\n",
            "Unpacking espeak-data:amd64 (1.48.04+dfsg-8build1) ...\n",
            "Selecting previously unselected package libespeak1:amd64.\n",
            "Preparing to unpack .../libespeak1_1.48.04+dfsg-8build1_amd64.deb ...\n",
            "Unpacking libespeak1:amd64 (1.48.04+dfsg-8build1) ...\n",
            "Selecting previously unselected package espeak.\n",
            "Preparing to unpack .../espeak_1.48.04+dfsg-8build1_amd64.deb ...\n",
            "Unpacking espeak (1.48.04+dfsg-8build1) ...\n",
            "Setting up libportaudio2:amd64 (19.6.0-1build1) ...\n",
            "Setting up libsonic0:amd64 (0.2.0-8) ...\n",
            "Setting up espeak-data:amd64 (1.48.04+dfsg-8build1) ...\n",
            "Setting up libespeak1:amd64 (1.48.04+dfsg-8build1) ...\n",
            "Setting up espeak (1.48.04+dfsg-8build1) ...\n",
            "Processing triggers for man-db (2.9.1-1) ...\n",
            "Processing triggers for libc-bin (2.31-0ubuntu9.9) ...\n",
            "Looking in indexes: https://pypi.org/simple, https://us-python.pkg.dev/colab-wheels/public/simple/\n",
            "Collecting gTTS\n",
            "  Downloading gTTS-2.3.1-py3-none-any.whl (28 kB)\n",
            "Requirement already satisfied: click<8.2,>=7.1 in /usr/local/lib/python3.8/dist-packages (from gTTS) (8.1.3)\n",
            "Collecting requests<3,>=2.27\n",
            "  Downloading requests-2.28.2-py3-none-any.whl (62 kB)\n",
            "\u001b[2K     \u001b[90m━━━━━━━━━━━━━━━━━━━━━━━━━━━━━━━━━━━━━━━━\u001b[0m \u001b[32m62.8/62.8 KB\u001b[0m \u001b[31m4.2 MB/s\u001b[0m eta \u001b[36m0:00:00\u001b[0m\n",
            "\u001b[?25hRequirement already satisfied: charset-normalizer<4,>=2 in /usr/local/lib/python3.8/dist-packages (from requests<3,>=2.27->gTTS) (3.0.1)\n",
            "Requirement already satisfied: urllib3<1.27,>=1.21.1 in /usr/local/lib/python3.8/dist-packages (from requests<3,>=2.27->gTTS) (1.26.14)\n",
            "Requirement already satisfied: certifi>=2017.4.17 in /usr/local/lib/python3.8/dist-packages (from requests<3,>=2.27->gTTS) (2022.12.7)\n",
            "Requirement already satisfied: idna<4,>=2.5 in /usr/local/lib/python3.8/dist-packages (from requests<3,>=2.27->gTTS) (2.10)\n",
            "Installing collected packages: requests, gTTS\n",
            "  Attempting uninstall: requests\n",
            "    Found existing installation: requests 2.25.1\n",
            "    Uninstalling requests-2.25.1:\n",
            "      Successfully uninstalled requests-2.25.1\n",
            "Successfully installed gTTS-2.3.1 requests-2.28.2\n",
            "Looking in indexes: https://pypi.org/simple, https://us-python.pkg.dev/colab-wheels/public/simple/\n",
            "Requirement already satisfied: textblob in /usr/local/lib/python3.8/dist-packages (0.15.3)\n",
            "Requirement already satisfied: nltk>=3.1 in /usr/local/lib/python3.8/dist-packages (from textblob) (3.7)\n",
            "Requirement already satisfied: tqdm in /usr/local/lib/python3.8/dist-packages (from nltk>=3.1->textblob) (4.64.1)\n",
            "Requirement already satisfied: regex>=2021.8.3 in /usr/local/lib/python3.8/dist-packages (from nltk>=3.1->textblob) (2022.6.2)\n",
            "Requirement already satisfied: click in /usr/local/lib/python3.8/dist-packages (from nltk>=3.1->textblob) (8.1.3)\n",
            "Requirement already satisfied: joblib in /usr/local/lib/python3.8/dist-packages (from nltk>=3.1->textblob) (1.2.0)\n"
          ]
        }
      ],
      "source": [
        "!pip install pytorch_lightning\n",
        "!pip install torchattacks\n",
        "!pip install pyttsx3\n",
        "!sudo apt-get install espeak\n",
        "!pip install gTTS\n",
        "!pip install textblob"
      ]
    },
    {
      "cell_type": "markdown",
      "metadata": {
        "id": "6IfT1Bm976lB"
      },
      "source": [
        "# Importing Libraries \n",
        "###Drive Link--->(https://drive.google.com/drive/folders/1lMVAN3glfGllGXQzQODKoH5U_QdEQ3n-?usp=sharing)"
      ]
    },
    {
      "cell_type": "code",
      "execution_count": null,
      "metadata": {
        "id": "ga9o5wpN7IQO"
      },
      "outputs": [],
      "source": [
        "import os\n",
        "import torch\n",
        "from torch.utils.data import Dataset, random_split, DataLoader\n",
        "import pytorch_lightning as pl\n",
        "import torch.nn as nn\n",
        "import torch.nn.functional as F\n",
        "import torch.optim as optim\n",
        "from torchvision import datasets, transforms\n",
        "import numpy as np\n",
        "import matplotlib.pyplot as plt\n",
        "from torchvision import models\n",
        "import PIL\n",
        "from tqdm import tqdm\n",
        "import cv2\n",
        "import glob\n",
        "import torchattacks as adv\n",
        "import json\n",
        "import csv\n",
        "from gtts import gTTS"
      ]
    },
    {
      "cell_type": "markdown",
      "metadata": {
        "id": "eZtx5lCV73KJ"
      },
      "source": [
        "#Question-1\n",
        "###Drive Link--->(https://drive.google.com/drive/folders/1lMVAN3glfGllGXQzQODKoH5U_QdEQ3n-?usp=sharing)"
      ]
    },
    {
      "cell_type": "markdown",
      "metadata": {
        "id": "X9lL1uHq79jK"
      },
      "source": [
        "## Utility Functions and Classes"
      ]
    },
    {
      "cell_type": "code",
      "execution_count": null,
      "metadata": {
        "id": "ZpOnLKgq9GJu"
      },
      "outputs": [],
      "source": [
        "class CNN_3Layer(pl.LightningModule):\n",
        "  \n",
        "  def __init__(self, num_classes):\n",
        "      super().__init__()\n",
        "      self.model = nn.Sequential(\n",
        "          nn.Conv2d(3,4,5),\n",
        "          nn.Conv2d(4,5,4),\n",
        "          nn.Conv2d(5,6,3),\n",
        "          nn.Flatten(),\n",
        "          nn.Linear(3174,1024),\n",
        "          nn.Linear(1024,num_classes)\n",
        "      )\n",
        "      self.loss = nn.CrossEntropyLoss()\n",
        "  \n",
        "  def forward(self, x):\n",
        "      return self.model(x)\n",
        "  \n",
        "  def training_step(self, batch, batch_no):\n",
        "      x, y = batch\n",
        "      logits = self(x)\n",
        "      loss = self.loss(logits, y)\n",
        "      return loss\n",
        "  \n",
        "  def configure_optimizers(self):\n",
        "      return torch.optim.Adam(self.parameters(),lr=0.001)"
      ]
    },
    {
      "cell_type": "code",
      "execution_count": null,
      "metadata": {
        "id": "6ja8dDvSR-qP"
      },
      "outputs": [],
      "source": [
        "class Model(pl.LightningModule):\n",
        "\n",
        "  def __init__(self, model_name, num_classes):\n",
        "    super().__init__()\n",
        "    self.model_name = model_name\n",
        "    if self.model_name=='resnet_34':\n",
        "      self.model = models.resnet34(weights=None)\n",
        "      self.features = self.model.fc.in_features \n",
        "      self.model.fc = nn.Linear(self.features,num_classes)\n",
        "    if self.model_name=='densenet_121':\n",
        "      self.model = models.densenet121(weights=None)\n",
        "      self.features = self.model.classifier.in_features\n",
        "      self.model.classifier = nn.Linear(self.features,num_classes)\n",
        "    self.loss = nn.CrossEntropyLoss()\n",
        "\n",
        "  def forward(self, x):\n",
        "    return self.model(x)\n",
        "\n",
        "  def training_step(self, batch, batch_no):\n",
        "    x, y = batch\n",
        "    logits = self(x)\n",
        "    loss = self.loss(logits, y)\n",
        "    return loss\n",
        "\n",
        "  def configure_optimizers(self):\n",
        "    return torch.optim.Adam(self.parameters(),lr=0.001)"
      ]
    },
    {
      "cell_type": "code",
      "source": [
        "class Detector_Train(pl.LightningModule):\n",
        "\n",
        "  def __init__(self, model_name, attack):\n",
        "    super().__init__()\n",
        "    self.model_name = model_name\n",
        "    self.attack = attack\n",
        "    if self.model_name=='resnet_34':\n",
        "      self.model = models.resnet34(weights=None)\n",
        "      self.features = self.model.fc.in_features \n",
        "      self.model.fc = nn.Linear(self.features,2)\n",
        "    if self.model_name=='densenet_121':\n",
        "      self.model = models.densenet121(weights=None)\n",
        "      self.features = self.model.classifier.in_features\n",
        "      self.model.classifier = nn.Linear(self.features,2)\n",
        "    self.loss = nn.CrossEntropyLoss()\n",
        "\n",
        "  def forward(self, x, y):\n",
        "    return self.model(x), self.model(self.attack(x,y))\n",
        "\n",
        "  def training_step(self, batch, batch_no):\n",
        "    x, y = batch\n",
        "    logits_clean, logits_attack = self(x,y)\n",
        "    loss = self.loss(logits_clean, torch.tensor([0]*logits_clean.shape[0]).cuda())+self.loss(logits_attack, torch.tensor([1]*logits_attack.shape[0]).cuda())\n",
        "    return loss\n",
        "\n",
        "  def configure_optimizers(self):\n",
        "    return torch.optim.Adam(self.parameters(),lr=0.001)"
      ],
      "metadata": {
        "id": "AIXsCOiY-JIu"
      },
      "execution_count": null,
      "outputs": []
    },
    {
      "cell_type": "code",
      "execution_count": null,
      "metadata": {
        "id": "vW9ciA858xrr"
      },
      "outputs": [],
      "source": [
        "def transform_fn(img, mode='Train', resize=False):\n",
        "  if resize==True:\n",
        "    img = img.resize((224,224))\n",
        "  tensor = transforms.ToTensor()(img)\n",
        "  return tensor\n",
        "\n",
        "  #Comment Out, if performing Normalization on CIFAR10\n",
        "  '''if mode=='Train':\n",
        "    return transforms.Normalize([0.4914, 0.4822, 0.4465],[0.2454, 0.2419, 0.2601])(tensor)\n",
        "  else:\n",
        "    return transforms.Normalize([0.4986, 0.4843, 0.4453],[0.2438, 0.2403, 0.2571])(tensor)'''\n",
        "\n",
        "def model_return(ckpt_path, model_obj):\n",
        "  ckpt = torch.load(ckpt_path)\n",
        "  model_obj.load_state_dict(ckpt['state_dict'])\n",
        "  return model_obj.eval().cuda()\n",
        "\n",
        "def FGSM(img, gradient, epsilon=0.01):\n",
        "  pertubation = img + gradient.sign()*epsilon\n",
        "  return pertubation\n",
        "\n",
        "def attack(test_loader, model_class, attack_func, eps):\n",
        "  correct_per = 0\n",
        "  correct_no = 0\n",
        "  for i,j in test_loader:\n",
        "    i,j = i.cuda(), j.cuda()\n",
        "    i.requires_grad = True\n",
        "    prob_no = model_class(i)\n",
        "    out_no = prob_no.max(1, keepdim=True)[1]\n",
        "    if out_no.item() != j.item():\n",
        "      continue\n",
        "    else:\n",
        "      correct_no += 1\n",
        "      loss_no = nn.CrossEntropyLoss()(prob_no, j)\n",
        "      model_class.zero_grad()\n",
        "      loss_no.backward()\n",
        "      gradient = i.grad.data\n",
        "      i_perturb = attack_func(i, gradient, eps)\n",
        "      prob_perturb = model_class(i_perturb)\n",
        "      out_perturb = prob_perturb.max(1, keepdim=True)[1]\n",
        "      if out_perturb.item() == j.item():\n",
        "        correct_per += 1\n",
        "  final_acc_per = correct_per/len(test_loader)\n",
        "  final_acc_no = correct_no/len(test_loader)\n",
        "  print(\"Original Accuracy ===> \"+str(100*final_acc_no)+\"%\")\n",
        "  print(\"Accuracy at epsilon= \"+str(eps)+\" ===> \"+str(100*final_acc_per)+\"%\")\n",
        "\n",
        "def prebuilt_detect(test_loader, model_class, attack_func, epsilon):\n",
        "  correct_per = 0\n",
        "  correct_no = 0\n",
        "  for i,j in test_loader:\n",
        "    i,j = i.cuda(), j.cuda()\n",
        "    prob_no = model_class(i)\n",
        "    out_no = prob_no.max(1, keepdim=True)[1]\n",
        "    if out_no.item() == 0.0:\n",
        "      correct_no += 1\n",
        "    i_perturb = attack_func(i,j)\n",
        "    prob_perturb = model_class(i_perturb)\n",
        "    out_perturb = prob_perturb.max(1, keepdim=True)[1]\n",
        "    if out_perturb.item() == 1.0:\n",
        "      correct_per += 1\n",
        "  final_acc_per = correct_per/len(test_loader)\n",
        "  final_acc_no = correct_no/len(test_loader)\n",
        "  print(\"Clean Accuracy ===> \"+str(100*final_acc_no)+\"%\")\n",
        "  print(\"Attack Accuracy at epsilon= \"+str(epsilon)+\" ===> \"+str(100*final_acc_per)+\"%\")\n",
        "\n",
        "def prebuilt_attack(test_loader, model_class, attack_func, epsilon):\n",
        "  correct_per = 0\n",
        "  correct_no = 0\n",
        "  attack = attack_func(model_class, eps=epsilon)\n",
        "  for i,j in test_loader:\n",
        "    i,j = i.cuda(), j.cuda()\n",
        "    prob_no = model_class(i)\n",
        "    out_no = prob_no.max(1, keepdim=True)[1]\n",
        "    if out_no.item() != j.item():\n",
        "      continue\n",
        "    else:\n",
        "      correct_no += 1\n",
        "      i_perturb = attack(i,j)\n",
        "      prob_perturb = model_class(i_perturb)\n",
        "      out_perturb = prob_perturb.max(1, keepdim=True)[1]\n",
        "      if out_perturb.item() == j.item():\n",
        "        correct_per += 1\n",
        "  final_acc_per = correct_per/len(test_loader)\n",
        "  final_acc_no = correct_no/len(test_loader)\n",
        "  print(\"Original Accuracy ===> \"+str(100*final_acc_no)+\"%\")\n",
        "  print(\"Accuracy at epsilon= \"+str(epsilon)+\" ===> \"+str(100*final_acc_per)+\"%\")"
      ]
    },
    {
      "cell_type": "markdown",
      "metadata": {
        "id": "CX3Hcx_3SyKK"
      },
      "source": [
        "##(i)"
      ]
    },
    {
      "cell_type": "code",
      "execution_count": null,
      "metadata": {
        "colab": {
          "base_uri": "https://localhost:8080/",
          "referenced_widgets": [
            "2c1f0273db5c419c93002ddba1d96831",
            "52199723483d4c2dbaa726a20616ef50",
            "b06ee03237bb455fa0e9dc0b622e480f",
            "f08edd1891ac4747af45aee3fa19cb70",
            "5a6746a96c814d4cbb2cffc417cd3128",
            "1d7c62788be7479d9622901cdaa54588",
            "34c7c9bfa55f4b909ecc7f99ac744703",
            "cb6261a596e24f83874e285f5491ddf0",
            "adbdf7a810b3447d8e7e5ebe75de9803",
            "e4f2325e3f554b9e9acd9d9e65740756",
            "40048d1949414b5984e1137eddcf53ee"
          ]
        },
        "id": "8oHuspQu8AEU",
        "outputId": "2c81b93f-c1a2-40f9-80e5-e4ed0255640b"
      },
      "outputs": [
        {
          "output_type": "stream",
          "name": "stdout",
          "text": [
            "Downloading https://www.cs.toronto.edu/~kriz/cifar-10-python.tar.gz to ../data/cifar-10-python.tar.gz\n"
          ]
        },
        {
          "output_type": "display_data",
          "data": {
            "text/plain": [
              "  0%|          | 0/170498071 [00:00<?, ?it/s]"
            ],
            "application/vnd.jupyter.widget-view+json": {
              "version_major": 2,
              "version_minor": 0,
              "model_id": "2c1f0273db5c419c93002ddba1d96831"
            }
          },
          "metadata": {}
        },
        {
          "output_type": "stream",
          "name": "stdout",
          "text": [
            "Extracting ../data/cifar-10-python.tar.gz to ../data\n"
          ]
        }
      ],
      "source": [
        "#train_CIFAR10 = torch.utils.data.DataLoader(dataset=datasets.CIFAR10('../data', train=True, download=True, transform=transform_fn),batch_size=16, shuffle=True, pin_memory=True, num_workers=2)\n",
        "test_CIFAR10 = torch.utils.data.DataLoader(dataset=datasets.CIFAR10('../data', train=False, download=True, transform=transform_fn),batch_size=1, shuffle=True)"
      ]
    },
    {
      "cell_type": "code",
      "execution_count": null,
      "metadata": {
        "colab": {
          "base_uri": "https://localhost:8080/",
          "height": 327,
          "referenced_widgets": [
            "859fae278fee4599899a001ef7caf800"
          ]
        },
        "id": "BurKmQaDBNnb",
        "outputId": "83f7eecb-54a4-477e-f652-ed4b8bdd21df"
      },
      "outputs": [
        {
          "name": "stderr",
          "output_type": "stream",
          "text": [
            "INFO:pytorch_lightning.utilities.rank_zero:GPU available: True (cuda), used: True\n",
            "INFO:pytorch_lightning.utilities.rank_zero:TPU available: False, using: 0 TPU cores\n",
            "INFO:pytorch_lightning.utilities.rank_zero:IPU available: False, using: 0 IPUs\n",
            "INFO:pytorch_lightning.utilities.rank_zero:HPU available: False, using: 0 HPUs\n",
            "INFO:pytorch_lightning.accelerators.cuda:LOCAL_RANK: 0 - CUDA_VISIBLE_DEVICES: [0]\n",
            "INFO:pytorch_lightning.callbacks.model_summary:\n",
            "  | Name  | Type             | Params\n",
            "-------------------------------------------\n",
            "0 | model | Sequential       | 3.3 M \n",
            "1 | loss  | CrossEntropyLoss | 0     \n",
            "-------------------------------------------\n",
            "3.3 M     Trainable params\n",
            "0         Non-trainable params\n",
            "3.3 M     Total params\n",
            "13.049    Total estimated model params size (MB)\n"
          ]
        },
        {
          "data": {
            "application/vnd.jupyter.widget-view+json": {
              "model_id": "859fae278fee4599899a001ef7caf800",
              "version_major": 2,
              "version_minor": 0
            },
            "text/plain": [
              "Training: 0it [00:00, ?it/s]"
            ]
          },
          "metadata": {},
          "output_type": "display_data"
        },
        {
          "name": "stderr",
          "output_type": "stream",
          "text": [
            "INFO:pytorch_lightning.utilities.rank_zero:`Trainer.fit` stopped: `max_epochs=20` reached.\n"
          ]
        }
      ],
      "source": [
        "Model_Scratch = CNN_3Layer(num_classes=10).train().cuda()\n",
        "trainer = pl.Trainer(accelerator='gpu', max_epochs=20, default_root_dir='/content/drive/MyDrive/DAI_Assignment_1/Q1/3_Layer_CNN', benchmark=True)\n",
        "trainer.fit(Model_Scratch, train_CIFAR10)\n",
        "del trainer, Model_Scratch"
      ]
    },
    {
      "cell_type": "code",
      "execution_count": null,
      "metadata": {
        "id": "uQ7jCr8IMyp0"
      },
      "outputs": [],
      "source": [
        "Model_Test = model_return('/content/drive/MyDrive/DAI_Assignment_1/Q1/3_Layer_CNN/lightning_logs/version_1/checkpoints/epoch=19-step=62500.ckpt', CNN_3Layer(num_classes=10))"
      ]
    },
    {
      "cell_type": "code",
      "execution_count": null,
      "metadata": {
        "colab": {
          "base_uri": "https://localhost:8080/"
        },
        "id": "wnCcb9p5Q5OQ",
        "outputId": "987c3cf2-e553-465c-c820-129e9ad9a9fc"
      },
      "outputs": [
        {
          "name": "stdout",
          "output_type": "stream",
          "text": [
            "Original Accuracy ===> 37.14%\n",
            "Accuracy at epsilon= 0.001 ===> 23.48%\n"
          ]
        }
      ],
      "source": [
        "attack(test_CIFAR10, Model_Test, FGSM, 0.001)"
      ]
    },
    {
      "cell_type": "code",
      "execution_count": null,
      "metadata": {
        "colab": {
          "base_uri": "https://localhost:8080/"
        },
        "id": "OMAurVGHRnNr",
        "outputId": "b871208f-78df-4016-952f-b51a62cba6cf"
      },
      "outputs": [
        {
          "name": "stdout",
          "output_type": "stream",
          "text": [
            "Original Accuracy ===> 37.14%\n",
            "Accuracy at epsilon= 0.002 ===> 13.420000000000002%\n"
          ]
        }
      ],
      "source": [
        "attack(test_CIFAR10, Model_Test, FGSM, 0.002)"
      ]
    },
    {
      "cell_type": "code",
      "execution_count": null,
      "metadata": {
        "colab": {
          "base_uri": "https://localhost:8080/"
        },
        "id": "ZFyVvT0YRoWn",
        "outputId": "dbae9834-d4b3-489d-a5af-682ec29b02c3"
      },
      "outputs": [
        {
          "name": "stdout",
          "output_type": "stream",
          "text": [
            "Original Accuracy ===> 37.14%\n",
            "Accuracy at epsilon= 0.004 ===> 3.6700000000000004%\n"
          ]
        }
      ],
      "source": [
        "attack(test_CIFAR10, Model_Test, FGSM, 0.004)"
      ]
    },
    {
      "cell_type": "code",
      "execution_count": null,
      "metadata": {
        "colab": {
          "base_uri": "https://localhost:8080/"
        },
        "id": "PyvR6WpORp07",
        "outputId": "86022c8f-e8d5-4824-a435-bf5b976ac54f"
      },
      "outputs": [
        {
          "name": "stdout",
          "output_type": "stream",
          "text": [
            "Original Accuracy ===> 37.14%\n",
            "Accuracy at epsilon= 0.008 ===> 0.36%\n"
          ]
        }
      ],
      "source": [
        "attack(test_CIFAR10, Model_Test, FGSM, 0.008)"
      ]
    },
    {
      "cell_type": "code",
      "execution_count": null,
      "metadata": {
        "colab": {
          "base_uri": "https://localhost:8080/"
        },
        "id": "S-KMPXkMRqyg",
        "outputId": "078651d7-d80b-4940-ac4e-a6ffab59ddc4"
      },
      "outputs": [
        {
          "name": "stdout",
          "output_type": "stream",
          "text": [
            "Original Accuracy ===> 37.14%\n",
            "Accuracy at epsilon= 0.01 ===> 0.13%\n"
          ]
        }
      ],
      "source": [
        "attack(test_CIFAR10, Model_Test, FGSM, 0.01)"
      ]
    },
    {
      "cell_type": "markdown",
      "metadata": {
        "id": "MK3nDqO2S3kg"
      },
      "source": [
        "##(ii)"
      ]
    },
    {
      "cell_type": "code",
      "execution_count": null,
      "metadata": {
        "colab": {
          "base_uri": "https://localhost:8080/",
          "referenced_widgets": [
            "37ac0f82ec134a0c871845c7b8289200",
            "98cca7bf3aad49ada58f2e5e76dc8dcf",
            "6225d3777dbc4e5f88e3a3505445a85c",
            "4a00626f74824c499f245ac2a4c4be8d",
            "f4d0e5e5f3cb4e9f966429a3ed49a28e",
            "2a03410c619d46509ae249969d3c02c6",
            "bb10666dc2b34cf792bf95121dd6de54",
            "dd1557b93cfe452c91bb590ec7e9195d",
            "e00c4c1f022e43e9a63ebe85d2b2e717",
            "d36b66791df74a40909308d690ccaaf0",
            "7848021eae304f928119ac0f49f4d814",
            "b6331718331a4af48c803b2593a28658",
            "3f40daf075324a2a922fc5102c750f4c",
            "823a513f601b46fd869c116c05d15629",
            "4dd6764737334ac5b131d3d24849591d",
            "54a8774cb4074e14bc054db7a22a1791",
            "309ae20aba9c480d98ab14cc728d52b3",
            "9a167dcd10364f189ff99589126406c7",
            "638b94c813f148fb9b961847e5efb179",
            "dd7ba334e33c426ea9d2b334c21bde61",
            "44a5e1d23316495bae75c26c82a543a6",
            "103fa132e9aa4001a5351b75e467fdef"
          ]
        },
        "id": "3zuwR1zphPMJ",
        "outputId": "7bb81559-75bd-42a9-a893-02f2cfc96b23"
      },
      "outputs": [
        {
          "output_type": "stream",
          "name": "stdout",
          "text": [
            "Downloading http://ufldl.stanford.edu/housenumbers/train_32x32.mat to ./data/train_32x32.mat\n"
          ]
        },
        {
          "output_type": "display_data",
          "data": {
            "text/plain": [
              "  0%|          | 0/182040794 [00:00<?, ?it/s]"
            ],
            "application/vnd.jupyter.widget-view+json": {
              "version_major": 2,
              "version_minor": 0,
              "model_id": "37ac0f82ec134a0c871845c7b8289200"
            }
          },
          "metadata": {}
        },
        {
          "output_type": "stream",
          "name": "stdout",
          "text": [
            "Downloading http://ufldl.stanford.edu/housenumbers/test_32x32.mat to ./data/test_32x32.mat\n"
          ]
        },
        {
          "output_type": "display_data",
          "data": {
            "text/plain": [
              "  0%|          | 0/64275384 [00:00<?, ?it/s]"
            ],
            "application/vnd.jupyter.widget-view+json": {
              "version_major": 2,
              "version_minor": 0,
              "model_id": "b6331718331a4af48c803b2593a28658"
            }
          },
          "metadata": {}
        }
      ],
      "source": [
        "train_dataset = datasets.SVHN(root='./data', split='train', download=True, transform=transforms.ToTensor())\n",
        "test_dataset = datasets.SVHN(root='./data', split='test', download=True, transform=transforms.ToTensor())\n",
        "\n",
        "train_loader = torch.utils.data.DataLoader(train_dataset, batch_size=len(train_dataset))\n",
        "test_loader = torch.utils.data.DataLoader(test_dataset, batch_size=len(test_dataset))\n",
        "\n",
        "train_data = next(iter(train_loader))\n",
        "train_mean = train_data[0].mean()\n",
        "train_std = train_data[0].std()\n",
        "\n",
        "test_data = next(iter(test_loader))\n",
        "test_mean = test_data[0].mean()\n",
        "test_std = test_data[0].std()"
      ]
    },
    {
      "cell_type": "code",
      "execution_count": null,
      "metadata": {
        "id": "aDkmjhcDg6f_"
      },
      "outputs": [],
      "source": [
        "transform_train = transforms.Compose([\n",
        "    transforms.ToTensor(),\n",
        "    transforms.Normalize((train_mean.item(),), (train_std.item(),)),\n",
        "])\n",
        "\n",
        "transform_test = transforms.Compose([\n",
        "    transforms.ToTensor(),\n",
        "    transforms.Normalize((test_mean.item(),), (test_std.item(),)),\n",
        "])"
      ]
    },
    {
      "cell_type": "code",
      "execution_count": null,
      "metadata": {
        "colab": {
          "base_uri": "https://localhost:8080/"
        },
        "id": "GIcz_Pc1hzAP",
        "outputId": "1eb2bcc9-269d-44a6-84bd-9f8a03e6f93d"
      },
      "outputs": [
        {
          "output_type": "stream",
          "name": "stdout",
          "text": [
            "Using downloaded and verified file: ./data/test_32x32.mat\n"
          ]
        }
      ],
      "source": [
        "train_SVHN = torch.utils.data.DataLoader(dataset=datasets.SVHN('./data', split='train', download=True, transform=transform_train),batch_size=16, shuffle=True, pin_memory=True, num_workers=2)\n",
        "test_SVHN = torch.utils.data.DataLoader(dataset=datasets.SVHN('./data', split='test', download=True, transform=transform_test),batch_size=1, shuffle=True)"
      ]
    },
    {
      "cell_type": "code",
      "execution_count": null,
      "metadata": {
        "colab": {
          "base_uri": "https://localhost:8080/",
          "height": 327,
          "referenced_widgets": [
            "a779e9482959463ca37d5bf57913e93e",
            "5a8066fe526442a2883d3baaefc77149",
            "ac3bc97fc07b494b9f3c8b4b35a6b2ec",
            "732aa6b7566f4cc69da57d6ddc471302",
            "2104cc490e784ab3aa1980c752e9f082",
            "21a11e67bf3442aaa15a1150940d1b98",
            "2e59e3f57a39468a8c6832a021e8e256",
            "560976a33aea4a6691d3bc07baf18709",
            "3397acc58e22400d95227dd79097173b",
            "b1eaa35d475b4057818547813e03d061",
            "2e104700f5d940e5b9ce6c71cab8df33"
          ]
        },
        "id": "lsPW6N04S1Ro",
        "outputId": "75de4c86-e781-42e0-d75b-e1a50637ef3e"
      },
      "outputs": [
        {
          "name": "stderr",
          "output_type": "stream",
          "text": [
            "INFO:pytorch_lightning.utilities.rank_zero:GPU available: True (cuda), used: True\n",
            "INFO:pytorch_lightning.utilities.rank_zero:TPU available: False, using: 0 TPU cores\n",
            "INFO:pytorch_lightning.utilities.rank_zero:IPU available: False, using: 0 IPUs\n",
            "INFO:pytorch_lightning.utilities.rank_zero:HPU available: False, using: 0 HPUs\n",
            "INFO:pytorch_lightning.accelerators.cuda:LOCAL_RANK: 0 - CUDA_VISIBLE_DEVICES: [0]\n",
            "INFO:pytorch_lightning.callbacks.model_summary:\n",
            "  | Name  | Type             | Params\n",
            "-------------------------------------------\n",
            "0 | model | ResNet           | 21.3 M\n",
            "1 | loss  | CrossEntropyLoss | 0     \n",
            "-------------------------------------------\n",
            "21.3 M    Trainable params\n",
            "0         Non-trainable params\n",
            "21.3 M    Total params\n",
            "85.159    Total estimated model params size (MB)\n"
          ]
        },
        {
          "data": {
            "application/vnd.jupyter.widget-view+json": {
              "model_id": "a779e9482959463ca37d5bf57913e93e",
              "version_major": 2,
              "version_minor": 0
            },
            "text/plain": [
              "Training: 0it [00:00, ?it/s]"
            ]
          },
          "metadata": {},
          "output_type": "display_data"
        },
        {
          "name": "stderr",
          "output_type": "stream",
          "text": [
            "INFO:pytorch_lightning.utilities.rank_zero:`Trainer.fit` stopped: `max_epochs=20` reached.\n"
          ]
        }
      ],
      "source": [
        "resnet = Model('resnet_34',10).train().cuda()\n",
        "trainer = pl.Trainer(accelerator='gpu', max_epochs=20, default_root_dir='/content/drive/MyDrive/DAI_Assignment_1/Q1/resnet34', benchmark=True)\n",
        "trainer.fit(resnet, train_CIFAR10)\n",
        "del trainer, resnet"
      ]
    },
    {
      "cell_type": "code",
      "execution_count": null,
      "metadata": {
        "colab": {
          "base_uri": "https://localhost:8080/",
          "height": 416,
          "referenced_widgets": [
            "50da5524aa484f47879a7219222ac9cc",
            "e81eaa95974a4498bfc9ca35e93dda69",
            "a57622c37935408dab4f270bb05c30f3",
            "8cd8d9ff25a543eeb5367835f255154e",
            "1fcddc94bf3d4fe4995e5d6a85dcd0d6",
            "9ba4d33eb6d34c7f94874e4eea9b3ffe",
            "b64b4537304d47bc923df7ce2be93893",
            "fe6c719e5b95432787973d800d7a109a",
            "71f15e8628d14281a53938b66f4b1f33",
            "2a0e7dd34da642bd8a3843b4e25d1683",
            "c7ba9bf691a2440ea77b8f856d1d4007"
          ]
        },
        "id": "GT0H6RCWvFxR",
        "outputId": "f6af3bbe-3832-4a37-e72d-7d3d0f716396"
      },
      "outputs": [
        {
          "name": "stderr",
          "output_type": "stream",
          "text": [
            "INFO:pytorch_lightning.utilities.rank_zero:GPU available: True (cuda), used: True\n",
            "INFO:pytorch_lightning.utilities.rank_zero:TPU available: False, using: 0 TPU cores\n",
            "INFO:pytorch_lightning.utilities.rank_zero:IPU available: False, using: 0 IPUs\n",
            "INFO:pytorch_lightning.utilities.rank_zero:HPU available: False, using: 0 HPUs\n",
            "INFO:pytorch_lightning.utilities.rank_zero:Restoring states from the checkpoint path at /content/drive/MyDrive/DAI_Assignment_1/Q1/resnet34/lightning_logs/version_2/checkpoints/epoch=11-step=54948.ckpt\n",
            "/usr/local/lib/python3.8/dist-packages/pytorch_lightning/callbacks/model_checkpoint.py:338: UserWarning: The dirpath has changed from '/content/drive/MyDrive/DAI_Assignment_1/Q1/resnet34/lightning_logs/version_2/checkpoints' to '/content/drive/MyDrive/DAI_Assignment_1/Q1/resnet34/lightning_logs/version_3/checkpoints', therefore `best_model_score`, `kth_best_model_path`, `kth_value`, `last_model_path` and `best_k_models` won't be reloaded. Only `best_model_path` will be reloaded.\n",
            "  warnings.warn(\n",
            "INFO:pytorch_lightning.accelerators.cuda:LOCAL_RANK: 0 - CUDA_VISIBLE_DEVICES: [0]\n",
            "INFO:pytorch_lightning.callbacks.model_summary:\n",
            "  | Name  | Type             | Params\n",
            "-------------------------------------------\n",
            "0 | model | ResNet           | 21.3 M\n",
            "1 | loss  | CrossEntropyLoss | 0     \n",
            "-------------------------------------------\n",
            "21.3 M    Trainable params\n",
            "0         Non-trainable params\n",
            "21.3 M    Total params\n",
            "85.159    Total estimated model params size (MB)\n",
            "INFO:pytorch_lightning.utilities.rank_zero:Restored all states from the checkpoint file at /content/drive/MyDrive/DAI_Assignment_1/Q1/resnet34/lightning_logs/version_2/checkpoints/epoch=11-step=54948.ckpt\n"
          ]
        },
        {
          "data": {
            "application/vnd.jupyter.widget-view+json": {
              "model_id": "50da5524aa484f47879a7219222ac9cc",
              "version_major": 2,
              "version_minor": 0
            },
            "text/plain": [
              "Training: 4579it [00:00, ?it/s]"
            ]
          },
          "metadata": {},
          "output_type": "display_data"
        },
        {
          "name": "stderr",
          "output_type": "stream",
          "text": [
            "INFO:pytorch_lightning.utilities.rank_zero:`Trainer.fit` stopped: `max_epochs=20` reached.\n"
          ]
        }
      ],
      "source": [
        "resnet = Model('resnet_34',10).train().cuda()\n",
        "trainer = pl.Trainer(accelerator='gpu', max_epochs=20, resume_from_checkpoint='/content/drive/MyDrive/DAI_Assignment_1/Q1/resnet34/lightning_logs/version_2/checkpoints/epoch=11-step=54948.ckpt', default_root_dir='/content/drive/MyDrive/DAI_Assignment_1/Q1/resnet34', benchmark=True)\n",
        "trainer.fit(resnet, train_SVHN)\n",
        "del trainer, resnet"
      ]
    },
    {
      "cell_type": "code",
      "execution_count": null,
      "metadata": {
        "colab": {
          "base_uri": "https://localhost:8080/",
          "height": 441,
          "referenced_widgets": [
            "7ce0229460ab47dcb463ac5faeb5c000",
            "80825faa6c6a49d7a55385cad16e8424",
            "548e721b1bb14e91aabaadbb9444476c",
            "89462418b3664932aecac7e693e52206",
            "8bb00d6b5d2346be9d7ed6f57a78869c",
            "42362601eb194678af5e7d91886dd1ca",
            "c8dc7a09c4d54caeb3df6b63c864efd2",
            "6e070c57e0574b028b9ba1a6e4200e96",
            "8dd52d5863e742849a4de8dc3bb61b19",
            "e3f7825b539d42b3a5060ef1c1e8fdda",
            "c6d3ba24b3b84385aba7c8a3a86d5c60"
          ]
        },
        "id": "z1SDg-L1TyZS",
        "outputId": "7bb74c15-9736-4a69-c0d8-165c9675efc7"
      },
      "outputs": [
        {
          "name": "stderr",
          "output_type": "stream",
          "text": [
            "INFO:pytorch_lightning.utilities.rank_zero:GPU available: True (cuda), used: True\n",
            "INFO:pytorch_lightning.utilities.rank_zero:TPU available: False, using: 0 TPU cores\n",
            "INFO:pytorch_lightning.utilities.rank_zero:IPU available: False, using: 0 IPUs\n",
            "INFO:pytorch_lightning.utilities.rank_zero:HPU available: False, using: 0 HPUs\n",
            "WARNING:pytorch_lightning.loggers.tensorboard:Missing logger folder: /content/drive/MyDrive/DAI_Assignment_1/Q1/densenet121/lightning_logs\n",
            "INFO:pytorch_lightning.accelerators.cuda:LOCAL_RANK: 0 - CUDA_VISIBLE_DEVICES: [0]\n",
            "INFO:pytorch_lightning.callbacks.model_summary:\n",
            "  | Name  | Type             | Params\n",
            "-------------------------------------------\n",
            "0 | model | DenseNet         | 7.0 M \n",
            "1 | loss  | CrossEntropyLoss | 0     \n",
            "-------------------------------------------\n",
            "7.0 M     Trainable params\n",
            "0         Non-trainable params\n",
            "7.0 M     Total params\n",
            "27.856    Total estimated model params size (MB)\n"
          ]
        },
        {
          "data": {
            "application/vnd.jupyter.widget-view+json": {
              "model_id": "7ce0229460ab47dcb463ac5faeb5c000",
              "version_major": 2,
              "version_minor": 0
            },
            "text/plain": [
              "Training: 0it [00:00, ?it/s]"
            ]
          },
          "metadata": {},
          "output_type": "display_data"
        },
        {
          "name": "stderr",
          "output_type": "stream",
          "text": [
            "INFO:pytorch_lightning.utilities.rank_zero:`Trainer.fit` stopped: `max_epochs=20` reached.\n",
            "INFO:pytorch_lightning.utilities.rank_zero:`Trainer.fit` stopped: `max_epochs=20` reached.\n"
          ]
        }
      ],
      "source": [
        "densenet = Model('densenet_121',10).train().cuda()\n",
        "trainer = pl.Trainer(accelerator='gpu', max_epochs=20, default_root_dir='/content/drive/MyDrive/DAI_Assignment_1/Q1/densenet121', benchmark=True)\n",
        "trainer.fit(densenet, train_CIFAR10)\n",
        "del trainer, densenet"
      ]
    },
    {
      "cell_type": "code",
      "execution_count": null,
      "metadata": {
        "colab": {
          "base_uri": "https://localhost:8080/",
          "height": 424,
          "referenced_widgets": [
            "5048c7ee2c8e477bbd065ff426ce2d03",
            "c411bfae711c4c1bb67dde1313a78ac7",
            "c501e456de984c4cabe9d53ef0daba88",
            "cf1c8ec5ec7f4498bac6c6192ce96288",
            "21d0f3b6d8a74bf5a0774bbd21aa6c9b",
            "ab75cd92b895423a9f3bc13639c70330",
            "6c1e8d4ff4e240a885a5b71843f350f4",
            "aec45ccd892649cdbb663ccd28540c55",
            "c356d19529bd46ae859cc72abe8a6487",
            "95e9d0527a12414ea50a48012e9d08ea",
            "713b607c51fd4c9a8db4ef2988bac21b"
          ]
        },
        "id": "UNy4_LmsvOGA",
        "outputId": "be228474-bf82-4bb9-c35d-8ef1017fc9a7"
      },
      "outputs": [
        {
          "name": "stderr",
          "output_type": "stream",
          "text": [
            "INFO:pytorch_lightning.utilities.rank_zero:GPU available: True (cuda), used: True\n",
            "INFO:pytorch_lightning.utilities.rank_zero:TPU available: False, using: 0 TPU cores\n",
            "INFO:pytorch_lightning.utilities.rank_zero:IPU available: False, using: 0 IPUs\n",
            "INFO:pytorch_lightning.utilities.rank_zero:HPU available: False, using: 0 HPUs\n",
            "WARNING:pytorch_lightning.loggers.tensorboard:Missing logger folder: /content/drive/MyDrive/DAI_Assignment_1/Q1/densenet121/lightning_logs\n",
            "INFO:pytorch_lightning.accelerators.cuda:LOCAL_RANK: 0 - CUDA_VISIBLE_DEVICES: [0]\n",
            "INFO:pytorch_lightning.callbacks.model_summary:\n",
            "  | Name  | Type             | Params\n",
            "-------------------------------------------\n",
            "0 | model | DenseNet         | 7.0 M \n",
            "1 | loss  | CrossEntropyLoss | 0     \n",
            "-------------------------------------------\n",
            "7.0 M     Trainable params\n",
            "0         Non-trainable params\n",
            "7.0 M     Total params\n",
            "27.856    Total estimated model params size (MB)\n"
          ]
        },
        {
          "data": {
            "application/vnd.jupyter.widget-view+json": {
              "model_id": "5048c7ee2c8e477bbd065ff426ce2d03",
              "version_major": 2,
              "version_minor": 0
            },
            "text/plain": [
              "Training: 0it [00:00, ?it/s]"
            ]
          },
          "metadata": {},
          "output_type": "display_data"
        },
        {
          "name": "stderr",
          "output_type": "stream",
          "text": [
            "INFO:pytorch_lightning.utilities.rank_zero:`Trainer.fit` stopped: `max_epochs=20` reached.\n"
          ]
        }
      ],
      "source": [
        "densenet = Model('densenet_121',10).train().cuda()\n",
        "trainer = pl.Trainer(accelerator='gpu', max_epochs=20, default_root_dir='/content/drive/MyDrive/DAI_Assignment_1/Q1/densenet121', benchmark=True)\n",
        "trainer.fit(densenet, train_SVHN)\n",
        "del trainer, densenet"
      ]
    },
    {
      "cell_type": "markdown",
      "metadata": {
        "id": "rLy1nEFMP4p9"
      },
      "source": [
        "### Testing on CIFAR10 with FGSM"
      ]
    },
    {
      "cell_type": "code",
      "execution_count": null,
      "metadata": {
        "id": "2jYoflAsUDjV"
      },
      "outputs": [],
      "source": [
        "Model_Resnet = model_return('/content/drive/MyDrive/DAI_Assignment_1/Q1/resnet34/lightning_logs/version_1/checkpoints/epoch=19-step=62500.ckpt', Model('resnet_34',num_classes=10))"
      ]
    },
    {
      "cell_type": "code",
      "execution_count": null,
      "metadata": {
        "colab": {
          "base_uri": "https://localhost:8080/"
        },
        "id": "d3_h-tIVUsnG",
        "outputId": "de284cbe-3f10-4390-d7ba-2cfb522557e6"
      },
      "outputs": [
        {
          "name": "stdout",
          "output_type": "stream",
          "text": [
            "Original Accuracy ===> 32.24%\n",
            "Accuracy at epsilon= 0.001 ===> 28.549999999999997%\n"
          ]
        }
      ],
      "source": [
        "attack(test_CIFAR10, Model_Resnet, FGSM, 0.001)"
      ]
    },
    {
      "cell_type": "code",
      "execution_count": null,
      "metadata": {
        "colab": {
          "base_uri": "https://localhost:8080/"
        },
        "id": "V_z0MYfOUtFn",
        "outputId": "26ecae58-76cf-4f66-a0b9-7213a4741bac"
      },
      "outputs": [
        {
          "name": "stdout",
          "output_type": "stream",
          "text": [
            "Original Accuracy ===> 32.24%\n",
            "Accuracy at epsilon= 0.002 ===> 25.36%\n"
          ]
        }
      ],
      "source": [
        "attack(test_CIFAR10, Model_Resnet, FGSM, 0.002)"
      ]
    },
    {
      "cell_type": "code",
      "execution_count": null,
      "metadata": {
        "colab": {
          "base_uri": "https://localhost:8080/"
        },
        "id": "x2AaWp7xUtNh",
        "outputId": "0d29749a-33bd-4ae9-cc61-2f537fb6cfd3"
      },
      "outputs": [
        {
          "name": "stdout",
          "output_type": "stream",
          "text": [
            "Original Accuracy ===> 32.24%\n",
            "Accuracy at epsilon= 0.004 ===> 20.11%\n"
          ]
        }
      ],
      "source": [
        "attack(test_CIFAR10, Model_Resnet, FGSM, 0.004)"
      ]
    },
    {
      "cell_type": "code",
      "execution_count": null,
      "metadata": {
        "colab": {
          "base_uri": "https://localhost:8080/"
        },
        "id": "ZxMeZ4G0UtZF",
        "outputId": "233ca609-bd7e-4d17-f817-93fb221348f9"
      },
      "outputs": [
        {
          "name": "stdout",
          "output_type": "stream",
          "text": [
            "Original Accuracy ===> 32.24%\n",
            "Accuracy at epsilon= 0.008 ===> 12.870000000000001%\n"
          ]
        }
      ],
      "source": [
        "attack(test_CIFAR10, Model_Resnet, FGSM, 0.008)"
      ]
    },
    {
      "cell_type": "code",
      "execution_count": null,
      "metadata": {
        "colab": {
          "base_uri": "https://localhost:8080/"
        },
        "id": "M5wmtNkGUtjB",
        "outputId": "89f752cf-9d0a-4400-bead-64bcf81a1b2f"
      },
      "outputs": [
        {
          "name": "stdout",
          "output_type": "stream",
          "text": [
            "Original Accuracy ===> 32.24%\n",
            "Accuracy at epsilon= 0.01 ===> 10.43%\n"
          ]
        }
      ],
      "source": [
        "attack(test_CIFAR10, Model_Resnet, FGSM, 0.01)"
      ]
    },
    {
      "cell_type": "code",
      "execution_count": null,
      "metadata": {
        "id": "K9KCsRniUW3Y"
      },
      "outputs": [],
      "source": [
        "Model_Densenet = model_return('/content/drive/MyDrive/DAI_Assignment_1/Q1/densenet121/lightning_logs/version_0/checkpoints/epoch=19-step=62500.ckpt', Model('densenet_121',num_classes=10))"
      ]
    },
    {
      "cell_type": "code",
      "execution_count": null,
      "metadata": {
        "colab": {
          "base_uri": "https://localhost:8080/"
        },
        "id": "1dijouPoU2Sq",
        "outputId": "bdc93e94-d835-4ea0-80f8-4e658a56ee95"
      },
      "outputs": [
        {
          "name": "stdout",
          "output_type": "stream",
          "text": [
            "Original Accuracy ===> 78.78%\n",
            "Accuracy at epsilon= 0.001 ===> 72.78999999999999%\n"
          ]
        }
      ],
      "source": [
        "attack(test_CIFAR10, Model_Densenet, FGSM, 0.001)"
      ]
    },
    {
      "cell_type": "code",
      "execution_count": null,
      "metadata": {
        "colab": {
          "base_uri": "https://localhost:8080/"
        },
        "id": "KnNZE8A2U2Sq",
        "outputId": "4406f7a5-3b87-4456-f9ad-d10cc938f80d"
      },
      "outputs": [
        {
          "name": "stdout",
          "output_type": "stream",
          "text": [
            "Original Accuracy ===> 78.78%\n",
            "Accuracy at epsilon= 0.002 ===> 66.07%\n"
          ]
        }
      ],
      "source": [
        "attack(test_CIFAR10, Model_Densenet, FGSM, 0.002)"
      ]
    },
    {
      "cell_type": "code",
      "execution_count": null,
      "metadata": {
        "colab": {
          "base_uri": "https://localhost:8080/"
        },
        "id": "IEP8Whx4U2Sq",
        "outputId": "45a72f81-4548-4e7f-de1a-b7b02cbeb542"
      },
      "outputs": [
        {
          "name": "stdout",
          "output_type": "stream",
          "text": [
            "Original Accuracy ===> 78.78%\n",
            "Accuracy at epsilon= 0.004 ===> 53.14%\n"
          ]
        }
      ],
      "source": [
        "attack(test_CIFAR10, Model_Densenet, FGSM, 0.004)"
      ]
    },
    {
      "cell_type": "code",
      "execution_count": null,
      "metadata": {
        "colab": {
          "base_uri": "https://localhost:8080/"
        },
        "id": "ntmMbXNLU2Sq",
        "outputId": "d746b409-6d10-4657-fd66-ce112a0d314f"
      },
      "outputs": [
        {
          "name": "stdout",
          "output_type": "stream",
          "text": [
            "Original Accuracy ===> 78.78%\n",
            "Accuracy at epsilon= 0.008 ===> 32.98%\n"
          ]
        }
      ],
      "source": [
        "attack(test_CIFAR10, Model_Densenet, FGSM, 0.008)"
      ]
    },
    {
      "cell_type": "code",
      "execution_count": null,
      "metadata": {
        "colab": {
          "base_uri": "https://localhost:8080/"
        },
        "id": "dEMbJ4KXU2Sq",
        "outputId": "cbc238b5-c6dd-4124-dada-5bde28ac8b14"
      },
      "outputs": [
        {
          "name": "stdout",
          "output_type": "stream",
          "text": [
            "Original Accuracy ===> 78.78%\n",
            "Accuracy at epsilon= 0.01 ===> 26.08%\n"
          ]
        }
      ],
      "source": [
        "attack(test_CIFAR10, Model_Densenet, FGSM, 0.01)"
      ]
    },
    {
      "cell_type": "markdown",
      "metadata": {
        "id": "iLqzC1CJP_S9"
      },
      "source": [
        "### Testing on SVHN with FGSM"
      ]
    },
    {
      "cell_type": "code",
      "execution_count": null,
      "metadata": {
        "id": "JGBap9oaP_S-"
      },
      "outputs": [],
      "source": [
        "Model_Resnet = model_return('/content/drive/MyDrive/DAI_Assignment_1/Q1/resnet34/lightning_logs/version_3/checkpoints/epoch=19-step=91580.ckpt', Model('resnet_34',num_classes=10))"
      ]
    },
    {
      "cell_type": "code",
      "execution_count": null,
      "metadata": {
        "colab": {
          "base_uri": "https://localhost:8080/"
        },
        "id": "qr6OEZuFP_S_",
        "outputId": "cc6423ab-3aaf-4fbc-edfd-fa177dedaf97"
      },
      "outputs": [
        {
          "name": "stdout",
          "output_type": "stream",
          "text": [
            "Original Accuracy ===> 93.46957590657652%\n",
            "Accuracy at epsilon= 0.001 ===> 92.79348494161033%\n"
          ]
        }
      ],
      "source": [
        "attack(test_SVHN, Model_Resnet, FGSM, 0.001)"
      ]
    },
    {
      "cell_type": "code",
      "execution_count": null,
      "metadata": {
        "colab": {
          "base_uri": "https://localhost:8080/"
        },
        "id": "yXHEP01lP_S_",
        "outputId": "7fda451b-c1c3-432f-8c12-97ef9816e936"
      },
      "outputs": [
        {
          "name": "stdout",
          "output_type": "stream",
          "text": [
            "Original Accuracy ===> 93.46957590657652%\n",
            "Accuracy at epsilon= 0.002 ===> 92.0059926244622%\n"
          ]
        }
      ],
      "source": [
        "attack(test_SVHN, Model_Resnet, FGSM, 0.002)"
      ]
    },
    {
      "cell_type": "code",
      "execution_count": null,
      "metadata": {
        "colab": {
          "base_uri": "https://localhost:8080/"
        },
        "id": "qCiJRl-1P_S_",
        "outputId": "cd447e04-ca87-4431-87a4-f4744181d6ba"
      },
      "outputs": [
        {
          "name": "stdout",
          "output_type": "stream",
          "text": [
            "Original Accuracy ===> 93.46957590657652%\n",
            "Accuracy at epsilon= 0.004 ===> 90.53088506453597%\n"
          ]
        }
      ],
      "source": [
        "attack(test_SVHN, Model_Resnet, FGSM, 0.004)"
      ]
    },
    {
      "cell_type": "code",
      "execution_count": null,
      "metadata": {
        "colab": {
          "base_uri": "https://localhost:8080/"
        },
        "id": "0rlTB9aiP_TA",
        "outputId": "a1e84589-4122-41e3-8063-bae4bdbec70c"
      },
      "outputs": [
        {
          "name": "stdout",
          "output_type": "stream",
          "text": [
            "Original Accuracy ===> 93.46957590657652%\n",
            "Accuracy at epsilon= 0.008 ===> 87.08128457283344%\n"
          ]
        }
      ],
      "source": [
        "attack(test_SVHN, Model_Resnet, FGSM, 0.008)"
      ]
    },
    {
      "cell_type": "code",
      "execution_count": null,
      "metadata": {
        "colab": {
          "base_uri": "https://localhost:8080/"
        },
        "id": "zc-yfRlHP_TA",
        "outputId": "dbe6e3aa-b04e-4459-9c81-6b67f28ffda8"
      },
      "outputs": [
        {
          "name": "stdout",
          "output_type": "stream",
          "text": [
            "Original Accuracy ===> 93.46957590657652%\n",
            "Accuracy at epsilon= 0.01 ===> 85.2681315304241%\n"
          ]
        }
      ],
      "source": [
        "attack(test_SVHN, Model_Resnet, FGSM, 0.01)"
      ]
    },
    {
      "cell_type": "code",
      "execution_count": null,
      "metadata": {
        "id": "XIsSXNndP_TA"
      },
      "outputs": [],
      "source": [
        "Model_Densenet = model_return('/content/drive/MyDrive/DAI_Assignment_1/Q1/densenet121/lightning_logs/version_1/checkpoints/epoch=19-step=91580.ckpt', Model('densenet_121',num_classes=10))"
      ]
    },
    {
      "cell_type": "code",
      "execution_count": null,
      "metadata": {
        "colab": {
          "base_uri": "https://localhost:8080/"
        },
        "id": "RKjjbwKyP_TA",
        "outputId": "3253851e-7748-4488-eae1-3bead9448d36"
      },
      "outputs": [
        {
          "name": "stdout",
          "output_type": "stream",
          "text": [
            "Original Accuracy ===> 93.68853718500307%\n",
            "Accuracy at epsilon= 0.001 ===> 92.99323909035033%\n"
          ]
        }
      ],
      "source": [
        "attack(test_SVHN, Model_Densenet, FGSM, 0.001)"
      ]
    },
    {
      "cell_type": "code",
      "execution_count": null,
      "metadata": {
        "colab": {
          "base_uri": "https://localhost:8080/"
        },
        "id": "QP-zypK0P_TB",
        "outputId": "34449e97-dbb7-41c2-8532-a8aaba86bbb0"
      },
      "outputs": [
        {
          "name": "stdout",
          "output_type": "stream",
          "text": [
            "Original Accuracy ===> 93.68853718500307%\n",
            "Accuracy at epsilon= 0.002 ===> 92.22111247695143%\n"
          ]
        }
      ],
      "source": [
        "attack(test_SVHN, Model_Densenet, FGSM, 0.002)"
      ]
    },
    {
      "cell_type": "code",
      "execution_count": null,
      "metadata": {
        "colab": {
          "base_uri": "https://localhost:8080/"
        },
        "id": "kxhSWUW7P_TB",
        "outputId": "0bddc92b-b5cc-47b0-cd5f-4624333da19e"
      },
      "outputs": [
        {
          "name": "stdout",
          "output_type": "stream",
          "text": [
            "Original Accuracy ===> 93.68853718500307%\n",
            "Accuracy at epsilon= 0.004 ===> 90.5539336201598%\n"
          ]
        }
      ],
      "source": [
        "attack(test_SVHN, Model_Densenet, FGSM, 0.004)"
      ]
    },
    {
      "cell_type": "code",
      "execution_count": null,
      "metadata": {
        "colab": {
          "base_uri": "https://localhost:8080/"
        },
        "id": "hfhzXnO9P_TB",
        "outputId": "20aec56c-6594-41c8-cec2-d2cbfb54f5a9"
      },
      "outputs": [
        {
          "name": "stdout",
          "output_type": "stream",
          "text": [
            "Original Accuracy ===> 93.68853718500307%\n",
            "Accuracy at epsilon= 0.008 ===> 86.47433927473878%\n"
          ]
        }
      ],
      "source": [
        "attack(test_SVHN, Model_Densenet, FGSM, 0.008)"
      ]
    },
    {
      "cell_type": "code",
      "execution_count": null,
      "metadata": {
        "colab": {
          "base_uri": "https://localhost:8080/"
        },
        "id": "Y2eimDGZP_TB",
        "outputId": "4e7e0eca-7486-4a9a-84bc-b7fb58eeb635"
      },
      "outputs": [
        {
          "name": "stdout",
          "output_type": "stream",
          "text": [
            "Original Accuracy ===> 93.68853718500307%\n",
            "Accuracy at epsilon= 0.01 ===> 84.3577135832821%\n"
          ]
        }
      ],
      "source": [
        "attack(test_SVHN, Model_Densenet, FGSM, 0.01)"
      ]
    },
    {
      "cell_type": "markdown",
      "metadata": {
        "id": "xfgVaS14z2JB"
      },
      "source": [
        "### Testing on SVHN with PGD & Jitter"
      ]
    },
    {
      "cell_type": "code",
      "execution_count": null,
      "metadata": {
        "id": "l4AkeXZAz2Jc"
      },
      "outputs": [],
      "source": [
        "Model_Resnet = model_return('/content/drive/MyDrive/DAI_Assignment_1/Q1/resnet34/lightning_logs/version_3/checkpoints/epoch=19-step=91580.ckpt', Model('resnet_34',num_classes=10))"
      ]
    },
    {
      "cell_type": "code",
      "execution_count": null,
      "metadata": {
        "colab": {
          "base_uri": "https://localhost:8080/"
        },
        "id": "qmD48nyDz2Jd",
        "outputId": "885ce529-2468-4cff-83de-cc669b5ceb82"
      },
      "outputs": [
        {
          "name": "stdout",
          "output_type": "stream",
          "text": [
            "Original Accuracy ===> 93.46957590657652%\n",
            "Accuracy at epsilon= 0.005 ===> 62.20421020282729%\n"
          ]
        }
      ],
      "source": [
        "prebuilt_attack(test_SVHN, Model_Resnet, adv.PGD, 0.005)"
      ]
    },
    {
      "cell_type": "code",
      "execution_count": null,
      "metadata": {
        "colab": {
          "base_uri": "https://localhost:8080/"
        },
        "id": "_tw_gV35z2Jf",
        "outputId": "918ac4cd-c588-4915-f078-1003a49e9317"
      },
      "outputs": [
        {
          "name": "stdout",
          "output_type": "stream",
          "text": [
            "Original Accuracy ===> 93.46957590657652%\n",
            "Accuracy at epsilon= 0.005 ===> 62.146588813767664%\n"
          ]
        }
      ],
      "source": [
        "prebuilt_attack(test_SVHN, Model_Resnet, adv.Jitter, 0.005)"
      ]
    },
    {
      "cell_type": "code",
      "execution_count": null,
      "metadata": {
        "id": "ZUbTt0Slz2Jh"
      },
      "outputs": [],
      "source": [
        "Model_Densenet = model_return('/content/drive/MyDrive/DAI_Assignment_1/Q1/densenet121/lightning_logs/version_1/checkpoints/epoch=19-step=91580.ckpt', Model('densenet_121',num_classes=10))"
      ]
    },
    {
      "cell_type": "code",
      "execution_count": null,
      "metadata": {
        "colab": {
          "background_save": true
        },
        "id": "Yaphs0kVz2Ji",
        "outputId": "fe082aef-f853-4ac6-fa64-a15274d96313"
      },
      "outputs": [
        {
          "name": "stdout",
          "output_type": "stream",
          "text": [
            "Original Accuracy ===> 93.68853718500307%\n",
            "Accuracy at epsilon= 0.005 ===> 64.10571604179471%\n"
          ]
        }
      ],
      "source": [
        "prebuilt_attack(test_SVHN, Model_Densenet, adv.PGD, 0.005)"
      ]
    },
    {
      "cell_type": "code",
      "execution_count": null,
      "metadata": {
        "id": "lXeHc3pkz2Jj",
        "colab": {
          "base_uri": "https://localhost:8080/"
        },
        "outputId": "e1cad92c-254e-43fd-e7b2-22a953a07853"
      },
      "outputs": [
        {
          "output_type": "stream",
          "name": "stdout",
          "text": [
            "Original Accuracy ===> 93.68853718500307%\n",
            "Accuracy at epsilon= 0.005 ===> 64.01736324523664%\n"
          ]
        }
      ],
      "source": [
        "prebuilt_attack(test_SVHN, Model_Densenet, adv.Jitter, 0.005)"
      ]
    },
    {
      "cell_type": "markdown",
      "source": [
        "##(iii)"
      ],
      "metadata": {
        "id": "vPLxJ64oAtg1"
      }
    },
    {
      "cell_type": "markdown",
      "source": [
        "### Distinguishing between Clean and PGD via Resnet34 (SVHN)"
      ],
      "metadata": {
        "id": "1OES8yv3FXOx"
      }
    },
    {
      "cell_type": "code",
      "source": [
        "del attack_res, detect_res\n",
        "attack_res = adv.PGD(model_return('/content/drive/MyDrive/DAI_Assignment_1/Q1/resnet34/lightning_logs/version_3/checkpoints/epoch=19-step=91580.ckpt', Model('resnet_34',num_classes=10)),eps=0.005)\n",
        "detect_res = Detector_Train('resnet_34', attack_res)"
      ],
      "metadata": {
        "id": "x0xADhLuAxZb"
      },
      "execution_count": null,
      "outputs": []
    },
    {
      "cell_type": "code",
      "source": [
        "trainer = pl.Trainer(accelerator='gpu', max_epochs=5, default_root_dir='/content/drive/MyDrive/DAI_Assignment_1/Q1/resnet34_detector', benchmark=True)\n",
        "trainer.fit(detect_res, train_SVHN)\n",
        "del trainer, detect_res, attack_res"
      ],
      "metadata": {
        "id": "3dvIjzU9BoC2"
      },
      "execution_count": null,
      "outputs": []
    },
    {
      "cell_type": "code",
      "source": [
        "torch.backends.cudnn.benchmark = True\n",
        "attack_res = adv.PGD(model_return('/content/drive/MyDrive/DAI_Assignment_1/Q1/resnet34/lightning_logs/version_3/checkpoints/epoch=19-step=91580.ckpt', Model('resnet_34',num_classes=10)),eps=0.005)\n",
        "Model_Resnet = model_return('/content/drive/MyDrive/DAI_Assignment_1/Q1/resnet34_detector/lightning_logs/version_1/checkpoints/epoch=4-step=22895.ckpt', Model('resnet_34',num_classes=2))"
      ],
      "metadata": {
        "id": "dn58WOeb6ocE"
      },
      "execution_count": null,
      "outputs": []
    },
    {
      "cell_type": "code",
      "source": [
        "prebuilt_detect(test_SVHN, Model_Resnet, attack_res, 0.005)\n",
        "del Model_Resnet, attack_res"
      ],
      "metadata": {
        "id": "Laht3X1u6RfZ",
        "colab": {
          "base_uri": "https://localhost:8080/"
        },
        "outputId": "479dafaa-1c96-4c76-bfae-145152cc0223"
      },
      "execution_count": null,
      "outputs": [
        {
          "output_type": "stream",
          "name": "stdout",
          "text": [
            "Clean Accuracy ===> 0.18822987092808852%\n",
            "Attack Accuracy at epsilon= 0.005 ===> 100.0%\n"
          ]
        }
      ]
    },
    {
      "cell_type": "markdown",
      "source": [
        "### Distinguishing between Clean and Jitter via Resnet34 (SVHN)"
      ],
      "metadata": {
        "id": "q2Ft1vFsGMTU"
      }
    },
    {
      "cell_type": "code",
      "source": [
        "attack_res = adv.Jitter(model_return('/content/drive/MyDrive/DAI_Assignment_1/Q1/resnet34/lightning_logs/version_3/checkpoints/epoch=19-step=91580.ckpt', Model('resnet_34',num_classes=10)),eps=0.005)\n",
        "detect_res = Detector_Train('resnet_34', attack_res)"
      ],
      "metadata": {
        "id": "ssvg6pBsGMTa"
      },
      "execution_count": null,
      "outputs": []
    },
    {
      "cell_type": "code",
      "source": [
        "trainer = pl.Trainer(accelerator='gpu', max_epochs=5, resume_from_checkpoint = '/content/drive/MyDrive/DAI_Assignment_1/Q1/resnet34_detector/lightning_logs/version_3/checkpoints/epoch=3-step=18316.ckpt', default_root_dir='/content/drive/MyDrive/DAI_Assignment_1/Q1/resnet34_detector', benchmark=True)\n",
        "trainer.fit(detect_res, train_SVHN)\n",
        "del trainer, detect_res, attack_res"
      ],
      "metadata": {
        "colab": {
          "base_uri": "https://localhost:8080/",
          "height": 486,
          "referenced_widgets": [
            "24ad754166354a2f841c568bb044200e",
            "91937b10178447ba819ba8c6f789be0c",
            "a71e6e8e09694662a689cb4d9e6a99a3",
            "d18452c5a4374f579e73fefd10457dde",
            "88916612e70a4273b378e525ec7acdc3",
            "46dca4d10fc341b4b78f5240b20b52c0",
            "a29adef137034d56a90be9e52c6da32b",
            "f407c1ea4e73460faca3c969b8f72df5",
            "e115d87fa8f848ad90aa688870a97ed4",
            "47f97eae92e44a068c7378b5c6353e1a",
            "bc6b21e99c68483e88cb0de3e17d7629"
          ]
        },
        "outputId": "c18f5b81-5409-4f33-bc3a-a49167de479d",
        "id": "5hdrqAAiGMTa"
      },
      "execution_count": null,
      "outputs": [
        {
          "output_type": "stream",
          "name": "stderr",
          "text": [
            "/usr/local/lib/python3.8/dist-packages/pytorch_lightning/trainer/connectors/checkpoint_connector.py:55: LightningDeprecationWarning: Setting `Trainer(resume_from_checkpoint=)` is deprecated in v1.5 and will be removed in v2.0. Please pass `Trainer.fit(ckpt_path=)` directly instead.\n",
            "  rank_zero_deprecation(\n",
            "INFO:pytorch_lightning.utilities.rank_zero:GPU available: True (cuda), used: True\n",
            "INFO:pytorch_lightning.utilities.rank_zero:TPU available: False, using: 0 TPU cores\n",
            "INFO:pytorch_lightning.utilities.rank_zero:IPU available: False, using: 0 IPUs\n",
            "INFO:pytorch_lightning.utilities.rank_zero:HPU available: False, using: 0 HPUs\n",
            "/usr/local/lib/python3.8/dist-packages/pytorch_lightning/trainer/trainer.py:1906: LightningDeprecationWarning: `trainer.resume_from_checkpoint` is deprecated in v1.5 and will be removed in v2.0. Specify the fit checkpoint path with `trainer.fit(ckpt_path=)` instead.\n",
            "  rank_zero_deprecation(\n",
            "INFO:pytorch_lightning.utilities.rank_zero:Restoring states from the checkpoint path at /content/drive/MyDrive/DAI_Assignment_1/Q1/resnet34_detector/lightning_logs/version_3/checkpoints/epoch=3-step=18316.ckpt\n",
            "/usr/local/lib/python3.8/dist-packages/pytorch_lightning/callbacks/model_checkpoint.py:338: UserWarning: The dirpath has changed from '/content/drive/MyDrive/DAI_Assignment_1/Q1/resnet34_detector/lightning_logs/version_3/checkpoints' to '/content/drive/MyDrive/DAI_Assignment_1/Q1/resnet34_detector/lightning_logs/version_4/checkpoints', therefore `best_model_score`, `kth_best_model_path`, `kth_value`, `last_model_path` and `best_k_models` won't be reloaded. Only `best_model_path` will be reloaded.\n",
            "  warnings.warn(\n",
            "INFO:pytorch_lightning.accelerators.cuda:LOCAL_RANK: 0 - CUDA_VISIBLE_DEVICES: [0]\n",
            "INFO:pytorch_lightning.callbacks.model_summary:\n",
            "  | Name  | Type             | Params\n",
            "-------------------------------------------\n",
            "0 | model | ResNet           | 21.3 M\n",
            "1 | loss  | CrossEntropyLoss | 0     \n",
            "-------------------------------------------\n",
            "21.3 M    Trainable params\n",
            "0         Non-trainable params\n",
            "21.3 M    Total params\n",
            "85.143    Total estimated model params size (MB)\n",
            "INFO:pytorch_lightning.utilities.rank_zero:Restored all states from the checkpoint file at /content/drive/MyDrive/DAI_Assignment_1/Q1/resnet34_detector/lightning_logs/version_3/checkpoints/epoch=3-step=18316.ckpt\n"
          ]
        },
        {
          "output_type": "display_data",
          "data": {
            "text/plain": [
              "Training: 4579it [00:00, ?it/s]"
            ],
            "application/vnd.jupyter.widget-view+json": {
              "version_major": 2,
              "version_minor": 0,
              "model_id": "24ad754166354a2f841c568bb044200e"
            }
          },
          "metadata": {}
        },
        {
          "output_type": "stream",
          "name": "stderr",
          "text": [
            "INFO:pytorch_lightning.utilities.rank_zero:`Trainer.fit` stopped: `max_epochs=5` reached.\n"
          ]
        }
      ]
    },
    {
      "cell_type": "code",
      "source": [
        "attack_res = adv.Jitter(model_return('/content/drive/MyDrive/DAI_Assignment_1/Q1/resnet34/lightning_logs/version_3/checkpoints/epoch=19-step=91580.ckpt', Model('resnet_34',num_classes=10)),eps=0.005)\n",
        "Model_Resnet = model_return('/content/drive/MyDrive/DAI_Assignment_1/Q1/resnet34_detector/lightning_logs/version_4/checkpoints/epoch=4-step=22895.ckpt', Model('resnet_34',num_classes=2))\n",
        "prebuilt_detect(test_SVHN, Model_Resnet, attack_res, 0.005)\n",
        "del Model_Resnet, attack_res"
      ],
      "metadata": {
        "colab": {
          "base_uri": "https://localhost:8080/"
        },
        "id": "FI-ZV3137ADy",
        "outputId": "b20f6bd3-f278-401b-f608-0aa95e2de3fe"
      },
      "execution_count": null,
      "outputs": [
        {
          "output_type": "stream",
          "name": "stdout",
          "text": [
            "Clean Accuracy ===> 73.5479409956976%\n",
            "Attack Accuracy at epsilon= 0.005 ===> 0.0%\n"
          ]
        }
      ]
    },
    {
      "cell_type": "markdown",
      "source": [
        "### Distinguishing between Clean and FGSM via Resnet34 (SVHN)"
      ],
      "metadata": {
        "id": "HdW_DJCVwvqn"
      }
    },
    {
      "cell_type": "code",
      "source": [
        "attack_res = adv.FGSM(model_return('/content/drive/MyDrive/DAI_Assignment_1/Q1/resnet34/lightning_logs/version_3/checkpoints/epoch=19-step=91580.ckpt', Model('resnet_34',num_classes=10)),eps=0.005)\n",
        "detect_res = Detector_Train('resnet_34', attack_res)"
      ],
      "metadata": {
        "id": "j0uaS6C3wvqt"
      },
      "execution_count": null,
      "outputs": []
    },
    {
      "cell_type": "code",
      "source": [
        "trainer = pl.Trainer(accelerator='gpu', max_epochs=5, default_root_dir='/content/drive/MyDrive/DAI_Assignment_1/Q1/resnet34_detector', benchmark=True)\n",
        "trainer.fit(detect_res, train_SVHN)\n",
        "del trainer, detect_res, attack_res"
      ],
      "metadata": {
        "colab": {
          "base_uri": "https://localhost:8080/",
          "height": 327,
          "referenced_widgets": [
            "a56fd153bf754335bacd79f01b341098",
            "8fd608cf8b914faea2087751ee662a43",
            "e7964fafec7647fa8252ea3ab75dd216",
            "ac2e0339890b4e3ea73feff1bc4f47d8",
            "06184b3106e04467bc16493cd6430430",
            "4def72c98b954d899be9cab3eb8c3d4e",
            "ca3b06e00c424c6d9d1db3f44d5fd170",
            "af5cbe806f614da5b3a00b8b2e8c4fa5",
            "807b2597d10c40b5a40f8d6dc2c81ed1",
            "453f0a5d98b740b9b20659e5c78c63c9",
            "df34e41a816d415db262f2f0e3f49d24"
          ]
        },
        "outputId": "5293d7ac-9f86-437d-e221-108004248e82",
        "id": "EU5Osaufwvqt"
      },
      "execution_count": null,
      "outputs": [
        {
          "output_type": "stream",
          "name": "stderr",
          "text": [
            "INFO:pytorch_lightning.utilities.rank_zero:GPU available: True (cuda), used: True\n",
            "INFO:pytorch_lightning.utilities.rank_zero:TPU available: False, using: 0 TPU cores\n",
            "INFO:pytorch_lightning.utilities.rank_zero:IPU available: False, using: 0 IPUs\n",
            "INFO:pytorch_lightning.utilities.rank_zero:HPU available: False, using: 0 HPUs\n",
            "INFO:pytorch_lightning.accelerators.cuda:LOCAL_RANK: 0 - CUDA_VISIBLE_DEVICES: [0]\n",
            "INFO:pytorch_lightning.callbacks.model_summary:\n",
            "  | Name  | Type             | Params\n",
            "-------------------------------------------\n",
            "0 | model | ResNet           | 21.3 M\n",
            "1 | loss  | CrossEntropyLoss | 0     \n",
            "-------------------------------------------\n",
            "21.3 M    Trainable params\n",
            "0         Non-trainable params\n",
            "21.3 M    Total params\n",
            "85.143    Total estimated model params size (MB)\n"
          ]
        },
        {
          "output_type": "display_data",
          "data": {
            "text/plain": [
              "Training: 0it [00:00, ?it/s]"
            ],
            "application/vnd.jupyter.widget-view+json": {
              "version_major": 2,
              "version_minor": 0,
              "model_id": "a56fd153bf754335bacd79f01b341098"
            }
          },
          "metadata": {}
        },
        {
          "output_type": "stream",
          "name": "stderr",
          "text": [
            "INFO:pytorch_lightning.utilities.rank_zero:`Trainer.fit` stopped: `max_epochs=5` reached.\n"
          ]
        }
      ]
    },
    {
      "cell_type": "code",
      "source": [
        "attack_res = adv.FGSM(model_return('/content/drive/MyDrive/DAI_Assignment_1/Q1/resnet34/lightning_logs/version_3/checkpoints/epoch=19-step=91580.ckpt', Model('resnet_34',num_classes=10)),eps=0.005)\n",
        "Model_Resnet = model_return('/content/drive/MyDrive/DAI_Assignment_1/Q1/resnet34_detector/lightning_logs/version_5/checkpoints/epoch=4-step=22895.ckpt', Model('resnet_34',num_classes=2))\n",
        "prebuilt_detect(test_SVHN, Model_Resnet, attack_res, 0.005)\n",
        "del Model_Resnet, attack_res"
      ],
      "metadata": {
        "colab": {
          "base_uri": "https://localhost:8080/"
        },
        "id": "qSC3n9Of7DNe",
        "outputId": "37c74c78-2ec6-47c9-aa48-b5568f4c5d1b"
      },
      "execution_count": null,
      "outputs": [
        {
          "output_type": "stream",
          "name": "stdout",
          "text": [
            "Clean Accuracy ===> 71.7040565457898%\n",
            "Attack Accuracy at epsilon= 0.005 ===> 0.0%\n"
          ]
        }
      ]
    },
    {
      "cell_type": "markdown",
      "source": [
        "### Distinguishing between Clean and PGD via Resnet34 (CIFAR10)"
      ],
      "metadata": {
        "id": "vb5XAnxV_gLe"
      }
    },
    {
      "cell_type": "code",
      "source": [
        "attack_res = adv.PGD(model_return('/content/drive/MyDrive/DAI_Assignment_1/Q1/resnet34/lightning_logs/version_1/checkpoints/epoch=19-step=62500.ckpt', Model('resnet_34',num_classes=10)),eps=0.005)\n",
        "detect_res = Detector_Train('resnet_34', attack_res)"
      ],
      "metadata": {
        "id": "WE-ylCN-_gLo"
      },
      "execution_count": null,
      "outputs": []
    },
    {
      "cell_type": "code",
      "source": [
        "trainer = pl.Trainer(accelerator='gpu', max_epochs=5, default_root_dir='/content/drive/MyDrive/DAI_Assignment_1/Q1/resnet34_detector_cifar', benchmark=True)\n",
        "trainer.fit(detect_res, train_CIFAR10)\n",
        "del trainer, detect_res, attack_res"
      ],
      "metadata": {
        "colab": {
          "base_uri": "https://localhost:8080/",
          "height": 327,
          "referenced_widgets": [
            "3ed0038502d6474483f79b6743e86c7a",
            "859e4cac5ebf43ebaf1a2fc569554fe7",
            "d9230ffb5d7f4791bf0474ab7629a7fc",
            "903559e8148b42b49e4d027d7e1f38e0",
            "ba085d8fddbf468dbf1ba54b6adee7a6",
            "ab69ca03db554bfb8113bd8515d5449a",
            "9c5d88346f8d40f2b61eba50b58312ac",
            "cb7c561854d4400e8a9ada2858f5f821",
            "49c6c0f884a049cda82fca76272bc747",
            "410c68516e4a4247adb7ecdc270d0878",
            "902a55e237d446f1b8b76baeea69a79e"
          ]
        },
        "id": "HJS7EiN7_gLp",
        "outputId": "97dbc93a-290a-4741-efde-7327ba90da0c"
      },
      "execution_count": null,
      "outputs": [
        {
          "output_type": "stream",
          "name": "stderr",
          "text": [
            "INFO:pytorch_lightning.utilities.rank_zero:GPU available: True (cuda), used: True\n",
            "INFO:pytorch_lightning.utilities.rank_zero:TPU available: False, using: 0 TPU cores\n",
            "INFO:pytorch_lightning.utilities.rank_zero:IPU available: False, using: 0 IPUs\n",
            "INFO:pytorch_lightning.utilities.rank_zero:HPU available: False, using: 0 HPUs\n",
            "INFO:pytorch_lightning.accelerators.cuda:LOCAL_RANK: 0 - CUDA_VISIBLE_DEVICES: [0]\n",
            "INFO:pytorch_lightning.callbacks.model_summary:\n",
            "  | Name  | Type             | Params\n",
            "-------------------------------------------\n",
            "0 | model | ResNet           | 21.3 M\n",
            "1 | loss  | CrossEntropyLoss | 0     \n",
            "-------------------------------------------\n",
            "21.3 M    Trainable params\n",
            "0         Non-trainable params\n",
            "21.3 M    Total params\n",
            "85.143    Total estimated model params size (MB)\n"
          ]
        },
        {
          "output_type": "display_data",
          "data": {
            "text/plain": [
              "Training: 0it [00:00, ?it/s]"
            ],
            "application/vnd.jupyter.widget-view+json": {
              "version_major": 2,
              "version_minor": 0,
              "model_id": "3ed0038502d6474483f79b6743e86c7a"
            }
          },
          "metadata": {}
        },
        {
          "output_type": "stream",
          "name": "stderr",
          "text": [
            "INFO:pytorch_lightning.utilities.rank_zero:`Trainer.fit` stopped: `max_epochs=5` reached.\n"
          ]
        }
      ]
    },
    {
      "cell_type": "code",
      "source": [
        "attack_res = adv.PGD(model_return('/content/drive/MyDrive/DAI_Assignment_1/Q1/resnet34/lightning_logs/version_1/checkpoints/epoch=19-step=62500.ckpt', Model('resnet_34',num_classes=10)),eps=0.005)\n",
        "Model_Resnet = model_return('/content/drive/MyDrive/DAI_Assignment_1/Q1/resnet34_detector_cifar/lightning_logs/version_3/checkpoints/epoch=4-step=15625.ckpt', Model('resnet_34',num_classes=2))\n",
        "prebuilt_detect(test_CIFAR10, Model_Resnet, attack_res, 0.005)\n",
        "del Model_Resnet, attack_res"
      ],
      "metadata": {
        "colab": {
          "base_uri": "https://localhost:8080/"
        },
        "id": "yBU9npQVAN4C",
        "outputId": "8aedf510-7053-464b-d7b7-1cc78e48bd3c"
      },
      "execution_count": null,
      "outputs": [
        {
          "output_type": "stream",
          "name": "stdout",
          "text": [
            "Clean Accuracy ===> 3.36%\n",
            "Attack Accuracy at epsilon= 0.005 ===> 96.64%\n"
          ]
        }
      ]
    },
    {
      "cell_type": "markdown",
      "source": [
        "### Distinguishing between Clean and Jitter via Resnet34 (CIFAR10)"
      ],
      "metadata": {
        "id": "BprHFpK__gLp"
      }
    },
    {
      "cell_type": "code",
      "source": [
        "attack_res = adv.Jitter(model_return('/content/drive/MyDrive/DAI_Assignment_1/Q1/resnet34/lightning_logs/version_1/checkpoints/epoch=19-step=62500.ckpt', Model('resnet_34',num_classes=10)),eps=0.005)\n",
        "detect_res = Detector_Train('resnet_34', attack_res)"
      ],
      "metadata": {
        "id": "Mer_hmli_gLp"
      },
      "execution_count": null,
      "outputs": []
    },
    {
      "cell_type": "code",
      "source": [
        "trainer = pl.Trainer(accelerator='gpu', max_epochs=5, default_root_dir='/content/drive/MyDrive/DAI_Assignment_1/Q1/resnet34_detector_cifar', benchmark=True)\n",
        "trainer.fit(detect_res, train_CIFAR10)\n",
        "del trainer, detect_res, attack_res"
      ],
      "metadata": {
        "colab": {
          "base_uri": "https://localhost:8080/",
          "referenced_widgets": [
            "c4d8215987a04a19b3be64d9d8786e84",
            "66133284a75c4cbf8bcf9eca8b90ee20",
            "81b66b6e70aa49ef8476059309e68bdc",
            "3b3d659a806d481a9449477b88331eb5",
            "60215db0fb0e492ba71b441c0d4a7291",
            "3c019e6079f94a15a0fe07928850b5d3",
            "aec9c7f0c95040a1b072c4cf71f1fbdf",
            "cc212d3fda5c4221a693b4dbaf94493c",
            "104118c1bacb4aada1dd62be40034039",
            "fd94485e13a64c9685e1d9078ae247d2",
            "bc408c537e124a208fc307cba975d37c"
          ],
          "height": 327
        },
        "outputId": "0f699f98-8453-4b57-9538-3b819b4acfc5",
        "id": "R0dF3qDh_gLq"
      },
      "execution_count": null,
      "outputs": [
        {
          "output_type": "stream",
          "name": "stderr",
          "text": [
            "INFO:pytorch_lightning.utilities.rank_zero:GPU available: True (cuda), used: True\n",
            "INFO:pytorch_lightning.utilities.rank_zero:TPU available: False, using: 0 TPU cores\n",
            "INFO:pytorch_lightning.utilities.rank_zero:IPU available: False, using: 0 IPUs\n",
            "INFO:pytorch_lightning.utilities.rank_zero:HPU available: False, using: 0 HPUs\n",
            "INFO:pytorch_lightning.accelerators.cuda:LOCAL_RANK: 0 - CUDA_VISIBLE_DEVICES: [0]\n",
            "INFO:pytorch_lightning.callbacks.model_summary:\n",
            "  | Name  | Type             | Params\n",
            "-------------------------------------------\n",
            "0 | model | ResNet           | 21.3 M\n",
            "1 | loss  | CrossEntropyLoss | 0     \n",
            "-------------------------------------------\n",
            "21.3 M    Trainable params\n",
            "0         Non-trainable params\n",
            "21.3 M    Total params\n",
            "85.143    Total estimated model params size (MB)\n"
          ]
        },
        {
          "output_type": "display_data",
          "data": {
            "text/plain": [
              "Training: 0it [00:00, ?it/s]"
            ],
            "application/vnd.jupyter.widget-view+json": {
              "version_major": 2,
              "version_minor": 0,
              "model_id": "c4d8215987a04a19b3be64d9d8786e84"
            }
          },
          "metadata": {}
        },
        {
          "output_type": "stream",
          "name": "stderr",
          "text": [
            "INFO:pytorch_lightning.utilities.rank_zero:`Trainer.fit` stopped: `max_epochs=5` reached.\n"
          ]
        }
      ]
    },
    {
      "cell_type": "code",
      "source": [
        "attack_res = adv.Jitter(model_return('/content/drive/MyDrive/DAI_Assignment_1/Q1/resnet34/lightning_logs/version_1/checkpoints/epoch=19-step=62500.ckpt', Model('resnet_34',num_classes=10)),eps=0.005)\n",
        "Model_Resnet = model_return('/content/drive/MyDrive/DAI_Assignment_1/Q1/resnet34_detector_cifar/lightning_logs/version_4/checkpoints/epoch=4-step=15625.ckpt', Model('resnet_34',num_classes=2))\n",
        "prebuilt_detect(test_CIFAR10, Model_Resnet, attack_res, 0.005)\n",
        "del Model_Resnet, attack_res"
      ],
      "metadata": {
        "colab": {
          "base_uri": "https://localhost:8080/"
        },
        "id": "OEyMcQ-U7WzW",
        "outputId": "702d5e78-1937-46bc-cb86-377a61ba65bc"
      },
      "execution_count": null,
      "outputs": [
        {
          "output_type": "stream",
          "name": "stdout",
          "text": [
            "Clean Accuracy ===> 17.119999999999997%\n",
            "Attack Accuracy at epsilon= 0.005 ===> 82.89%\n"
          ]
        }
      ]
    },
    {
      "cell_type": "markdown",
      "source": [
        "### Distinguishing between Clean and FGSM via Resnet34 (CIFAR10)"
      ],
      "metadata": {
        "id": "qXBHLuW6w4h_"
      }
    },
    {
      "cell_type": "code",
      "source": [
        "attack_res = adv.FGSM(model_return('/content/drive/MyDrive/DAI_Assignment_1/Q1/resnet34/lightning_logs/version_1/checkpoints/epoch=19-step=62500.ckpt', Model('resnet_34',num_classes=10)),eps=0.005)\n",
        "detect_res = Detector_Train('resnet_34', attack_res)"
      ],
      "metadata": {
        "id": "tlO__bkPw4iA"
      },
      "execution_count": null,
      "outputs": []
    },
    {
      "cell_type": "code",
      "source": [
        "trainer = pl.Trainer(accelerator='gpu', max_epochs=5, default_root_dir='/content/drive/MyDrive/DAI_Assignment_1/Q1/resnet34_detector_cifar', benchmark=True)\n",
        "trainer.fit(detect_res, train_CIFAR10)\n",
        "del trainer, detect_res, attack_res"
      ],
      "metadata": {
        "colab": {
          "base_uri": "https://localhost:8080/",
          "referenced_widgets": [
            "315daf7916d84a3a956384669765aab7",
            "b0edd93144d3406692322eb8c0c19c09",
            "78ee77c01a2f4ae5bad2a98166bf8951",
            "1a6df4f7898a4a0f8bd5c6a067495bf6",
            "2fa44f891e584cf186ea6f05f3a1f21b",
            "7b2b8390549147fda0c3617e0fa568e8",
            "0e386a806c49464988491e513edfa226",
            "b10aa281113f4c1c956e8a0db91128d9",
            "bfeac61698be44f6b2b4c7c8cdc92eeb",
            "609659d257294dd89960aea296ffff69",
            "f20d7693deba4e5d8193e1fad4b623a8"
          ],
          "height": 327
        },
        "outputId": "f87e8d67-f4c9-487f-f643-09b34b2f84f7",
        "id": "jVCt5NdVw4iA"
      },
      "execution_count": null,
      "outputs": [
        {
          "output_type": "stream",
          "name": "stderr",
          "text": [
            "INFO:pytorch_lightning.utilities.rank_zero:GPU available: True (cuda), used: True\n",
            "INFO:pytorch_lightning.utilities.rank_zero:TPU available: False, using: 0 TPU cores\n",
            "INFO:pytorch_lightning.utilities.rank_zero:IPU available: False, using: 0 IPUs\n",
            "INFO:pytorch_lightning.utilities.rank_zero:HPU available: False, using: 0 HPUs\n",
            "INFO:pytorch_lightning.accelerators.cuda:LOCAL_RANK: 0 - CUDA_VISIBLE_DEVICES: [0]\n",
            "INFO:pytorch_lightning.callbacks.model_summary:\n",
            "  | Name  | Type             | Params\n",
            "-------------------------------------------\n",
            "0 | model | ResNet           | 21.3 M\n",
            "1 | loss  | CrossEntropyLoss | 0     \n",
            "-------------------------------------------\n",
            "21.3 M    Trainable params\n",
            "0         Non-trainable params\n",
            "21.3 M    Total params\n",
            "85.143    Total estimated model params size (MB)\n"
          ]
        },
        {
          "output_type": "display_data",
          "data": {
            "text/plain": [
              "Training: 0it [00:00, ?it/s]"
            ],
            "application/vnd.jupyter.widget-view+json": {
              "version_major": 2,
              "version_minor": 0,
              "model_id": "315daf7916d84a3a956384669765aab7"
            }
          },
          "metadata": {}
        },
        {
          "output_type": "stream",
          "name": "stderr",
          "text": [
            "INFO:pytorch_lightning.utilities.rank_zero:`Trainer.fit` stopped: `max_epochs=5` reached.\n"
          ]
        }
      ]
    },
    {
      "cell_type": "code",
      "source": [
        "attack_res = adv.FGSM(model_return('/content/drive/MyDrive/DAI_Assignment_1/Q1/resnet34/lightning_logs/version_1/checkpoints/epoch=19-step=62500.ckpt', Model('resnet_34',num_classes=10)),eps=0.005)\n",
        "Model_Resnet = model_return('/content/drive/MyDrive/DAI_Assignment_1/Q1/resnet34_detector_cifar/lightning_logs/version_2/checkpoints/epoch=4-step=15625.ckpt', Model('resnet_34',num_classes=2))\n",
        "prebuilt_detect(test_CIFAR10, Model_Resnet, attack_res, 0.005)\n",
        "del Model_Resnet, attack_res"
      ],
      "metadata": {
        "colab": {
          "base_uri": "https://localhost:8080/"
        },
        "id": "t_QharHz7bCJ",
        "outputId": "3dc7cdd8-627e-4814-a74c-ba23355c8478"
      },
      "execution_count": null,
      "outputs": [
        {
          "output_type": "stream",
          "name": "stdout",
          "text": [
            "Clean Accuracy ===> 92.4%\n",
            "Attack Accuracy at epsilon= 0.005 ===> 7.62%\n"
          ]
        }
      ]
    },
    {
      "cell_type": "markdown",
      "source": [
        "### Cross-Attack Generalizability (Trained on FGSM and tested on PGD and Jitter)"
      ],
      "metadata": {
        "id": "S78CRjGFGox1"
      }
    },
    {
      "cell_type": "code",
      "source": [
        "attack_res = adv.PGD(model_return('/content/drive/MyDrive/DAI_Assignment_1/Q1/resnet34/lightning_logs/version_1/checkpoints/epoch=19-step=62500.ckpt', Model('resnet_34',num_classes=10)),eps=0.005)\n",
        "Model_Resnet = model_return('/content/drive/MyDrive/DAI_Assignment_1/Q1/resnet34_detector_cifar/lightning_logs/version_2/checkpoints/epoch=4-step=15625.ckpt', Model('resnet_34',num_classes=2))\n",
        "prebuilt_detect(test_CIFAR10, Model_Resnet, attack_res, 0.005)\n",
        "del Model_Resnet, attack_res"
      ],
      "metadata": {
        "colab": {
          "base_uri": "https://localhost:8080/"
        },
        "id": "ypfTjo0aGpFf",
        "outputId": "fa0c4aae-e864-4908-8b12-6c1a2cb7d07f"
      },
      "execution_count": null,
      "outputs": [
        {
          "output_type": "stream",
          "name": "stdout",
          "text": [
            "Clean Accuracy ===> 92.4%\n",
            "Attack Accuracy at epsilon= 0.005 ===> 7.5600000000000005%\n"
          ]
        }
      ]
    },
    {
      "cell_type": "code",
      "source": [
        "attack_res = adv.Jitter(model_return('/content/drive/MyDrive/DAI_Assignment_1/Q1/resnet34/lightning_logs/version_1/checkpoints/epoch=19-step=62500.ckpt', Model('resnet_34',num_classes=10)),eps=0.005)\n",
        "Model_Resnet = model_return('/content/drive/MyDrive/DAI_Assignment_1/Q1/resnet34_detector_cifar/lightning_logs/version_2/checkpoints/epoch=4-step=15625.ckpt', Model('resnet_34',num_classes=2))\n",
        "prebuilt_detect(test_CIFAR10, Model_Resnet, attack_res, 0.005)\n",
        "del Model_Resnet, attack_res"
      ],
      "metadata": {
        "colab": {
          "base_uri": "https://localhost:8080/"
        },
        "id": "XWTf9hluG69G",
        "outputId": "eaa70da7-ce75-418e-cfb0-adff95f32658"
      },
      "execution_count": null,
      "outputs": [
        {
          "output_type": "stream",
          "name": "stdout",
          "text": [
            "Clean Accuracy ===> 92.4%\n",
            "Attack Accuracy at epsilon= 0.005 ===> 7.6%\n"
          ]
        }
      ]
    },
    {
      "cell_type": "markdown",
      "source": [
        "### Cross-Attack Generalizability (Trained on Jitter and tested on PGD and FGSM)"
      ],
      "metadata": {
        "id": "Ig1kmrBtHEcc"
      }
    },
    {
      "cell_type": "code",
      "source": [
        "attack_res = adv.PGD(model_return('/content/drive/MyDrive/DAI_Assignment_1/Q1/resnet34/lightning_logs/version_1/checkpoints/epoch=19-step=62500.ckpt', Model('resnet_34',num_classes=10)),eps=0.005)\n",
        "Model_Resnet = model_return('/content/drive/MyDrive/DAI_Assignment_1/Q1/resnet34_detector_cifar/lightning_logs/version_4/checkpoints/epoch=4-step=15625.ckpt', Model('resnet_34',num_classes=2))\n",
        "prebuilt_detect(test_CIFAR10, Model_Resnet, attack_res, 0.005)\n",
        "del Model_Resnet, attack_res"
      ],
      "metadata": {
        "colab": {
          "base_uri": "https://localhost:8080/"
        },
        "id": "uT6G3R51HEcc",
        "outputId": "3a43d485-99da-41aa-d34d-51795b91ca05"
      },
      "execution_count": null,
      "outputs": [
        {
          "output_type": "stream",
          "name": "stdout",
          "text": [
            "Clean Accuracy ===> 17.119999999999997%\n",
            "Attack Accuracy at epsilon= 0.005 ===> 82.88%\n"
          ]
        }
      ]
    },
    {
      "cell_type": "code",
      "source": [
        "attack_res = adv.FGSM(model_return('/content/drive/MyDrive/DAI_Assignment_1/Q1/resnet34/lightning_logs/version_1/checkpoints/epoch=19-step=62500.ckpt', Model('resnet_34',num_classes=10)),eps=0.005)\n",
        "Model_Resnet = model_return('/content/drive/MyDrive/DAI_Assignment_1/Q1/resnet34_detector_cifar/lightning_logs/version_4/checkpoints/epoch=4-step=15625.ckpt', Model('resnet_34',num_classes=2))\n",
        "prebuilt_detect(test_CIFAR10, Model_Resnet, attack_res, 0.005)\n",
        "del Model_Resnet, attack_res"
      ],
      "metadata": {
        "colab": {
          "base_uri": "https://localhost:8080/"
        },
        "id": "CmXhIPmlHEcd",
        "outputId": "4a59df81-4704-45c5-b70e-23f74fd93b96"
      },
      "execution_count": null,
      "outputs": [
        {
          "output_type": "stream",
          "name": "stdout",
          "text": [
            "Clean Accuracy ===> 17.119999999999997%\n",
            "Attack Accuracy at epsilon= 0.005 ===> 82.91%\n"
          ]
        }
      ]
    },
    {
      "cell_type": "markdown",
      "source": [
        "### Cross-Attack Generalizability (Trained on PGD and tested on Jitter and FGSM)"
      ],
      "metadata": {
        "id": "i9-xHg7yHSJE"
      }
    },
    {
      "cell_type": "code",
      "source": [
        "attack_res = adv.Jitter(model_return('/content/drive/MyDrive/DAI_Assignment_1/Q1/resnet34/lightning_logs/version_1/checkpoints/epoch=19-step=62500.ckpt', Model('resnet_34',num_classes=10)),eps=0.005)\n",
        "Model_Resnet = model_return('/content/drive/MyDrive/DAI_Assignment_1/Q1/resnet34_detector_cifar/lightning_logs/version_3/checkpoints/epoch=4-step=15625.ckpt', Model('resnet_34',num_classes=2))\n",
        "prebuilt_detect(test_CIFAR10, Model_Resnet, attack_res, 0.005)\n",
        "del Model_Resnet, attack_res"
      ],
      "metadata": {
        "id": "vVuvD3V7HSJK",
        "colab": {
          "base_uri": "https://localhost:8080/"
        },
        "outputId": "2e77b8e8-5981-45dc-c283-ae7aed7065c1"
      },
      "execution_count": null,
      "outputs": [
        {
          "output_type": "stream",
          "name": "stdout",
          "text": [
            "Clean Accuracy ===> 3.36%\n",
            "Attack Accuracy at epsilon= 0.005 ===> 96.64%\n"
          ]
        }
      ]
    },
    {
      "cell_type": "code",
      "source": [
        "attack_res = adv.FGSM(model_return('/content/drive/MyDrive/DAI_Assignment_1/Q1/resnet34/lightning_logs/version_1/checkpoints/epoch=19-step=62500.ckpt', Model('resnet_34',num_classes=10)),eps=0.005)\n",
        "Model_Resnet = model_return('/content/drive/MyDrive/DAI_Assignment_1/Q1/resnet34_detector_cifar/lightning_logs/version_3/checkpoints/epoch=4-step=15625.ckpt', Model('resnet_34',num_classes=2))\n",
        "prebuilt_detect(test_CIFAR10, Model_Resnet, attack_res, 0.005)\n",
        "del Model_Resnet, attack_res"
      ],
      "metadata": {
        "id": "mP5Di37cHSJK",
        "colab": {
          "base_uri": "https://localhost:8080/"
        },
        "outputId": "5496298f-7b50-4299-cc8b-7f23ca13fb8f"
      },
      "execution_count": null,
      "outputs": [
        {
          "output_type": "stream",
          "name": "stdout",
          "text": [
            "Clean Accuracy ===> 3.36%\n",
            "Attack Accuracy at epsilon= 0.005 ===> 96.63000000000001%\n"
          ]
        }
      ]
    },
    {
      "cell_type": "markdown",
      "source": [
        "### Cross-Domain Generalizability (Trained on SVHN and tested on CIFAR10 with FGSM)"
      ],
      "metadata": {
        "id": "2Fl38-N9SsAu"
      }
    },
    {
      "cell_type": "code",
      "source": [
        "attack_res = adv.FGSM(model_return('/content/drive/MyDrive/DAI_Assignment_1/Q1/resnet34/lightning_logs/version_1/checkpoints/epoch=19-step=62500.ckpt', Model('resnet_34',num_classes=10)),eps=0.005)\n",
        "Model_Resnet = model_return('/content/drive/MyDrive/DAI_Assignment_1/Q1/resnet34_detector/lightning_logs/version_5/checkpoints/epoch=4-step=22895.ckpt', Model('resnet_34',num_classes=2))\n",
        "prebuilt_detect(test_CIFAR10, Model_Resnet, attack_res, 0.005)\n",
        "del Model_Resnet, attack_res"
      ],
      "metadata": {
        "colab": {
          "base_uri": "https://localhost:8080/"
        },
        "outputId": "503740e0-62a0-4509-bfa5-eebc71559cc9",
        "id": "B1LRvvwISsA0"
      },
      "execution_count": null,
      "outputs": [
        {
          "output_type": "stream",
          "name": "stdout",
          "text": [
            "Clean Accuracy ===> 100.0%\n",
            "Attack Accuracy at epsilon= 0.005 ===> 0.0%\n"
          ]
        }
      ]
    },
    {
      "cell_type": "markdown",
      "source": [
        "### Cross-Domain Generalizability (Trained on SVHN and tested on CIFAR10 with PGD)"
      ],
      "metadata": {
        "id": "5Y9lNFrpSsA0"
      }
    },
    {
      "cell_type": "code",
      "source": [
        "attack_res = adv.PGD(model_return('/content/drive/MyDrive/DAI_Assignment_1/Q1/resnet34/lightning_logs/version_1/checkpoints/epoch=19-step=62500.ckpt', Model('resnet_34',num_classes=10)),eps=0.005)\n",
        "Model_Resnet = model_return('/content/drive/MyDrive/DAI_Assignment_1/Q1/resnet34_detector/lightning_logs/version_5/checkpoints/epoch=4-step=22895.ckpt', Model('resnet_34',num_classes=2))\n",
        "prebuilt_detect(test_CIFAR10, Model_Resnet, attack_res, 0.005)\n",
        "del Model_Resnet, attack_res"
      ],
      "metadata": {
        "colab": {
          "base_uri": "https://localhost:8080/"
        },
        "outputId": "24b63bf5-9457-4c94-ebdf-825e68a3ce0e",
        "id": "YXim-CWBSsA0"
      },
      "execution_count": null,
      "outputs": [
        {
          "output_type": "stream",
          "name": "stdout",
          "text": [
            "Clean Accuracy ===> 100.0%\n",
            "Attack Accuracy at epsilon= 0.005 ===> 0.0%\n"
          ]
        }
      ]
    },
    {
      "cell_type": "markdown",
      "source": [
        "### Cross-Domain Generalizability (Trained on SVHN and tested on CIFAR10 with Jitter)"
      ],
      "metadata": {
        "id": "TD7MraPsSsA1"
      }
    },
    {
      "cell_type": "code",
      "source": [
        "attack_res = adv.Jitter(model_return('/content/drive/MyDrive/DAI_Assignment_1/Q1/resnet34/lightning_logs/version_1/checkpoints/epoch=19-step=62500.ckpt', Model('resnet_34',num_classes=10)),eps=0.005)\n",
        "Model_Resnet = model_return('/content/drive/MyDrive/DAI_Assignment_1/Q1/resnet34_detector/lightning_logs/version_5/checkpoints/epoch=4-step=22895.ckpt', Model('resnet_34',num_classes=2))\n",
        "prebuilt_detect(test_CIFAR10, Model_Resnet, attack_res, 0.005)\n",
        "del Model_Resnet, attack_res"
      ],
      "metadata": {
        "colab": {
          "base_uri": "https://localhost:8080/"
        },
        "outputId": "38f5244d-a465-49b6-a3a2-bed027216fb5",
        "id": "wT5vRM2gSsA1"
      },
      "execution_count": null,
      "outputs": [
        {
          "output_type": "stream",
          "name": "stdout",
          "text": [
            "Clean Accuracy ===> 100.0%\n",
            "Attack Accuracy at epsilon= 0.005 ===> 0.0%\n"
          ]
        }
      ]
    },
    {
      "cell_type": "markdown",
      "source": [
        "#Question-2\n",
        "###Drive Link--->(https://drive.google.com/drive/folders/1lMVAN3glfGllGXQzQODKoH5U_QdEQ3n-?usp=sharing)"
      ],
      "metadata": {
        "id": "r8YjXUQagDTq"
      }
    },
    {
      "cell_type": "markdown",
      "source": [
        "##Utility Functions and Classes"
      ],
      "metadata": {
        "id": "5LSaRm1qh7T4"
      }
    },
    {
      "cell_type": "code",
      "source": [
        "class Detector_Face(pl.LightningModule):\n",
        "\n",
        "  def __init__(self, model_name):\n",
        "    super().__init__()\n",
        "    self.model_name = model_name\n",
        "    if self.model_name=='resnet_34':\n",
        "      self.model = models.resnet34(weights=None)\n",
        "      self.features = self.model.fc.in_features \n",
        "      self.model.fc = nn.Linear(self.features,2)\n",
        "    if self.model_name=='densenet_121':\n",
        "      self.model = models.densenet121(weights=None)\n",
        "      self.features = self.model.classifier.in_features\n",
        "      self.model.classifier = nn.Linear(self.features,2)\n",
        "    self.loss = nn.CrossEntropyLoss()\n",
        "\n",
        "  def forward(self, x):\n",
        "    return self.model(x)\n",
        "\n",
        "  def training_step(self, batch, batch_no):\n",
        "    x, y = batch\n",
        "    logits = self(x)\n",
        "    loss = self.loss(logits,y)\n",
        "    return loss\n",
        "\n",
        "  def configure_optimizers(self):\n",
        "    return torch.optim.Adam(self.parameters(),lr=0.001)"
      ],
      "metadata": {
        "id": "dvBZ58_Phs8T"
      },
      "execution_count": null,
      "outputs": []
    },
    {
      "cell_type": "code",
      "source": [
        "def flip_augment(path):\n",
        "  list_images = os.listdir(path)\n",
        "  path_images = [os.path.join(path, img_path) for img_path in list_images]\n",
        "  count=0\n",
        "  for img_path in tqdm(path_images):\n",
        "    img = cv2.imread(img_path)\n",
        "    img_out = cv2.flip(img, 1)\n",
        "    cv2.imwrite(os.path.join(path, str(count)+'.jpg'),img_out)\n",
        "    count+=1\n",
        "\n",
        "def detect_eval(test_loader, model_class):\n",
        "  correct = 0\n",
        "  for i,j in test_loader:\n",
        "    i,j = i.cuda(), j.cuda()\n",
        "    prob = model_class(i)\n",
        "    out = prob.max(1, keepdim=True)[1]\n",
        "    if out.item() == j.item():\n",
        "      correct += 1\n",
        "  final_acc = correct/len(test_loader)\n",
        "  print(\"Accuracy ===> \"+str(100*final_acc)+\"%\")"
      ],
      "metadata": {
        "id": "Sb5NAEkogkRI"
      },
      "execution_count": null,
      "outputs": []
    },
    {
      "cell_type": "markdown",
      "source": [
        "## FaceSweep Preparations"
      ],
      "metadata": {
        "id": "wYRmkc4Ldp0a"
      }
    },
    {
      "cell_type": "code",
      "source": [
        "flip_augment('/content/drive/MyDrive/DAI_Assignment_1/Q2/Dataset/Real')"
      ],
      "metadata": {
        "colab": {
          "base_uri": "https://localhost:8080/"
        },
        "id": "jPPY7-15hg5z",
        "outputId": "eebeb434-ef60-40d6-8cca-5ca15bd10fd5"
      },
      "execution_count": null,
      "outputs": [
        {
          "output_type": "stream",
          "name": "stderr",
          "text": [
            "100%|██████████| 25/25 [00:07<00:00,  3.44it/s]\n"
          ]
        }
      ]
    },
    {
      "cell_type": "code",
      "source": [
        "!git clone https://github.com/kwanit1142/FaceSwap_DAI.git"
      ],
      "metadata": {
        "colab": {
          "base_uri": "https://localhost:8080/"
        },
        "id": "PfjQit3Wihfb",
        "outputId": "14d629d2-8991-4697-e3b9-b5415c7c2216"
      },
      "execution_count": null,
      "outputs": [
        {
          "output_type": "stream",
          "name": "stdout",
          "text": [
            "Cloning into 'FaceSwap_DAI'...\n",
            "remote: Enumerating objects: 174, done.\u001b[K\n",
            "remote: Counting objects: 100% (174/174), done.\u001b[K\n",
            "remote: Compressing objects: 100% (96/96), done.\u001b[K\n",
            "remote: Total 174 (delta 79), reused 165 (delta 76), pack-reused 0\u001b[K\n",
            "Receiving objects: 100% (174/174), 96.18 MiB | 24.81 MiB/s, done.\n",
            "Resolving deltas: 100% (79/79), done.\n",
            "Updating files: 100% (28/28), done.\n"
          ]
        }
      ]
    },
    {
      "cell_type": "code",
      "source": [
        "cd FaceSwap_DAI"
      ],
      "metadata": {
        "colab": {
          "base_uri": "https://localhost:8080/"
        },
        "id": "44Pc9MiliqXQ",
        "outputId": "1280b67b-fcd1-4487-bcef-36267b1afc95"
      },
      "execution_count": null,
      "outputs": [
        {
          "output_type": "stream",
          "name": "stdout",
          "text": [
            "/content/FaceSwap_DAI\n"
          ]
        }
      ]
    },
    {
      "cell_type": "markdown",
      "source": [
        "###Download_Series"
      ],
      "metadata": {
        "id": "oa_EI9oJpo6W"
      }
    },
    {
      "cell_type": "code",
      "source": [
        "!python main.py --src /content/drive/MyDrive/DAI_Assignment_1/Q2/FaceSweep_Images/download_1.jpg --dst /content/drive/MyDrive/DAI_Assignment_1/Q2/Dataset/Real/0.jpg --out /content/drive/MyDrive/DAI_Assignment_1/Q2/Dataset/Fake/0.jpg --correct_color --out_folder False --src_folder False"
      ],
      "metadata": {
        "colab": {
          "base_uri": "https://localhost:8080/"
        },
        "id": "6RsngP4yiilF",
        "outputId": "a2c9a5bb-a1e9-4eb1-c27f-8cf77ca403ad"
      },
      "execution_count": null,
      "outputs": [
        {
          "output_type": "stream",
          "name": "stdout",
          "text": [
            "qt.qpa.xcb: could not connect to display \n",
            "qt.qpa.plugin: Could not load the Qt platform plugin \"xcb\" in \"/usr/local/lib/python3.8/dist-packages/cv2/qt/plugins\" even though it was found.\n",
            "This application failed to start because no Qt platform plugin could be initialized. Reinstalling the application may fix this problem.\n",
            "\n",
            "Available platform plugins are: xcb.\n",
            "\n"
          ]
        }
      ]
    },
    {
      "cell_type": "code",
      "source": [
        "!python main.py --src /content/drive/MyDrive/DAI_Assignment_1/Q2/FaceSweep_Images/download_2.jpg --dst /content/drive/MyDrive/DAI_Assignment_1/Q2/Dataset/Real/1.jpg --out /content/drive/MyDrive/DAI_Assignment_1/Q2/Dataset/Fake/1.jpg --correct_color --out_folder False --src_folder False"
      ],
      "metadata": {
        "colab": {
          "base_uri": "https://localhost:8080/"
        },
        "id": "Vb_slIHll711",
        "outputId": "0f987bad-e3cd-4497-eb47-ec7cd9c5f98a"
      },
      "execution_count": null,
      "outputs": [
        {
          "output_type": "stream",
          "name": "stdout",
          "text": [
            "qt.qpa.xcb: could not connect to display \n",
            "qt.qpa.plugin: Could not load the Qt platform plugin \"xcb\" in \"/usr/local/lib/python3.8/dist-packages/cv2/qt/plugins\" even though it was found.\n",
            "This application failed to start because no Qt platform plugin could be initialized. Reinstalling the application may fix this problem.\n",
            "\n",
            "Available platform plugins are: xcb.\n",
            "\n"
          ]
        }
      ]
    },
    {
      "cell_type": "code",
      "source": [
        "!python main.py --src /content/drive/MyDrive/DAI_Assignment_1/Q2/FaceSweep_Images/download_3.jpg --dst /content/drive/MyDrive/DAI_Assignment_1/Q2/Dataset/Real/2.jpg --out /content/drive/MyDrive/DAI_Assignment_1/Q2/Dataset/Fake/2.jpg --correct_color --out_folder False --src_folder False"
      ],
      "metadata": {
        "colab": {
          "base_uri": "https://localhost:8080/"
        },
        "id": "rqyiW8BOmOe7",
        "outputId": "27def4d5-fc39-456e-dd4e-88138fbb610e"
      },
      "execution_count": null,
      "outputs": [
        {
          "output_type": "stream",
          "name": "stdout",
          "text": [
            "qt.qpa.xcb: could not connect to display \n",
            "qt.qpa.plugin: Could not load the Qt platform plugin \"xcb\" in \"/usr/local/lib/python3.8/dist-packages/cv2/qt/plugins\" even though it was found.\n",
            "This application failed to start because no Qt platform plugin could be initialized. Reinstalling the application may fix this problem.\n",
            "\n",
            "Available platform plugins are: xcb.\n",
            "\n"
          ]
        }
      ]
    },
    {
      "cell_type": "code",
      "source": [
        "!python main.py --src /content/drive/MyDrive/DAI_Assignment_1/Q2/FaceSweep_Images/download_4.jpg --dst /content/drive/MyDrive/DAI_Assignment_1/Q2/Dataset/Real/3.jpg --out /content/drive/MyDrive/DAI_Assignment_1/Q2/Dataset/Fake/3.jpg --correct_color --out_folder False --src_folder False"
      ],
      "metadata": {
        "colab": {
          "base_uri": "https://localhost:8080/"
        },
        "id": "xbVfjVbemSTr",
        "outputId": "b08d254f-37f7-4954-ce74-742ac49ebf71"
      },
      "execution_count": null,
      "outputs": [
        {
          "output_type": "stream",
          "name": "stdout",
          "text": [
            "qt.qpa.xcb: could not connect to display \n",
            "qt.qpa.plugin: Could not load the Qt platform plugin \"xcb\" in \"/usr/local/lib/python3.8/dist-packages/cv2/qt/plugins\" even though it was found.\n",
            "This application failed to start because no Qt platform plugin could be initialized. Reinstalling the application may fix this problem.\n",
            "\n",
            "Available platform plugins are: xcb.\n",
            "\n"
          ]
        }
      ]
    },
    {
      "cell_type": "code",
      "source": [
        "!python main.py --src /content/drive/MyDrive/DAI_Assignment_1/Q2/FaceSweep_Images/download_5.jpg --dst /content/drive/MyDrive/DAI_Assignment_1/Q2/Dataset/Real/4.jpg --out /content/drive/MyDrive/DAI_Assignment_1/Q2/Dataset/Fake/4.jpg --correct_color --out_folder False --src_folder False"
      ],
      "metadata": {
        "colab": {
          "base_uri": "https://localhost:8080/"
        },
        "id": "-n-MZDijmWtw",
        "outputId": "b149acad-86fc-4ea2-92f0-199b01bc8be5"
      },
      "execution_count": null,
      "outputs": [
        {
          "output_type": "stream",
          "name": "stdout",
          "text": [
            "qt.qpa.xcb: could not connect to display \n",
            "qt.qpa.plugin: Could not load the Qt platform plugin \"xcb\" in \"/usr/local/lib/python3.8/dist-packages/cv2/qt/plugins\" even though it was found.\n",
            "This application failed to start because no Qt platform plugin could be initialized. Reinstalling the application may fix this problem.\n",
            "\n",
            "Available platform plugins are: xcb.\n",
            "\n"
          ]
        }
      ]
    },
    {
      "cell_type": "code",
      "source": [
        "!python main.py --src /content/drive/MyDrive/DAI_Assignment_1/Q2/FaceSweep_Images/download_6.jpg --dst /content/drive/MyDrive/DAI_Assignment_1/Q2/Dataset/Real/5.jpg --out /content/drive/MyDrive/DAI_Assignment_1/Q2/Dataset/Fake/5.jpg --correct_color --out_folder False --src_folder False"
      ],
      "metadata": {
        "colab": {
          "base_uri": "https://localhost:8080/"
        },
        "id": "mxWvMp_dmcPj",
        "outputId": "52f075cc-6aab-4c68-9863-c308827f72bd"
      },
      "execution_count": null,
      "outputs": [
        {
          "output_type": "stream",
          "name": "stdout",
          "text": [
            "qt.qpa.xcb: could not connect to display \n",
            "qt.qpa.plugin: Could not load the Qt platform plugin \"xcb\" in \"/usr/local/lib/python3.8/dist-packages/cv2/qt/plugins\" even though it was found.\n",
            "This application failed to start because no Qt platform plugin could be initialized. Reinstalling the application may fix this problem.\n",
            "\n",
            "Available platform plugins are: xcb.\n",
            "\n"
          ]
        }
      ]
    },
    {
      "cell_type": "markdown",
      "source": [
        "###Images_Series"
      ],
      "metadata": {
        "id": "8XW9KAP7ptc6"
      }
    },
    {
      "cell_type": "code",
      "source": [
        "!python main.py --src /content/drive/MyDrive/DAI_Assignment_1/Q2/FaceSweep_Images/images.jpg --dst /content/drive/MyDrive/DAI_Assignment_1/Q2/Dataset/Real/6.jpg --out /content/drive/MyDrive/DAI_Assignment_1/Q2/Dataset/Fake/6.jpg --correct_color --out_folder False --src_folder False"
      ],
      "metadata": {
        "colab": {
          "base_uri": "https://localhost:8080/"
        },
        "id": "_Io8Oh8hmgTo",
        "outputId": "aab33fe1-8593-4d32-cf5f-51dc599ad3bf"
      },
      "execution_count": null,
      "outputs": [
        {
          "output_type": "stream",
          "name": "stdout",
          "text": [
            "qt.qpa.xcb: could not connect to display \n",
            "qt.qpa.plugin: Could not load the Qt platform plugin \"xcb\" in \"/usr/local/lib/python3.8/dist-packages/cv2/qt/plugins\" even though it was found.\n",
            "This application failed to start because no Qt platform plugin could be initialized. Reinstalling the application may fix this problem.\n",
            "\n",
            "Available platform plugins are: xcb.\n",
            "\n"
          ]
        }
      ]
    },
    {
      "cell_type": "code",
      "source": [
        "!python main.py --src /content/drive/MyDrive/DAI_Assignment_1/Q2/FaceSweep_Images/images_1.jpg --dst /content/drive/MyDrive/DAI_Assignment_1/Q2/Dataset/Real/7.jpg --out /content/drive/MyDrive/DAI_Assignment_1/Q2/Dataset/Fake/7.jpg --correct_color --out_folder False --src_folder False"
      ],
      "metadata": {
        "colab": {
          "base_uri": "https://localhost:8080/"
        },
        "id": "pTVoFWgvmxEP",
        "outputId": "bc581023-8466-4370-ae97-e02924130d88"
      },
      "execution_count": null,
      "outputs": [
        {
          "output_type": "stream",
          "name": "stdout",
          "text": [
            "qt.qpa.xcb: could not connect to display \n",
            "qt.qpa.plugin: Could not load the Qt platform plugin \"xcb\" in \"/usr/local/lib/python3.8/dist-packages/cv2/qt/plugins\" even though it was found.\n",
            "This application failed to start because no Qt platform plugin could be initialized. Reinstalling the application may fix this problem.\n",
            "\n",
            "Available platform plugins are: xcb.\n",
            "\n"
          ]
        }
      ]
    },
    {
      "cell_type": "code",
      "source": [
        "!python main.py --src /content/drive/MyDrive/DAI_Assignment_1/Q2/FaceSweep_Images/images_2.jpg --dst /content/drive/MyDrive/DAI_Assignment_1/Q2/Dataset/Real/8.jpg --out /content/drive/MyDrive/DAI_Assignment_1/Q2/Dataset/Fake/8.jpg --correct_color --out_folder False --src_folder False"
      ],
      "metadata": {
        "colab": {
          "base_uri": "https://localhost:8080/"
        },
        "id": "otIqG5Pzm_Kg",
        "outputId": "2f519a30-d3f2-421e-e8e6-0fb683bf33b3"
      },
      "execution_count": null,
      "outputs": [
        {
          "output_type": "stream",
          "name": "stdout",
          "text": [
            "qt.qpa.xcb: could not connect to display \n",
            "qt.qpa.plugin: Could not load the Qt platform plugin \"xcb\" in \"/usr/local/lib/python3.8/dist-packages/cv2/qt/plugins\" even though it was found.\n",
            "This application failed to start because no Qt platform plugin could be initialized. Reinstalling the application may fix this problem.\n",
            "\n",
            "Available platform plugins are: xcb.\n",
            "\n"
          ]
        }
      ]
    },
    {
      "cell_type": "code",
      "source": [
        "!python main.py --src /content/drive/MyDrive/DAI_Assignment_1/Q2/FaceSweep_Images/images_3.jpg --dst /content/drive/MyDrive/DAI_Assignment_1/Q2/Dataset/Real/9.jpg --out /content/drive/MyDrive/DAI_Assignment_1/Q2/Dataset/Fake/9.jpg --correct_color --out_folder False --src_folder False"
      ],
      "metadata": {
        "colab": {
          "base_uri": "https://localhost:8080/"
        },
        "id": "MbYDJB7FnDRD",
        "outputId": "d75b741a-bfdd-48b2-d99d-6753da807e48"
      },
      "execution_count": null,
      "outputs": [
        {
          "output_type": "stream",
          "name": "stdout",
          "text": [
            "qt.qpa.xcb: could not connect to display \n",
            "qt.qpa.plugin: Could not load the Qt platform plugin \"xcb\" in \"/usr/local/lib/python3.8/dist-packages/cv2/qt/plugins\" even though it was found.\n",
            "This application failed to start because no Qt platform plugin could be initialized. Reinstalling the application may fix this problem.\n",
            "\n",
            "Available platform plugins are: xcb.\n",
            "\n"
          ]
        }
      ]
    },
    {
      "cell_type": "code",
      "source": [
        "!python main.py --src /content/drive/MyDrive/DAI_Assignment_1/Q2/FaceSweep_Images/images_4.jpg --dst /content/drive/MyDrive/DAI_Assignment_1/Q2/Dataset/Real/10.jpg --out /content/drive/MyDrive/DAI_Assignment_1/Q2/Dataset/Fake/10.jpg --correct_color --out_folder False --src_folder False"
      ],
      "metadata": {
        "colab": {
          "base_uri": "https://localhost:8080/"
        },
        "id": "uVNQu06FnHZ7",
        "outputId": "46cb082c-a0cd-47f0-f47b-809f03b6b509"
      },
      "execution_count": null,
      "outputs": [
        {
          "output_type": "stream",
          "name": "stdout",
          "text": [
            "qt.qpa.xcb: could not connect to display \n",
            "qt.qpa.plugin: Could not load the Qt platform plugin \"xcb\" in \"/usr/local/lib/python3.8/dist-packages/cv2/qt/plugins\" even though it was found.\n",
            "This application failed to start because no Qt platform plugin could be initialized. Reinstalling the application may fix this problem.\n",
            "\n",
            "Available platform plugins are: xcb.\n",
            "\n"
          ]
        }
      ]
    },
    {
      "cell_type": "code",
      "source": [
        "!python main.py --src /content/drive/MyDrive/DAI_Assignment_1/Q2/FaceSweep_Images/images_5.jpg --dst /content/drive/MyDrive/DAI_Assignment_1/Q2/Dataset/Real/11.jpg --out /content/drive/MyDrive/DAI_Assignment_1/Q2/Dataset/Fake/11.jpg --correct_color --out_folder False --src_folder False"
      ],
      "metadata": {
        "colab": {
          "base_uri": "https://localhost:8080/"
        },
        "id": "O_lddHkPnKXY",
        "outputId": "e122b62d-0ca5-4bfa-803d-283b88679e3a"
      },
      "execution_count": null,
      "outputs": [
        {
          "output_type": "stream",
          "name": "stdout",
          "text": [
            "qt.qpa.xcb: could not connect to display \n",
            "qt.qpa.plugin: Could not load the Qt platform plugin \"xcb\" in \"/usr/local/lib/python3.8/dist-packages/cv2/qt/plugins\" even though it was found.\n",
            "This application failed to start because no Qt platform plugin could be initialized. Reinstalling the application may fix this problem.\n",
            "\n",
            "Available platform plugins are: xcb.\n",
            "\n"
          ]
        }
      ]
    },
    {
      "cell_type": "code",
      "source": [
        "!python main.py --src /content/drive/MyDrive/DAI_Assignment_1/Q2/FaceSweep_Images/images_6.jpg --dst /content/drive/MyDrive/DAI_Assignment_1/Q2/Dataset/Real/12.jpg --out /content/drive/MyDrive/DAI_Assignment_1/Q2/Dataset/Fake/12.jpg --correct_color --out_folder False --src_folder False"
      ],
      "metadata": {
        "colab": {
          "base_uri": "https://localhost:8080/"
        },
        "id": "jjVkuJDMnM4N",
        "outputId": "81fc874b-6ed9-4369-c450-2f96d8af768c"
      },
      "execution_count": null,
      "outputs": [
        {
          "output_type": "stream",
          "name": "stdout",
          "text": [
            "qt.qpa.xcb: could not connect to display \n",
            "qt.qpa.plugin: Could not load the Qt platform plugin \"xcb\" in \"/usr/local/lib/python3.8/dist-packages/cv2/qt/plugins\" even though it was found.\n",
            "This application failed to start because no Qt platform plugin could be initialized. Reinstalling the application may fix this problem.\n",
            "\n",
            "Available platform plugins are: xcb.\n",
            "\n"
          ]
        }
      ]
    },
    {
      "cell_type": "code",
      "source": [
        "!python main.py --src /content/drive/MyDrive/DAI_Assignment_1/Q2/FaceSweep_Images/images_7.jpg --dst /content/drive/MyDrive/DAI_Assignment_1/Q2/Dataset/Real/13.jpg --out /content/drive/MyDrive/DAI_Assignment_1/Q2/Dataset/Fake/13.jpg --correct_color --out_folder False --src_folder False"
      ],
      "metadata": {
        "colab": {
          "base_uri": "https://localhost:8080/"
        },
        "id": "VYQW-m0JnPqI",
        "outputId": "a0a7e7fd-f83b-4cde-b9a8-f93ea90d08fc"
      },
      "execution_count": null,
      "outputs": [
        {
          "output_type": "stream",
          "name": "stdout",
          "text": [
            "qt.qpa.xcb: could not connect to display \n",
            "qt.qpa.plugin: Could not load the Qt platform plugin \"xcb\" in \"/usr/local/lib/python3.8/dist-packages/cv2/qt/plugins\" even though it was found.\n",
            "This application failed to start because no Qt platform plugin could be initialized. Reinstalling the application may fix this problem.\n",
            "\n",
            "Available platform plugins are: xcb.\n",
            "\n"
          ]
        }
      ]
    },
    {
      "cell_type": "code",
      "source": [
        "!python main.py --src /content/drive/MyDrive/DAI_Assignment_1/Q2/FaceSweep_Images/images_8.jpg --dst /content/drive/MyDrive/DAI_Assignment_1/Q2/Dataset/Real/14.jpg --out /content/drive/MyDrive/DAI_Assignment_1/Q2/Dataset/Fake/14.jpg --correct_color --out_folder False --src_folder False"
      ],
      "metadata": {
        "colab": {
          "base_uri": "https://localhost:8080/"
        },
        "id": "5myYF6HenTtv",
        "outputId": "178aab8e-ddaf-44ef-a262-e7ac7e1151e1"
      },
      "execution_count": null,
      "outputs": [
        {
          "output_type": "stream",
          "name": "stdout",
          "text": [
            "qt.qpa.xcb: could not connect to display \n",
            "qt.qpa.plugin: Could not load the Qt platform plugin \"xcb\" in \"/usr/local/lib/python3.8/dist-packages/cv2/qt/plugins\" even though it was found.\n",
            "This application failed to start because no Qt platform plugin could be initialized. Reinstalling the application may fix this problem.\n",
            "\n",
            "Available platform plugins are: xcb.\n",
            "\n"
          ]
        }
      ]
    },
    {
      "cell_type": "code",
      "source": [
        "!python main.py --src /content/drive/MyDrive/DAI_Assignment_1/Q2/FaceSweep_Images/images_9.jpg --dst /content/drive/MyDrive/DAI_Assignment_1/Q2/Dataset/Real/15.jpg --out /content/drive/MyDrive/DAI_Assignment_1/Q2/Dataset/Fake/15.jpg --correct_color --out_folder False --src_folder False"
      ],
      "metadata": {
        "colab": {
          "base_uri": "https://localhost:8080/"
        },
        "id": "xP_EerGhnW3N",
        "outputId": "d9436c46-1561-4f3d-ab9a-2e01c14825b8"
      },
      "execution_count": null,
      "outputs": [
        {
          "output_type": "stream",
          "name": "stdout",
          "text": [
            "qt.qpa.xcb: could not connect to display \n",
            "qt.qpa.plugin: Could not load the Qt platform plugin \"xcb\" in \"/usr/local/lib/python3.8/dist-packages/cv2/qt/plugins\" even though it was found.\n",
            "This application failed to start because no Qt platform plugin could be initialized. Reinstalling the application may fix this problem.\n",
            "\n",
            "Available platform plugins are: xcb.\n",
            "\n"
          ]
        }
      ]
    },
    {
      "cell_type": "code",
      "source": [
        "!python main.py --src /content/drive/MyDrive/DAI_Assignment_1/Q2/FaceSweep_Images/images_10.jpg --dst /content/drive/MyDrive/DAI_Assignment_1/Q2/Dataset/Real/17.jpg --out /content/drive/MyDrive/DAI_Assignment_1/Q2/Dataset/Fake/17.jpg --correct_color --out_folder False --src_folder False"
      ],
      "metadata": {
        "colab": {
          "base_uri": "https://localhost:8080/"
        },
        "id": "QpdGLhi1naWb",
        "outputId": "0200fa82-78d0-4b0f-aa99-eeb39dc9014f"
      },
      "execution_count": null,
      "outputs": [
        {
          "output_type": "stream",
          "name": "stdout",
          "text": [
            "qt.qpa.xcb: could not connect to display \n",
            "qt.qpa.plugin: Could not load the Qt platform plugin \"xcb\" in \"/usr/local/lib/python3.8/dist-packages/cv2/qt/plugins\" even though it was found.\n",
            "This application failed to start because no Qt platform plugin could be initialized. Reinstalling the application may fix this problem.\n",
            "\n",
            "Available platform plugins are: xcb.\n",
            "\n"
          ]
        }
      ]
    },
    {
      "cell_type": "code",
      "source": [
        "!python main.py --src /content/drive/MyDrive/DAI_Assignment_1/Q2/FaceSweep_Images/images_11.jpg --dst /content/drive/MyDrive/DAI_Assignment_1/Q2/Dataset/Real/18.jpg --out /content/drive/MyDrive/DAI_Assignment_1/Q2/Dataset/Fake/18.jpg --correct_color --out_folder False --src_folder False"
      ],
      "metadata": {
        "colab": {
          "base_uri": "https://localhost:8080/"
        },
        "id": "czVclMCGnde2",
        "outputId": "35b1589a-0337-47cc-da50-b29b038af1d1"
      },
      "execution_count": null,
      "outputs": [
        {
          "output_type": "stream",
          "name": "stdout",
          "text": [
            "qt.qpa.xcb: could not connect to display \n",
            "qt.qpa.plugin: Could not load the Qt platform plugin \"xcb\" in \"/usr/local/lib/python3.8/dist-packages/cv2/qt/plugins\" even though it was found.\n",
            "This application failed to start because no Qt platform plugin could be initialized. Reinstalling the application may fix this problem.\n",
            "\n",
            "Available platform plugins are: xcb.\n",
            "\n"
          ]
        }
      ]
    },
    {
      "cell_type": "code",
      "source": [
        "!python main.py --src /content/drive/MyDrive/DAI_Assignment_1/Q2/FaceSweep_Images/images_12.jpg --dst /content/drive/MyDrive/DAI_Assignment_1/Q2/Dataset/Real/21.jpg --out /content/drive/MyDrive/DAI_Assignment_1/Q2/Dataset/Fake/21.jpg --correct_color --out_folder False --src_folder False"
      ],
      "metadata": {
        "colab": {
          "base_uri": "https://localhost:8080/"
        },
        "id": "K4lHo-6Cn7O1",
        "outputId": "a4214997-f5b5-4949-99e8-6faa053371ae"
      },
      "execution_count": null,
      "outputs": [
        {
          "output_type": "stream",
          "name": "stdout",
          "text": [
            "qt.qpa.xcb: could not connect to display \n",
            "qt.qpa.plugin: Could not load the Qt platform plugin \"xcb\" in \"/usr/local/lib/python3.8/dist-packages/cv2/qt/plugins\" even though it was found.\n",
            "This application failed to start because no Qt platform plugin could be initialized. Reinstalling the application may fix this problem.\n",
            "\n",
            "Available platform plugins are: xcb.\n",
            "\n"
          ]
        }
      ]
    },
    {
      "cell_type": "code",
      "source": [
        "!python main.py --src /content/drive/MyDrive/DAI_Assignment_1/Q2/FaceSweep_Images/images_13.jpg --dst /content/drive/MyDrive/DAI_Assignment_1/Q2/Dataset/Real/22.jpg --out /content/drive/MyDrive/DAI_Assignment_1/Q2/Dataset/Fake/22.jpg --correct_color --out_folder False --src_folder False"
      ],
      "metadata": {
        "colab": {
          "base_uri": "https://localhost:8080/"
        },
        "id": "m3vyN0_un-x7",
        "outputId": "8cd751a5-de22-46f8-f2ed-bb40389c85f5"
      },
      "execution_count": null,
      "outputs": [
        {
          "output_type": "stream",
          "name": "stdout",
          "text": [
            "qt.qpa.xcb: could not connect to display \n",
            "qt.qpa.plugin: Could not load the Qt platform plugin \"xcb\" in \"/usr/local/lib/python3.8/dist-packages/cv2/qt/plugins\" even though it was found.\n",
            "This application failed to start because no Qt platform plugin could be initialized. Reinstalling the application may fix this problem.\n",
            "\n",
            "Available platform plugins are: xcb.\n",
            "\n"
          ]
        }
      ]
    },
    {
      "cell_type": "code",
      "source": [
        "!python main.py --src /content/drive/MyDrive/DAI_Assignment_1/Q2/FaceSweep_Images/images_14.jpg --dst /content/drive/MyDrive/DAI_Assignment_1/Q2/Dataset/Real/23.jpg --out /content/drive/MyDrive/DAI_Assignment_1/Q2/Dataset/Fake/23.jpg --correct_color --out_folder False --src_folder False"
      ],
      "metadata": {
        "colab": {
          "base_uri": "https://localhost:8080/"
        },
        "id": "kkiHkUI6oRF9",
        "outputId": "ff1dfa47-143f-4ae4-e548-a72fa3da6d82"
      },
      "execution_count": null,
      "outputs": [
        {
          "output_type": "stream",
          "name": "stdout",
          "text": [
            "qt.qpa.xcb: could not connect to display \n",
            "qt.qpa.plugin: Could not load the Qt platform plugin \"xcb\" in \"/usr/local/lib/python3.8/dist-packages/cv2/qt/plugins\" even though it was found.\n",
            "This application failed to start because no Qt platform plugin could be initialized. Reinstalling the application may fix this problem.\n",
            "\n",
            "Available platform plugins are: xcb.\n",
            "\n"
          ]
        }
      ]
    },
    {
      "cell_type": "code",
      "source": [
        "!python main.py --src /content/drive/MyDrive/DAI_Assignment_1/Q2/FaceSweep_Images/images_15.jpg --dst /content/drive/MyDrive/DAI_Assignment_1/Q2/Dataset/Real/24.jpg --out /content/drive/MyDrive/DAI_Assignment_1/Q2/Dataset/Fake/24.jpg --correct_color --out_folder False --src_folder False"
      ],
      "metadata": {
        "colab": {
          "base_uri": "https://localhost:8080/"
        },
        "id": "HWUjVX-FoUhc",
        "outputId": "c73dc332-1c36-49ad-c321-f82948934c48"
      },
      "execution_count": null,
      "outputs": [
        {
          "output_type": "stream",
          "name": "stdout",
          "text": [
            "qt.qpa.xcb: could not connect to display \n",
            "qt.qpa.plugin: Could not load the Qt platform plugin \"xcb\" in \"/usr/local/lib/python3.8/dist-packages/cv2/qt/plugins\" even though it was found.\n",
            "This application failed to start because no Qt platform plugin could be initialized. Reinstalling the application may fix this problem.\n",
            "\n",
            "Available platform plugins are: xcb.\n",
            "\n"
          ]
        }
      ]
    },
    {
      "cell_type": "code",
      "source": [
        "!python main.py --src /content/drive/MyDrive/DAI_Assignment_1/Q2/FaceSweep_Images/images_37.jpg --dst /content/drive/MyDrive/DAI_Assignment_1/Q2/Dataset/Real/00.jpg --out /content/drive/MyDrive/DAI_Assignment_1/Q2/Dataset/Fake/00.jpg --correct_color --out_folder False --src_folder False"
      ],
      "metadata": {
        "colab": {
          "base_uri": "https://localhost:8080/"
        },
        "id": "QAPzpH4tc23Z",
        "outputId": "bc8f833d-3c57-4e07-82d8-c9b1308b699a"
      },
      "execution_count": null,
      "outputs": [
        {
          "output_type": "stream",
          "name": "stdout",
          "text": [
            "qt.qpa.xcb: could not connect to display \n",
            "qt.qpa.plugin: Could not load the Qt platform plugin \"xcb\" in \"/usr/local/lib/python3.8/dist-packages/cv2/qt/plugins\" even though it was found.\n",
            "This application failed to start because no Qt platform plugin could be initialized. Reinstalling the application may fix this problem.\n",
            "\n",
            "Available platform plugins are: xcb.\n",
            "\n"
          ]
        }
      ]
    },
    {
      "cell_type": "code",
      "source": [
        "!python main.py --src /content/drive/MyDrive/DAI_Assignment_1/Q2/FaceSweep_Images/images_38.jpg --dst /content/drive/MyDrive/DAI_Assignment_1/Q2/Dataset/Real/01.jpg --out /content/drive/MyDrive/DAI_Assignment_1/Q2/Dataset/Fake/01.jpg --correct_color --out_folder False --src_folder False"
      ],
      "metadata": {
        "colab": {
          "base_uri": "https://localhost:8080/"
        },
        "id": "ngcqzUpvc2-g",
        "outputId": "22179ef3-0059-4a54-ece6-f92a852280e1"
      },
      "execution_count": null,
      "outputs": [
        {
          "output_type": "stream",
          "name": "stdout",
          "text": [
            "qt.qpa.xcb: could not connect to display \n",
            "qt.qpa.plugin: Could not load the Qt platform plugin \"xcb\" in \"/usr/local/lib/python3.8/dist-packages/cv2/qt/plugins\" even though it was found.\n",
            "This application failed to start because no Qt platform plugin could be initialized. Reinstalling the application may fix this problem.\n",
            "\n",
            "Available platform plugins are: xcb.\n",
            "\n"
          ]
        }
      ]
    },
    {
      "cell_type": "code",
      "source": [
        "!python main.py --src /content/drive/MyDrive/DAI_Assignment_1/Q2/FaceSweep_Images/images_39.jpg --dst /content/drive/MyDrive/DAI_Assignment_1/Q2/Dataset/Real/02.jpg --out /content/drive/MyDrive/DAI_Assignment_1/Q2/Dataset/Fake/02.jpg --correct_color --out_folder False --src_folder False"
      ],
      "metadata": {
        "colab": {
          "base_uri": "https://localhost:8080/"
        },
        "id": "V5hry7hhc3F3",
        "outputId": "664fe116-9613-40b3-d67f-826577f13613"
      },
      "execution_count": null,
      "outputs": [
        {
          "output_type": "stream",
          "name": "stdout",
          "text": [
            "qt.qpa.xcb: could not connect to display \n",
            "qt.qpa.plugin: Could not load the Qt platform plugin \"xcb\" in \"/usr/local/lib/python3.8/dist-packages/cv2/qt/plugins\" even though it was found.\n",
            "This application failed to start because no Qt platform plugin could be initialized. Reinstalling the application may fix this problem.\n",
            "\n",
            "Available platform plugins are: xcb.\n",
            "\n"
          ]
        }
      ]
    },
    {
      "cell_type": "code",
      "source": [
        "!python main.py --src /content/drive/MyDrive/DAI_Assignment_1/Q2/FaceSweep_Images/images_40.jpg --dst /content/drive/MyDrive/DAI_Assignment_1/Q2/Dataset/Real/03.jpg --out /content/drive/MyDrive/DAI_Assignment_1/Q2/Dataset/Fake/03.jpg --correct_color --out_folder False --src_folder False"
      ],
      "metadata": {
        "colab": {
          "base_uri": "https://localhost:8080/"
        },
        "id": "7rUeZDVvc3Ma",
        "outputId": "ccab9adb-785c-4107-8abd-1ae19392fd43"
      },
      "execution_count": null,
      "outputs": [
        {
          "output_type": "stream",
          "name": "stdout",
          "text": [
            "qt.qpa.xcb: could not connect to display \n",
            "qt.qpa.plugin: Could not load the Qt platform plugin \"xcb\" in \"/usr/local/lib/python3.8/dist-packages/cv2/qt/plugins\" even though it was found.\n",
            "This application failed to start because no Qt platform plugin could be initialized. Reinstalling the application may fix this problem.\n",
            "\n",
            "Available platform plugins are: xcb.\n",
            "\n"
          ]
        }
      ]
    },
    {
      "cell_type": "code",
      "source": [
        "!python main.py --src /content/drive/MyDrive/DAI_Assignment_1/Q2/FaceSweep_Images/images_41.jpg --dst /content/drive/MyDrive/DAI_Assignment_1/Q2/Dataset/Real/04.jpg --out /content/drive/MyDrive/DAI_Assignment_1/Q2/Dataset/Fake/04.jpg --correct_color --out_folder False --src_folder False"
      ],
      "metadata": {
        "colab": {
          "base_uri": "https://localhost:8080/"
        },
        "id": "jOtkaizTc3S9",
        "outputId": "050cba0f-911a-4191-9547-d03cc9d6d339"
      },
      "execution_count": null,
      "outputs": [
        {
          "output_type": "stream",
          "name": "stdout",
          "text": [
            "qt.qpa.xcb: could not connect to display \n",
            "qt.qpa.plugin: Could not load the Qt platform plugin \"xcb\" in \"/usr/local/lib/python3.8/dist-packages/cv2/qt/plugins\" even though it was found.\n",
            "This application failed to start because no Qt platform plugin could be initialized. Reinstalling the application may fix this problem.\n",
            "\n",
            "Available platform plugins are: xcb.\n",
            "\n"
          ]
        }
      ]
    },
    {
      "cell_type": "code",
      "source": [
        "!python main.py --src /content/drive/MyDrive/DAI_Assignment_1/Q2/FaceSweep_Images/images_42.jpg --dst /content/drive/MyDrive/DAI_Assignment_1/Q2/Dataset/Real/05.jpg --out /content/drive/MyDrive/DAI_Assignment_1/Q2/Dataset/Fake/05.jpg --correct_color --out_folder False --src_folder False"
      ],
      "metadata": {
        "colab": {
          "base_uri": "https://localhost:8080/"
        },
        "id": "OBUWbw2Qc3cH",
        "outputId": "a40f2e0a-e36d-4c46-b705-3bffa1e53ef6"
      },
      "execution_count": null,
      "outputs": [
        {
          "output_type": "stream",
          "name": "stdout",
          "text": [
            "qt.qpa.xcb: could not connect to display \n",
            "qt.qpa.plugin: Could not load the Qt platform plugin \"xcb\" in \"/usr/local/lib/python3.8/dist-packages/cv2/qt/plugins\" even though it was found.\n",
            "This application failed to start because no Qt platform plugin could be initialized. Reinstalling the application may fix this problem.\n",
            "\n",
            "Available platform plugins are: xcb.\n",
            "\n"
          ]
        }
      ]
    },
    {
      "cell_type": "code",
      "source": [
        "!python main.py --src /content/drive/MyDrive/DAI_Assignment_1/Q2/FaceSweep_Images/images.jpg --dst /content/drive/MyDrive/DAI_Assignment_1/Q2/Dataset/Real/06.jpg --out /content/drive/MyDrive/DAI_Assignment_1/Q2/Dataset/Fake/06.jpg --correct_color --out_folder False --src_folder False"
      ],
      "metadata": {
        "colab": {
          "base_uri": "https://localhost:8080/"
        },
        "id": "6vvTk2oBc3uk",
        "outputId": "d99356b9-ec65-42d8-ff8d-172477e51890"
      },
      "execution_count": null,
      "outputs": [
        {
          "output_type": "stream",
          "name": "stdout",
          "text": [
            "qt.qpa.xcb: could not connect to display \n",
            "qt.qpa.plugin: Could not load the Qt platform plugin \"xcb\" in \"/usr/local/lib/python3.8/dist-packages/cv2/qt/plugins\" even though it was found.\n",
            "This application failed to start because no Qt platform plugin could be initialized. Reinstalling the application may fix this problem.\n",
            "\n",
            "Available platform plugins are: xcb.\n",
            "\n"
          ]
        }
      ]
    },
    {
      "cell_type": "markdown",
      "source": [
        "###Only_Numbers"
      ],
      "metadata": {
        "id": "YUtT9mB2p0JK"
      }
    },
    {
      "cell_type": "code",
      "source": [
        "!python main.py --src /content/drive/MyDrive/DAI_Assignment_1/Q2/FaceSweep_Images/images_16.jpg --dst /content/drive/MyDrive/DAI_Assignment_1/Q2/Dataset/Real/20230226_000918.jpg --out /content/drive/MyDrive/DAI_Assignment_1/Q2/Dataset/Fake/20230226_000918.jpg --correct_color --out_folder False --src_folder False"
      ],
      "metadata": {
        "colab": {
          "base_uri": "https://localhost:8080/"
        },
        "id": "LIGEq6dpoYyu",
        "outputId": "65096519-eb8c-42be-9539-e271281fea3f"
      },
      "execution_count": null,
      "outputs": [
        {
          "output_type": "stream",
          "name": "stdout",
          "text": [
            "Invalid SOS parameters for sequential JPEG\n",
            "qt.qpa.xcb: could not connect to display \n",
            "qt.qpa.plugin: Could not load the Qt platform plugin \"xcb\" in \"/usr/local/lib/python3.8/dist-packages/cv2/qt/plugins\" even though it was found.\n",
            "This application failed to start because no Qt platform plugin could be initialized. Reinstalling the application may fix this problem.\n",
            "\n",
            "Available platform plugins are: xcb.\n",
            "\n"
          ]
        }
      ]
    },
    {
      "cell_type": "code",
      "source": [
        "!python main.py --src /content/drive/MyDrive/DAI_Assignment_1/Q2/FaceSweep_Images/images_17.jpg --dst /content/drive/MyDrive/DAI_Assignment_1/Q2/Dataset/Real/20230226_000945.jpg --out /content/drive/MyDrive/DAI_Assignment_1/Q2/Dataset/Fake/20230226_000945.jpg --correct_color --out_folder False --src_folder False"
      ],
      "metadata": {
        "colab": {
          "base_uri": "https://localhost:8080/"
        },
        "id": "8uCe5TaLodbR",
        "outputId": "f48bc7ab-65bb-435f-bd2e-71cec5d2f2ac"
      },
      "execution_count": null,
      "outputs": [
        {
          "output_type": "stream",
          "name": "stdout",
          "text": [
            "Invalid SOS parameters for sequential JPEG\n",
            "qt.qpa.xcb: could not connect to display \n",
            "qt.qpa.plugin: Could not load the Qt platform plugin \"xcb\" in \"/usr/local/lib/python3.8/dist-packages/cv2/qt/plugins\" even though it was found.\n",
            "This application failed to start because no Qt platform plugin could be initialized. Reinstalling the application may fix this problem.\n",
            "\n",
            "Available platform plugins are: xcb.\n",
            "\n"
          ]
        }
      ]
    },
    {
      "cell_type": "markdown",
      "source": [
        "###IMG_series"
      ],
      "metadata": {
        "id": "l_tmVaayp4Ty"
      }
    },
    {
      "cell_type": "code",
      "source": [
        "!python main.py --src /content/drive/MyDrive/DAI_Assignment_1/Q2/FaceSweep_Images/images_18.jpg --dst /content/drive/MyDrive/DAI_Assignment_1/Q2/Dataset/Real/IMG-20230224-WA0045.jpg --out /content/drive/MyDrive/DAI_Assignment_1/Q2/Dataset/Fake/IMG-20230224-WA0045.jpg --correct_color --out_folder False --src_folder False"
      ],
      "metadata": {
        "colab": {
          "base_uri": "https://localhost:8080/"
        },
        "id": "AvlSaSuqpNGM",
        "outputId": "395a108f-3892-44c6-b61f-5bf5fb13df80"
      },
      "execution_count": null,
      "outputs": [
        {
          "output_type": "stream",
          "name": "stdout",
          "text": [
            "qt.qpa.xcb: could not connect to display \n",
            "qt.qpa.plugin: Could not load the Qt platform plugin \"xcb\" in \"/usr/local/lib/python3.8/dist-packages/cv2/qt/plugins\" even though it was found.\n",
            "This application failed to start because no Qt platform plugin could be initialized. Reinstalling the application may fix this problem.\n",
            "\n",
            "Available platform plugins are: xcb.\n",
            "\n"
          ]
        }
      ]
    },
    {
      "cell_type": "code",
      "source": [
        "!python main.py --src /content/drive/MyDrive/DAI_Assignment_1/Q2/FaceSweep_Images/images_19.jpg --dst /content/drive/MyDrive/DAI_Assignment_1/Q2/Dataset/Real/IMG-20230224-WA0046.jpg --out /content/drive/MyDrive/DAI_Assignment_1/Q2/Dataset/Fake/IMG-20230224-WA0046.jpg --correct_color --out_folder False --src_folder False"
      ],
      "metadata": {
        "colab": {
          "base_uri": "https://localhost:8080/"
        },
        "id": "P4Ys17XBpXaL",
        "outputId": "77d9eb82-66ec-4cac-bc16-cf4aefd67b8f"
      },
      "execution_count": null,
      "outputs": [
        {
          "output_type": "stream",
          "name": "stdout",
          "text": [
            "qt.qpa.xcb: could not connect to display \n",
            "qt.qpa.plugin: Could not load the Qt platform plugin \"xcb\" in \"/usr/local/lib/python3.8/dist-packages/cv2/qt/plugins\" even though it was found.\n",
            "This application failed to start because no Qt platform plugin could be initialized. Reinstalling the application may fix this problem.\n",
            "\n",
            "Available platform plugins are: xcb.\n",
            "\n"
          ]
        }
      ]
    },
    {
      "cell_type": "code",
      "source": [
        "!python main.py --src /content/drive/MyDrive/DAI_Assignment_1/Q2/FaceSweep_Images/images_20.jpg --dst /content/drive/MyDrive/DAI_Assignment_1/Q2/Dataset/Real/IMG-20230224-WA0047.jpg --out /content/drive/MyDrive/DAI_Assignment_1/Q2/Dataset/Fake/IMG-20230224-WA0047.jpg --correct_color --out_folder False --src_folder False"
      ],
      "metadata": {
        "colab": {
          "base_uri": "https://localhost:8080/"
        },
        "id": "w6DQlSh6pePJ",
        "outputId": "b33d3d36-62f0-425c-9aac-7d4957ebfc37"
      },
      "execution_count": null,
      "outputs": [
        {
          "output_type": "stream",
          "name": "stdout",
          "text": [
            "qt.qpa.xcb: could not connect to display \n",
            "qt.qpa.plugin: Could not load the Qt platform plugin \"xcb\" in \"/usr/local/lib/python3.8/dist-packages/cv2/qt/plugins\" even though it was found.\n",
            "This application failed to start because no Qt platform plugin could be initialized. Reinstalling the application may fix this problem.\n",
            "\n",
            "Available platform plugins are: xcb.\n",
            "\n"
          ]
        }
      ]
    },
    {
      "cell_type": "code",
      "source": [
        "!python main.py --src /content/drive/MyDrive/DAI_Assignment_1/Q2/FaceSweep_Images/images_21.jpg --dst /content/drive/MyDrive/DAI_Assignment_1/Q2/Dataset/Real/IMG-20230224-WA0048.jpg --out /content/drive/MyDrive/DAI_Assignment_1/Q2/Dataset/Fake/IMG-20230224-WA0048.jpg --correct_color --out_folder False --src_folder False"
      ],
      "metadata": {
        "colab": {
          "base_uri": "https://localhost:8080/"
        },
        "id": "KJwMv3gtZOIb",
        "outputId": "add67600-8300-463f-8c0a-7a489a20e161"
      },
      "execution_count": null,
      "outputs": [
        {
          "output_type": "stream",
          "name": "stdout",
          "text": [
            "qt.qpa.xcb: could not connect to display \n",
            "qt.qpa.plugin: Could not load the Qt platform plugin \"xcb\" in \"/usr/local/lib/python3.8/dist-packages/cv2/qt/plugins\" even though it was found.\n",
            "This application failed to start because no Qt platform plugin could be initialized. Reinstalling the application may fix this problem.\n",
            "\n",
            "Available platform plugins are: xcb.\n",
            "\n"
          ]
        }
      ]
    },
    {
      "cell_type": "code",
      "source": [
        "!python main.py --src /content/drive/MyDrive/DAI_Assignment_1/Q2/FaceSweep_Images/images_22.jpg --dst /content/drive/MyDrive/DAI_Assignment_1/Q2/Dataset/Real/IMG-20230224-WA0049.jpg --out /content/drive/MyDrive/DAI_Assignment_1/Q2/Dataset/Fake/IMG-20230224-WA0049.jpg --correct_color --out_folder False --src_folder False"
      ],
      "metadata": {
        "colab": {
          "base_uri": "https://localhost:8080/"
        },
        "id": "IwOgdMSiZZ8r",
        "outputId": "972cac93-ff68-4dc5-ac77-e0d3a5763414"
      },
      "execution_count": null,
      "outputs": [
        {
          "output_type": "stream",
          "name": "stdout",
          "text": [
            "qt.qpa.xcb: could not connect to display \n",
            "qt.qpa.plugin: Could not load the Qt platform plugin \"xcb\" in \"/usr/local/lib/python3.8/dist-packages/cv2/qt/plugins\" even though it was found.\n",
            "This application failed to start because no Qt platform plugin could be initialized. Reinstalling the application may fix this problem.\n",
            "\n",
            "Available platform plugins are: xcb.\n",
            "\n"
          ]
        }
      ]
    },
    {
      "cell_type": "code",
      "source": [
        "!python main.py --src /content/drive/MyDrive/DAI_Assignment_1/Q2/FaceSweep_Images/images_23.jpg --dst /content/drive/MyDrive/DAI_Assignment_1/Q2/Dataset/Real/IMG-20230224-WA0051.jpg --out /content/drive/MyDrive/DAI_Assignment_1/Q2/Dataset/Fake/IMG-20230224-WA0051.jpg --correct_color --out_folder False --src_folder False"
      ],
      "metadata": {
        "colab": {
          "base_uri": "https://localhost:8080/"
        },
        "id": "FHU6iX0xZjuk",
        "outputId": "fc1ac3f0-9acb-45af-f723-8ab461b21821"
      },
      "execution_count": null,
      "outputs": [
        {
          "output_type": "stream",
          "name": "stdout",
          "text": [
            "qt.qpa.xcb: could not connect to display \n",
            "qt.qpa.plugin: Could not load the Qt platform plugin \"xcb\" in \"/usr/local/lib/python3.8/dist-packages/cv2/qt/plugins\" even though it was found.\n",
            "This application failed to start because no Qt platform plugin could be initialized. Reinstalling the application may fix this problem.\n",
            "\n",
            "Available platform plugins are: xcb.\n",
            "\n"
          ]
        }
      ]
    },
    {
      "cell_type": "code",
      "source": [
        "!python main.py --src /content/drive/MyDrive/DAI_Assignment_1/Q2/FaceSweep_Images/images_24.jpg --dst /content/drive/MyDrive/DAI_Assignment_1/Q2/Dataset/Real/IMG-20230224-WA0056.jpg --out /content/drive/MyDrive/DAI_Assignment_1/Q2/Dataset/Fake/IMG-20230224-WA0056.jpg --correct_color --out_folder False --src_folder False"
      ],
      "metadata": {
        "colab": {
          "base_uri": "https://localhost:8080/"
        },
        "id": "VSDmHwGoaMWC",
        "outputId": "d5056370-cfe5-4929-ab95-03e32f6dcf67"
      },
      "execution_count": null,
      "outputs": [
        {
          "output_type": "stream",
          "name": "stdout",
          "text": [
            "qt.qpa.xcb: could not connect to display \n",
            "qt.qpa.plugin: Could not load the Qt platform plugin \"xcb\" in \"/usr/local/lib/python3.8/dist-packages/cv2/qt/plugins\" even though it was found.\n",
            "This application failed to start because no Qt platform plugin could be initialized. Reinstalling the application may fix this problem.\n",
            "\n",
            "Available platform plugins are: xcb.\n",
            "\n"
          ]
        }
      ]
    },
    {
      "cell_type": "markdown",
      "source": [
        "### WIN_series"
      ],
      "metadata": {
        "id": "N_Q8litPaiJ9"
      }
    },
    {
      "cell_type": "code",
      "source": [
        "!python main.py --src /content/drive/MyDrive/DAI_Assignment_1/Q2/FaceSweep_Images/images_25.jpg --dst /content/drive/MyDrive/DAI_Assignment_1/Q2/Dataset/Real/WIN_20230225_23_59_03_Pro.jpg --out /content/drive/MyDrive/DAI_Assignment_1/Q2/Dataset/Fake/WIN_20230225_23_59_03_Pro.jpg --correct_color --out_folder False --src_folder False"
      ],
      "metadata": {
        "colab": {
          "base_uri": "https://localhost:8080/"
        },
        "id": "cH4JvfSZaY1v",
        "outputId": "07b15b0e-5d7e-4c47-f334-acadbd90f260"
      },
      "execution_count": null,
      "outputs": [
        {
          "output_type": "stream",
          "name": "stdout",
          "text": [
            "qt.qpa.xcb: could not connect to display \n",
            "qt.qpa.plugin: Could not load the Qt platform plugin \"xcb\" in \"/usr/local/lib/python3.8/dist-packages/cv2/qt/plugins\" even though it was found.\n",
            "This application failed to start because no Qt platform plugin could be initialized. Reinstalling the application may fix this problem.\n",
            "\n",
            "Available platform plugins are: xcb.\n",
            "\n"
          ]
        }
      ]
    },
    {
      "cell_type": "code",
      "source": [
        "!python main.py --src /content/drive/MyDrive/DAI_Assignment_1/Q2/FaceSweep_Images/images_26.jpg --dst /content/drive/MyDrive/DAI_Assignment_1/Q2/Dataset/Real/WIN_20230225_23_59_15_Pro.jpg --out /content/drive/MyDrive/DAI_Assignment_1/Q2/Dataset/Fake/WIN_20230225_23_59_15_Pro.jpg --correct_color --out_folder False --src_folder False"
      ],
      "metadata": {
        "colab": {
          "base_uri": "https://localhost:8080/"
        },
        "id": "HNpPmcmLazOi",
        "outputId": "9c7fbf03-79c8-4f91-89f3-3dcae218ec57"
      },
      "execution_count": null,
      "outputs": [
        {
          "output_type": "stream",
          "name": "stdout",
          "text": [
            "qt.qpa.xcb: could not connect to display \n",
            "qt.qpa.plugin: Could not load the Qt platform plugin \"xcb\" in \"/usr/local/lib/python3.8/dist-packages/cv2/qt/plugins\" even though it was found.\n",
            "This application failed to start because no Qt platform plugin could be initialized. Reinstalling the application may fix this problem.\n",
            "\n",
            "Available platform plugins are: xcb.\n",
            "\n"
          ]
        }
      ]
    },
    {
      "cell_type": "code",
      "source": [
        "!python main.py --src /content/drive/MyDrive/DAI_Assignment_1/Q2/FaceSweep_Images/images_27.jpg --dst /content/drive/MyDrive/DAI_Assignment_1/Q2/Dataset/Real/WIN_20230225_23_59_26_Pro.jpg --out /content/drive/MyDrive/DAI_Assignment_1/Q2/Dataset/Fake/WIN_20230225_23_59_26_Pro.jpg --correct_color --out_folder False --src_folder False"
      ],
      "metadata": {
        "colab": {
          "base_uri": "https://localhost:8080/"
        },
        "id": "X6A8LykGa-Nb",
        "outputId": "5f26fd18-11ca-44a2-8360-2c04ea6b9a96"
      },
      "execution_count": null,
      "outputs": [
        {
          "output_type": "stream",
          "name": "stdout",
          "text": [
            "qt.qpa.xcb: could not connect to display \n",
            "qt.qpa.plugin: Could not load the Qt platform plugin \"xcb\" in \"/usr/local/lib/python3.8/dist-packages/cv2/qt/plugins\" even though it was found.\n",
            "This application failed to start because no Qt platform plugin could be initialized. Reinstalling the application may fix this problem.\n",
            "\n",
            "Available platform plugins are: xcb.\n",
            "\n"
          ]
        }
      ]
    },
    {
      "cell_type": "code",
      "source": [
        "!python main.py --src /content/drive/MyDrive/DAI_Assignment_1/Q2/FaceSweep_Images/images_28.jpg --dst /content/drive/MyDrive/DAI_Assignment_1/Q2/Dataset/Real/WIN_20230226_00_00_07_Pro.jpg --out /content/drive/MyDrive/DAI_Assignment_1/Q2/Dataset/Fake/WIN_20230226_00_00_07_Pro.jpg --correct_color --out_folder False --src_folder False"
      ],
      "metadata": {
        "colab": {
          "base_uri": "https://localhost:8080/"
        },
        "id": "tOFH90lbbEh3",
        "outputId": "5022540a-8b21-47b8-fe75-7697d8e7c93f"
      },
      "execution_count": null,
      "outputs": [
        {
          "output_type": "stream",
          "name": "stdout",
          "text": [
            "qt.qpa.xcb: could not connect to display \n",
            "qt.qpa.plugin: Could not load the Qt platform plugin \"xcb\" in \"/usr/local/lib/python3.8/dist-packages/cv2/qt/plugins\" even though it was found.\n",
            "This application failed to start because no Qt platform plugin could be initialized. Reinstalling the application may fix this problem.\n",
            "\n",
            "Available platform plugins are: xcb.\n",
            "\n"
          ]
        }
      ]
    },
    {
      "cell_type": "code",
      "source": [
        "!python main.py --src /content/drive/MyDrive/DAI_Assignment_1/Q2/FaceSweep_Images/images_29.jpg --dst /content/drive/MyDrive/DAI_Assignment_1/Q2/Dataset/Real/WIN_20230226_00_00_30_Pro.jpg --out /content/drive/MyDrive/DAI_Assignment_1/Q2/Dataset/Fake/WIN_20230226_00_00_30_Pro.jpg --correct_color --out_folder False --src_folder False"
      ],
      "metadata": {
        "colab": {
          "base_uri": "https://localhost:8080/"
        },
        "id": "7jPdAvcLbOaJ",
        "outputId": "536c14ba-fc09-485b-996b-17ac4632f4ae"
      },
      "execution_count": null,
      "outputs": [
        {
          "output_type": "stream",
          "name": "stdout",
          "text": [
            "qt.qpa.xcb: could not connect to display \n",
            "qt.qpa.plugin: Could not load the Qt platform plugin \"xcb\" in \"/usr/local/lib/python3.8/dist-packages/cv2/qt/plugins\" even though it was found.\n",
            "This application failed to start because no Qt platform plugin could be initialized. Reinstalling the application may fix this problem.\n",
            "\n",
            "Available platform plugins are: xcb.\n",
            "\n"
          ]
        }
      ]
    },
    {
      "cell_type": "code",
      "source": [
        "!python main.py --src /content/drive/MyDrive/DAI_Assignment_1/Q2/FaceSweep_Images/images_30.jpg --dst /content/drive/MyDrive/DAI_Assignment_1/Q2/Dataset/Real/WIN_20230226_00_00_34_Pro.jpg --out /content/drive/MyDrive/DAI_Assignment_1/Q2/Dataset/Fake/WIN_20230226_00_00_34_Pro.jpg --correct_color --out_folder False --src_folder False"
      ],
      "metadata": {
        "colab": {
          "base_uri": "https://localhost:8080/"
        },
        "id": "01PhrBk9bN37",
        "outputId": "77a5768a-4111-4613-e913-bda90f5458d5"
      },
      "execution_count": null,
      "outputs": [
        {
          "output_type": "stream",
          "name": "stdout",
          "text": [
            "qt.qpa.xcb: could not connect to display \n",
            "qt.qpa.plugin: Could not load the Qt platform plugin \"xcb\" in \"/usr/local/lib/python3.8/dist-packages/cv2/qt/plugins\" even though it was found.\n",
            "This application failed to start because no Qt platform plugin could be initialized. Reinstalling the application may fix this problem.\n",
            "\n",
            "Available platform plugins are: xcb.\n",
            "\n"
          ]
        }
      ]
    },
    {
      "cell_type": "code",
      "source": [
        "!python main.py --src /content/drive/MyDrive/DAI_Assignment_1/Q2/FaceSweep_Images/images_31.jpg --dst /content/drive/MyDrive/DAI_Assignment_1/Q2/Dataset/Real/WIN_20230226_00_00_39_Pro.jpg --out /content/drive/MyDrive/DAI_Assignment_1/Q2/Dataset/Fake/WIN_20230226_00_00_39_Pro.jpg --correct_color --out_folder False --src_folder False"
      ],
      "metadata": {
        "colab": {
          "base_uri": "https://localhost:8080/"
        },
        "id": "6rP-X5HTbet3",
        "outputId": "4c614e5a-9627-485b-eed8-0bf7361f9bc9"
      },
      "execution_count": null,
      "outputs": [
        {
          "output_type": "stream",
          "name": "stdout",
          "text": [
            "qt.qpa.xcb: could not connect to display \n",
            "qt.qpa.plugin: Could not load the Qt platform plugin \"xcb\" in \"/usr/local/lib/python3.8/dist-packages/cv2/qt/plugins\" even though it was found.\n",
            "This application failed to start because no Qt platform plugin could be initialized. Reinstalling the application may fix this problem.\n",
            "\n",
            "Available platform plugins are: xcb.\n",
            "\n"
          ]
        }
      ]
    },
    {
      "cell_type": "code",
      "source": [
        "!python main.py --src /content/drive/MyDrive/DAI_Assignment_1/Q2/FaceSweep_Images/images_32.jpg --dst /content/drive/MyDrive/DAI_Assignment_1/Q2/Dataset/Real/WIN_20230226_00_00_49_Pro.jpg --out /content/drive/MyDrive/DAI_Assignment_1/Q2/Dataset/Fake/WIN_20230226_00_00_49_Pro.jpg --correct_color --out_folder False --src_folder False"
      ],
      "metadata": {
        "colab": {
          "base_uri": "https://localhost:8080/"
        },
        "id": "eBG_YYiebnGn",
        "outputId": "1e1059a2-908c-482e-d286-6e83eb997634"
      },
      "execution_count": null,
      "outputs": [
        {
          "output_type": "stream",
          "name": "stdout",
          "text": [
            "qt.qpa.xcb: could not connect to display \n",
            "qt.qpa.plugin: Could not load the Qt platform plugin \"xcb\" in \"/usr/local/lib/python3.8/dist-packages/cv2/qt/plugins\" even though it was found.\n",
            "This application failed to start because no Qt platform plugin could be initialized. Reinstalling the application may fix this problem.\n",
            "\n",
            "Available platform plugins are: xcb.\n",
            "\n"
          ]
        }
      ]
    },
    {
      "cell_type": "code",
      "source": [
        "!python main.py --src /content/drive/MyDrive/DAI_Assignment_1/Q2/FaceSweep_Images/images_33.jpg --dst /content/drive/MyDrive/DAI_Assignment_1/Q2/Dataset/Real/WIN_20230226_00_30_39_Pro.jpg --out /content/drive/MyDrive/DAI_Assignment_1/Q2/Dataset/Fake/WIN_20230226_00_30_39_Pro.jpg --correct_color --out_folder False --src_folder False"
      ],
      "metadata": {
        "colab": {
          "base_uri": "https://localhost:8080/"
        },
        "id": "8YeBcVT2btF5",
        "outputId": "76c5b254-b928-431b-8d9f-a4f9062f67a4"
      },
      "execution_count": null,
      "outputs": [
        {
          "output_type": "stream",
          "name": "stdout",
          "text": [
            "qt.qpa.xcb: could not connect to display \n",
            "qt.qpa.plugin: Could not load the Qt platform plugin \"xcb\" in \"/usr/local/lib/python3.8/dist-packages/cv2/qt/plugins\" even though it was found.\n",
            "This application failed to start because no Qt platform plugin could be initialized. Reinstalling the application may fix this problem.\n",
            "\n",
            "Available platform plugins are: xcb.\n",
            "\n"
          ]
        }
      ]
    },
    {
      "cell_type": "code",
      "source": [
        "!python main.py --src /content/drive/MyDrive/DAI_Assignment_1/Q2/FaceSweep_Images/images_34.jpg --dst /content/drive/MyDrive/DAI_Assignment_1/Q2/Dataset/Real/WIN_20230226_00_30_50_Pro.jpg --out /content/drive/MyDrive/DAI_Assignment_1/Q2/Dataset/Fake/WIN_20230226_00_30_50_Pro.jpg --correct_color --out_folder False --src_folder False"
      ],
      "metadata": {
        "colab": {
          "base_uri": "https://localhost:8080/"
        },
        "id": "dcLcDJ7Bb7kf",
        "outputId": "bfee8eac-5f06-49da-d97b-967856abd68f"
      },
      "execution_count": null,
      "outputs": [
        {
          "output_type": "stream",
          "name": "stdout",
          "text": [
            "qt.qpa.xcb: could not connect to display \n",
            "qt.qpa.plugin: Could not load the Qt platform plugin \"xcb\" in \"/usr/local/lib/python3.8/dist-packages/cv2/qt/plugins\" even though it was found.\n",
            "This application failed to start because no Qt platform plugin could be initialized. Reinstalling the application may fix this problem.\n",
            "\n",
            "Available platform plugins are: xcb.\n",
            "\n"
          ]
        }
      ]
    },
    {
      "cell_type": "code",
      "source": [
        "!python main.py --src /content/drive/MyDrive/DAI_Assignment_1/Q2/FaceSweep_Images/images_35.jpg --dst /content/drive/MyDrive/DAI_Assignment_1/Q2/Dataset/Real/WIN_20230226_00_31_15_Pro.jpg --out /content/drive/MyDrive/DAI_Assignment_1/Q2/Dataset/Fake/WIN_20230226_00_31_15_Pro.jpg --correct_color --out_folder False --src_folder False"
      ],
      "metadata": {
        "colab": {
          "base_uri": "https://localhost:8080/"
        },
        "id": "QCz1GRMEcDyt",
        "outputId": "a84631ff-c070-4d6f-c4bd-f738dca794b9"
      },
      "execution_count": null,
      "outputs": [
        {
          "output_type": "stream",
          "name": "stdout",
          "text": [
            "qt.qpa.xcb: could not connect to display \n",
            "qt.qpa.plugin: Could not load the Qt platform plugin \"xcb\" in \"/usr/local/lib/python3.8/dist-packages/cv2/qt/plugins\" even though it was found.\n",
            "This application failed to start because no Qt platform plugin could be initialized. Reinstalling the application may fix this problem.\n",
            "\n",
            "Available platform plugins are: xcb.\n",
            "\n"
          ]
        }
      ]
    },
    {
      "cell_type": "code",
      "source": [
        "!python main.py --src /content/drive/MyDrive/DAI_Assignment_1/Q2/FaceSweep_Images/images_36.jpg --dst /content/drive/MyDrive/DAI_Assignment_1/Q2/Dataset/Real/WIN_20230226_00_31_20_Pro.jpg --out /content/drive/MyDrive/DAI_Assignment_1/Q2/Dataset/Fake/WIN_20230226_00_31_20_Pro.jpg --correct_color --out_folder False --src_folder False"
      ],
      "metadata": {
        "colab": {
          "base_uri": "https://localhost:8080/"
        },
        "id": "xbEnUZIPcK5p",
        "outputId": "0198dc63-7a17-4175-9112-ddb8d624e4ec"
      },
      "execution_count": null,
      "outputs": [
        {
          "output_type": "stream",
          "name": "stdout",
          "text": [
            "qt.qpa.xcb: could not connect to display \n",
            "qt.qpa.plugin: Could not load the Qt platform plugin \"xcb\" in \"/usr/local/lib/python3.8/dist-packages/cv2/qt/plugins\" even though it was found.\n",
            "This application failed to start because no Qt platform plugin could be initialized. Reinstalling the application may fix this problem.\n",
            "\n",
            "Available platform plugins are: xcb.\n",
            "\n"
          ]
        }
      ]
    },
    {
      "cell_type": "markdown",
      "source": [
        "## Model Building"
      ],
      "metadata": {
        "id": "Qd-6L_ead0kz"
      }
    },
    {
      "cell_type": "code",
      "source": [
        "transform_face = transforms.Compose([transforms.ToTensor(),transforms.Resize((224,224))])\n",
        "data_class = datasets.ImageFolder(root='/content/drive/MyDrive/DAI_Assignment_1/Q2/Dataset', transform = transform_face)\n",
        "train_dataset, val_dataset = random_split(data_class, (50, 50))\n",
        "train_loader = DataLoader(dataset=train_dataset, shuffle=True, batch_size=1)\n",
        "test_loader = DataLoader(dataset=val_dataset, shuffle=True, batch_size=1)"
      ],
      "metadata": {
        "id": "bUP0BjmPd0KR"
      },
      "execution_count": null,
      "outputs": []
    },
    {
      "cell_type": "markdown",
      "source": [
        "###1st Variety (Clean v/s PGD with SVHN)"
      ],
      "metadata": {
        "id": "J-cKi2tGl6q2"
      }
    },
    {
      "cell_type": "code",
      "source": [
        "detect_res = Detector_Face('resnet_34')\n",
        "trainer = pl.Trainer(accelerator='gpu', max_epochs=15, resume_from_checkpoint='/content/drive/MyDrive/DAI_Assignment_1/Q1/resnet34_detector/lightning_logs/version_1/checkpoints/epoch=4-step=22895.ckpt', default_root_dir='/content/drive/MyDrive/DAI_Assignment_1/Q2/Models', benchmark=True)\n",
        "trainer.fit(detect_res, train_loader)\n",
        "del trainer, detect_res\n",
        "print(\" \")\n",
        "Model_Resnet = model_return('/content/drive/MyDrive/DAI_Assignment_1/Q2/Models/lightning_logs/version_0/checkpoints/epoch=14-step=23395.ckpt', Detector_Face('resnet_34'))\n",
        "detect_eval(test_loader, Model_Resnet)\n",
        "del Model_Resnet"
      ],
      "metadata": {
        "colab": {
          "base_uri": "https://localhost:8080/"
        },
        "outputId": "47375be1-1b87-49e5-ae20-56a8ea02b971",
        "id": "uT3WMQ40l6q3"
      },
      "execution_count": null,
      "outputs": [
        {
          "output_type": "stream",
          "name": "stdout",
          "text": [
            "Accuracy ===> 52.0%\n"
          ]
        }
      ]
    },
    {
      "cell_type": "markdown",
      "source": [
        "###2nd Variety (Clean v/s Jitter with SVHN)"
      ],
      "metadata": {
        "id": "CX5y9DrZmk0Y"
      }
    },
    {
      "cell_type": "code",
      "source": [
        "detect_res = Detector_Face('resnet_34')\n",
        "trainer = pl.Trainer(accelerator='gpu', max_epochs=15, resume_from_checkpoint='/content/drive/MyDrive/DAI_Assignment_1/Q1/resnet34_detector/lightning_logs/version_4/checkpoints/epoch=4-step=22895.ckpt', default_root_dir='/content/drive/MyDrive/DAI_Assignment_1/Q2/Models', benchmark=True)\n",
        "trainer.fit(detect_res, train_loader)\n",
        "del trainer, detect_res\n",
        "print(\" \")\n",
        "Model_Resnet = model_return('/content/drive/MyDrive/DAI_Assignment_1/Q2/Models/lightning_logs/version_1/checkpoints/epoch=14-step=23395.ckpt', Detector_Face('resnet_34'))\n",
        "detect_eval(test_loader, Model_Resnet)\n",
        "del Model_Resnet"
      ],
      "metadata": {
        "colab": {
          "base_uri": "https://localhost:8080/",
          "height": 416,
          "referenced_widgets": [
            "41a285ffcc424becbe1716ba332cda1c",
            "d9a8455fc7564e28a6bef7f8841043e5",
            "28b15094f1ac4736890c067ffd8c16f7",
            "a70e98d0dcb846a4b370ad09ba95c9c4",
            "9973829d55b644d297265249cb2a8cb9",
            "05b1c88e4f60411180b1a0a8d5e477e5",
            "ef5215e59a6348b999c605a5e387c36d",
            "6a5d8d48f5c943bca9eb879798570f21",
            "15d2b1b3b36140c7b7a4ce38288e8aa8",
            "ccbe6168a4b548819f82bc9001254c3a",
            "345ca3c7f89c46a5805fbf6163018acf"
          ]
        },
        "outputId": "b7b07f91-f776-42bf-cfa8-e546e5a5385c",
        "id": "gT-rAdf-mk0e"
      },
      "execution_count": null,
      "outputs": [
        {
          "output_type": "stream",
          "name": "stderr",
          "text": [
            "INFO:pytorch_lightning.utilities.rank_zero:GPU available: True (cuda), used: True\n",
            "INFO:pytorch_lightning.utilities.rank_zero:TPU available: False, using: 0 TPU cores\n",
            "INFO:pytorch_lightning.utilities.rank_zero:IPU available: False, using: 0 IPUs\n",
            "INFO:pytorch_lightning.utilities.rank_zero:HPU available: False, using: 0 HPUs\n",
            "INFO:pytorch_lightning.utilities.rank_zero:Restoring states from the checkpoint path at /content/drive/MyDrive/DAI_Assignment_1/Q1/resnet34_detector/lightning_logs/version_4/checkpoints/epoch=4-step=22895.ckpt\n",
            "INFO:pytorch_lightning.accelerators.cuda:LOCAL_RANK: 0 - CUDA_VISIBLE_DEVICES: [0]\n",
            "INFO:pytorch_lightning.callbacks.model_summary:\n",
            "  | Name  | Type             | Params\n",
            "-------------------------------------------\n",
            "0 | model | ResNet           | 21.3 M\n",
            "1 | loss  | CrossEntropyLoss | 0     \n",
            "-------------------------------------------\n",
            "21.3 M    Trainable params\n",
            "0         Non-trainable params\n",
            "21.3 M    Total params\n",
            "85.143    Total estimated model params size (MB)\n",
            "INFO:pytorch_lightning.utilities.rank_zero:Restored all states from the checkpoint file at /content/drive/MyDrive/DAI_Assignment_1/Q1/resnet34_detector/lightning_logs/version_4/checkpoints/epoch=4-step=22895.ckpt\n"
          ]
        },
        {
          "output_type": "display_data",
          "data": {
            "text/plain": [
              "Training: 4579it [00:00, ?it/s]"
            ],
            "application/vnd.jupyter.widget-view+json": {
              "version_major": 2,
              "version_minor": 0,
              "model_id": "41a285ffcc424becbe1716ba332cda1c"
            }
          },
          "metadata": {}
        },
        {
          "output_type": "stream",
          "name": "stderr",
          "text": [
            "INFO:pytorch_lightning.utilities.rank_zero:`Trainer.fit` stopped: `max_epochs=15` reached.\n"
          ]
        },
        {
          "output_type": "stream",
          "name": "stdout",
          "text": [
            " \n",
            "Accuracy ===> 48.0%\n"
          ]
        }
      ]
    },
    {
      "cell_type": "markdown",
      "source": [
        "###3rd Variety (Clean v/s PGD with CIFAR10)"
      ],
      "metadata": {
        "id": "SkHM3IyPnFw8"
      }
    },
    {
      "cell_type": "code",
      "source": [
        "detect_res = Detector_Face('resnet_34')\n",
        "trainer = pl.Trainer(accelerator='gpu', max_epochs=15, resume_from_checkpoint='/content/drive/MyDrive/DAI_Assignment_1/Q1/resnet34_detector_cifar/lightning_logs/version_3/checkpoints/epoch=4-step=15625.ckpt', default_root_dir='/content/drive/MyDrive/DAI_Assignment_1/Q2/Models', benchmark=True)\n",
        "trainer.fit(detect_res, train_loader)\n",
        "del trainer, detect_res\n",
        "print(\" \")\n",
        "Model_Resnet = model_return('/content/drive/MyDrive/DAI_Assignment_1/Q2/Models/lightning_logs/version_2/checkpoints/epoch=14-step=16125.ckpt', Detector_Face('resnet_34'))\n",
        "detect_eval(test_loader, Model_Resnet)\n",
        "del Model_Resnet"
      ],
      "metadata": {
        "colab": {
          "base_uri": "https://localhost:8080/",
          "height": 451,
          "referenced_widgets": [
            "4185bdca55b349f9b1eced1605f3c454",
            "40b1fa113b424ec59fea5f36dad688ee",
            "22934aad0f3f470db88b5a01e40e3978",
            "7380dda7928044c691204e124e5c36cd",
            "2ef4ab39a75a47fba1c0ae55f2c2b9b3",
            "86948ec007d24cddb2b74e2c2f53fdd3",
            "26535bb565b74f30939d874ddf7d50f7",
            "0e716d8e3ecf41bb93b878380505440c",
            "6e1f8ad13a6043bab487304656a7e951",
            "e52e1a79c34e4fcf839f7142a9b3fd67",
            "448f52b7c6914b10ad5892e2b19f42be"
          ]
        },
        "id": "hwT6blWHnFw9",
        "outputId": "9122f972-5154-412e-aa92-e7dfd87d3a15"
      },
      "execution_count": null,
      "outputs": [
        {
          "output_type": "stream",
          "name": "stderr",
          "text": [
            "INFO:pytorch_lightning.utilities.rank_zero:GPU available: True (cuda), used: True\n",
            "INFO:pytorch_lightning.utilities.rank_zero:TPU available: False, using: 0 TPU cores\n",
            "INFO:pytorch_lightning.utilities.rank_zero:IPU available: False, using: 0 IPUs\n",
            "INFO:pytorch_lightning.utilities.rank_zero:HPU available: False, using: 0 HPUs\n",
            "INFO:pytorch_lightning.utilities.rank_zero:Restoring states from the checkpoint path at /content/drive/MyDrive/DAI_Assignment_1/Q1/resnet34_detector_cifar/lightning_logs/version_3/checkpoints/epoch=4-step=15625.ckpt\n",
            "/usr/local/lib/python3.8/dist-packages/pytorch_lightning/callbacks/model_checkpoint.py:338: UserWarning: The dirpath has changed from '/content/drive/MyDrive/DAI_Assignment_1/Q1/resnet34_detector_cifar/lightning_logs/version_3/checkpoints' to '/content/drive/MyDrive/DAI_Assignment_1/Q2/Models/lightning_logs/version_2/checkpoints', therefore `best_model_score`, `kth_best_model_path`, `kth_value`, `last_model_path` and `best_k_models` won't be reloaded. Only `best_model_path` will be reloaded.\n",
            "  warnings.warn(\n",
            "INFO:pytorch_lightning.accelerators.cuda:LOCAL_RANK: 0 - CUDA_VISIBLE_DEVICES: [0]\n",
            "INFO:pytorch_lightning.callbacks.model_summary:\n",
            "  | Name  | Type             | Params\n",
            "-------------------------------------------\n",
            "0 | model | ResNet           | 21.3 M\n",
            "1 | loss  | CrossEntropyLoss | 0     \n",
            "-------------------------------------------\n",
            "21.3 M    Trainable params\n",
            "0         Non-trainable params\n",
            "21.3 M    Total params\n",
            "85.143    Total estimated model params size (MB)\n",
            "INFO:pytorch_lightning.utilities.rank_zero:Restored all states from the checkpoint file at /content/drive/MyDrive/DAI_Assignment_1/Q1/resnet34_detector_cifar/lightning_logs/version_3/checkpoints/epoch=4-step=15625.ckpt\n"
          ]
        },
        {
          "output_type": "display_data",
          "data": {
            "text/plain": [
              "Training: 3125it [00:00, ?it/s]"
            ],
            "application/vnd.jupyter.widget-view+json": {
              "version_major": 2,
              "version_minor": 0,
              "model_id": "4185bdca55b349f9b1eced1605f3c454"
            }
          },
          "metadata": {}
        },
        {
          "output_type": "stream",
          "name": "stderr",
          "text": [
            "INFO:pytorch_lightning.utilities.rank_zero:`Trainer.fit` stopped: `max_epochs=15` reached.\n"
          ]
        },
        {
          "output_type": "stream",
          "name": "stdout",
          "text": [
            " \n",
            "Accuracy ===> 50.0%\n"
          ]
        }
      ]
    },
    {
      "cell_type": "markdown",
      "source": [
        "###4th Variety (Clean v/s Jitter with CIFAR10)"
      ],
      "metadata": {
        "id": "W1P19yK6l3n0"
      }
    },
    {
      "cell_type": "code",
      "source": [
        "detect_res = Detector_Face('resnet_34')\n",
        "trainer = pl.Trainer(accelerator='gpu', max_epochs=15, resume_from_checkpoint='/content/drive/MyDrive/DAI_Assignment_1/Q1/resnet34_detector_cifar/lightning_logs/version_4/checkpoints/epoch=4-step=15625.ckpt', default_root_dir='/content/drive/MyDrive/DAI_Assignment_1/Q2/Models', benchmark=True)\n",
        "trainer.fit(detect_res, train_loader)\n",
        "del trainer, detect_res\n",
        "print(\" \")\n",
        "Model_Resnet = model_return('/content/drive/MyDrive/DAI_Assignment_1/Q2/Models/lightning_logs/version_3/checkpoints/epoch=14-step=16125.ckpt', Detector_Face('resnet_34'))\n",
        "detect_eval(test_loader, Model_Resnet)\n",
        "del Model_Resnet"
      ],
      "metadata": {
        "colab": {
          "base_uri": "https://localhost:8080/",
          "height": 451,
          "referenced_widgets": [
            "b188b537982c4fe28b25da4fe3e82c7d",
            "1a51caebc22e4eb1b4d86731d601b1f8",
            "78f3cbca44bf4af4a4b724e7b3cae5df",
            "9b265f4c3aa047c0ac4c034f2d2b8366",
            "5d3ba48dadc94268a4dee553dd40b35d",
            "02982b0c6aac47ea9e5d45b80fb68e52",
            "52a773d9220d4d909127ca2d4194c17c",
            "a5330e1376504d5f8ae17bd3edbde2ab",
            "eb54aded7dac431b9efc11e4c7fce08d",
            "850888c2b36945de968ec9bfd68feeeb",
            "11c1a39d7633471084a5cbdc818d8f59"
          ]
        },
        "id": "gfPkzW7xfd9j",
        "outputId": "387cf6ed-d131-4380-f81e-4bc3a6a8206f"
      },
      "execution_count": null,
      "outputs": [
        {
          "output_type": "stream",
          "name": "stderr",
          "text": [
            "INFO:pytorch_lightning.utilities.rank_zero:GPU available: True (cuda), used: True\n",
            "INFO:pytorch_lightning.utilities.rank_zero:TPU available: False, using: 0 TPU cores\n",
            "INFO:pytorch_lightning.utilities.rank_zero:IPU available: False, using: 0 IPUs\n",
            "INFO:pytorch_lightning.utilities.rank_zero:HPU available: False, using: 0 HPUs\n",
            "INFO:pytorch_lightning.utilities.rank_zero:Restoring states from the checkpoint path at /content/drive/MyDrive/DAI_Assignment_1/Q1/resnet34_detector_cifar/lightning_logs/version_4/checkpoints/epoch=4-step=15625.ckpt\n",
            "/usr/local/lib/python3.8/dist-packages/pytorch_lightning/callbacks/model_checkpoint.py:338: UserWarning: The dirpath has changed from '/content/drive/MyDrive/DAI_Assignment_1/Q1/resnet34_detector_cifar/lightning_logs/version_4/checkpoints' to '/content/drive/MyDrive/DAI_Assignment_1/Q2/Models/lightning_logs/version_3/checkpoints', therefore `best_model_score`, `kth_best_model_path`, `kth_value`, `last_model_path` and `best_k_models` won't be reloaded. Only `best_model_path` will be reloaded.\n",
            "  warnings.warn(\n",
            "INFO:pytorch_lightning.accelerators.cuda:LOCAL_RANK: 0 - CUDA_VISIBLE_DEVICES: [0]\n",
            "INFO:pytorch_lightning.callbacks.model_summary:\n",
            "  | Name  | Type             | Params\n",
            "-------------------------------------------\n",
            "0 | model | ResNet           | 21.3 M\n",
            "1 | loss  | CrossEntropyLoss | 0     \n",
            "-------------------------------------------\n",
            "21.3 M    Trainable params\n",
            "0         Non-trainable params\n",
            "21.3 M    Total params\n",
            "85.143    Total estimated model params size (MB)\n",
            "INFO:pytorch_lightning.utilities.rank_zero:Restored all states from the checkpoint file at /content/drive/MyDrive/DAI_Assignment_1/Q1/resnet34_detector_cifar/lightning_logs/version_4/checkpoints/epoch=4-step=15625.ckpt\n"
          ]
        },
        {
          "output_type": "display_data",
          "data": {
            "text/plain": [
              "Training: 3125it [00:00, ?it/s]"
            ],
            "application/vnd.jupyter.widget-view+json": {
              "version_major": 2,
              "version_minor": 0,
              "model_id": "b188b537982c4fe28b25da4fe3e82c7d"
            }
          },
          "metadata": {}
        },
        {
          "output_type": "stream",
          "name": "stderr",
          "text": [
            "INFO:pytorch_lightning.utilities.rank_zero:`Trainer.fit` stopped: `max_epochs=15` reached.\n"
          ]
        },
        {
          "output_type": "stream",
          "name": "stdout",
          "text": [
            " \n",
            "Accuracy ===> 48.0%\n"
          ]
        }
      ]
    },
    {
      "cell_type": "markdown",
      "source": [
        "#Question-3\n",
        "###Drive Link--->(https://drive.google.com/drive/folders/1lMVAN3glfGllGXQzQODKoH5U_QdEQ3n-?usp=sharing)"
      ],
      "metadata": {
        "id": "APE7NxM7PqXp"
      }
    },
    {
      "cell_type": "code",
      "source": [
        "with open('/content/drive/MyDrive/DAI_Assignment_1/Q3/Recorded/Eng_1000_20230228_040459.json') as f:\n",
        "    json_data = json.load(f)\n",
        "\n",
        "with open('/content/drive/MyDrive/DAI_Assignment_1/Q3/Recorded/Eng_1000_20230228_040459.csv', 'w', newline='') as f:\n",
        "    writer = csv.writer(f)\n",
        "    writer.writerow([\"wave\", \"text\"])\n",
        "    for item in json_data:\n",
        "        writer.writerow([item[\"wave\"], item[\"text\"]])"
      ],
      "metadata": {
        "id": "MjTxz7F-ZWu9"
      },
      "execution_count": null,
      "outputs": []
    },
    {
      "cell_type": "code",
      "source": [
        "with open('/content/drive/MyDrive/DAI_Assignment_1/Q3/Recorded/Hindi_1000_20230301_110259.json') as f:\n",
        "    json_data = json.load(f)\n",
        "\n",
        "with open('/content/drive/MyDrive/DAI_Assignment_1/Q3/Recorded/Hindi_1000_20230301_110259.csv', 'w', newline='') as f:\n",
        "    writer = csv.writer(f)\n",
        "    writer.writerow([\"wave\", \"text\"])\n",
        "    for item in json_data:\n",
        "        writer.writerow([item[\"wave\"], item[\"text\"]])"
      ],
      "metadata": {
        "id": "2IhhZ4ErZxOP"
      },
      "execution_count": null,
      "outputs": []
    },
    {
      "cell_type": "code",
      "source": [
        "with open('/content/drive/MyDrive/DAI_Assignment_1/Q3/random_genrate_english.txt', 'r') as infile:\n",
        "    with open('/content/drive/MyDrive/DAI_Assignment_1/Q3/Eng_1000.txt', 'w') as outfile:\n",
        "        for i in tqdm(range(1000)):\n",
        "            line = infile.readline().strip()\n",
        "            while line.endswith('\\\\'):\n",
        "                line = line[:-1] + infile.readline().strip()\n",
        "            outfile.write(line + '\\n')\n",
        "infile.close()\n",
        "outfile.close()"
      ],
      "metadata": {
        "colab": {
          "base_uri": "https://localhost:8080/"
        },
        "id": "VhGpdIBLP3a8",
        "outputId": "4093e50e-fd52-4986-e80b-5ddee6bc9707"
      },
      "execution_count": null,
      "outputs": [
        {
          "output_type": "stream",
          "name": "stderr",
          "text": [
            "100%|██████████| 1000/1000 [00:00<00:00, 1840.78it/s]\n"
          ]
        }
      ]
    },
    {
      "cell_type": "code",
      "source": [
        "with open('/content/drive/MyDrive/DAI_Assignment_1/Q3/random_genrate_hindi.txt', 'r') as infile:\n",
        "    with open('/content/drive/MyDrive/DAI_Assignment_1/Q3/Hindi_1000.txt', 'w') as outfile:\n",
        "        for i in tqdm(range(1000)):\n",
        "            line = infile.readline().strip()\n",
        "            while line.endswith('\\\\'):\n",
        "                line = line[:-1] + infile.readline().strip()\n",
        "            outfile.write(line + '\\n')\n",
        "infile.close()\n",
        "outfile.close()"
      ],
      "metadata": {
        "colab": {
          "base_uri": "https://localhost:8080/"
        },
        "id": "NEdBvr_QQYxL",
        "outputId": "994434f4-4f2c-4490-82ad-2d098c71b33e"
      },
      "execution_count": null,
      "outputs": [
        {
          "output_type": "stream",
          "name": "stderr",
          "text": [
            "100%|██████████| 1000/1000 [00:00<00:00, 2259.25it/s]\n"
          ]
        }
      ]
    },
    {
      "cell_type": "code",
      "source": [
        "with open('/content/drive/MyDrive/DAI_Assignment_1/Q3/Eng_1000.txt', 'r') as f:\n",
        "    for i, line in tqdm(enumerate(f)):\n",
        "        tts = gTTS(line)\n",
        "        tts.save(f'/content/drive/MyDrive/DAI_Assignment_1/Q3/Generated_English/{i}.wav')"
      ],
      "metadata": {
        "colab": {
          "base_uri": "https://localhost:8080/",
          "height": 484
        },
        "id": "TSZxiwJ6bJ7a",
        "outputId": "9ba32678-341f-43f0-917f-b52a6734f8a0"
      },
      "execution_count": null,
      "outputs": [
        {
          "output_type": "stream",
          "name": "stderr",
          "text": [
            "998it [05:58,  2.78it/s]\n"
          ]
        },
        {
          "output_type": "error",
          "ename": "gTTSError",
          "evalue": "ignored",
          "traceback": [
            "\u001b[0;31m---------------------------------------------------------------------------\u001b[0m",
            "\u001b[0;31mHTTPError\u001b[0m                                 Traceback (most recent call last)",
            "\u001b[0;32m/usr/local/lib/python3.8/dist-packages/gtts/tts.py\u001b[0m in \u001b[0;36mstream\u001b[0;34m(self)\u001b[0m\n\u001b[1;32m    268\u001b[0m \u001b[0;34m\u001b[0m\u001b[0m\n\u001b[0;32m--> 269\u001b[0;31m                 \u001b[0mr\u001b[0m\u001b[0;34m.\u001b[0m\u001b[0mraise_for_status\u001b[0m\u001b[0;34m(\u001b[0m\u001b[0;34m)\u001b[0m\u001b[0;34m\u001b[0m\u001b[0;34m\u001b[0m\u001b[0m\n\u001b[0m\u001b[1;32m    270\u001b[0m             \u001b[0;32mexcept\u001b[0m \u001b[0mrequests\u001b[0m\u001b[0;34m.\u001b[0m\u001b[0mexceptions\u001b[0m\u001b[0;34m.\u001b[0m\u001b[0mHTTPError\u001b[0m \u001b[0;32mas\u001b[0m \u001b[0me\u001b[0m\u001b[0;34m:\u001b[0m  \u001b[0;31m# pragma: no cover\u001b[0m\u001b[0;34m\u001b[0m\u001b[0;34m\u001b[0m\u001b[0m\n",
            "\u001b[0;32m/usr/local/lib/python3.8/dist-packages/requests/models.py\u001b[0m in \u001b[0;36mraise_for_status\u001b[0;34m(self)\u001b[0m\n\u001b[1;32m   1020\u001b[0m         \u001b[0;32mif\u001b[0m \u001b[0mhttp_error_msg\u001b[0m\u001b[0;34m:\u001b[0m\u001b[0;34m\u001b[0m\u001b[0;34m\u001b[0m\u001b[0m\n\u001b[0;32m-> 1021\u001b[0;31m             \u001b[0;32mraise\u001b[0m \u001b[0mHTTPError\u001b[0m\u001b[0;34m(\u001b[0m\u001b[0mhttp_error_msg\u001b[0m\u001b[0;34m,\u001b[0m \u001b[0mresponse\u001b[0m\u001b[0;34m=\u001b[0m\u001b[0mself\u001b[0m\u001b[0;34m)\u001b[0m\u001b[0;34m\u001b[0m\u001b[0;34m\u001b[0m\u001b[0m\n\u001b[0m\u001b[1;32m   1022\u001b[0m \u001b[0;34m\u001b[0m\u001b[0m\n",
            "\u001b[0;31mHTTPError\u001b[0m: 429 Client Error: Too Many Requests for url: https://www.google.com/sorry/index?continue=https://translate.google.com/_/TranslateWebserverUi/data/batchexecute&q=EgQiUL85GOWV_58GIjAgywzXCqUJ5xnm-shRvONpK_-pj92PvpAFMULBYofPG_7qXftt5J6jwhAUp9TQ66MyAXI",
            "\nDuring handling of the above exception, another exception occurred:\n",
            "\u001b[0;31mgTTSError\u001b[0m                                 Traceback (most recent call last)",
            "\u001b[0;32m<ipython-input-4-50545b7bf2cb>\u001b[0m in \u001b[0;36m<module>\u001b[0;34m\u001b[0m\n\u001b[1;32m      2\u001b[0m     \u001b[0;32mfor\u001b[0m \u001b[0mi\u001b[0m\u001b[0;34m,\u001b[0m \u001b[0mline\u001b[0m \u001b[0;32min\u001b[0m \u001b[0mtqdm\u001b[0m\u001b[0;34m(\u001b[0m\u001b[0menumerate\u001b[0m\u001b[0;34m(\u001b[0m\u001b[0mf\u001b[0m\u001b[0;34m)\u001b[0m\u001b[0;34m)\u001b[0m\u001b[0;34m:\u001b[0m\u001b[0;34m\u001b[0m\u001b[0;34m\u001b[0m\u001b[0m\n\u001b[1;32m      3\u001b[0m         \u001b[0mtts\u001b[0m \u001b[0;34m=\u001b[0m \u001b[0mgTTS\u001b[0m\u001b[0;34m(\u001b[0m\u001b[0mline\u001b[0m\u001b[0;34m)\u001b[0m\u001b[0;34m\u001b[0m\u001b[0;34m\u001b[0m\u001b[0m\n\u001b[0;32m----> 4\u001b[0;31m         \u001b[0mtts\u001b[0m\u001b[0;34m.\u001b[0m\u001b[0msave\u001b[0m\u001b[0;34m(\u001b[0m\u001b[0;34mf'/content/drive/MyDrive/DAI_Assignment_1/Q3/Generated_English/{i}.wav'\u001b[0m\u001b[0;34m)\u001b[0m\u001b[0;34m\u001b[0m\u001b[0;34m\u001b[0m\u001b[0m\n\u001b[0m",
            "\u001b[0;32m/usr/local/lib/python3.8/dist-packages/gtts/tts.py\u001b[0m in \u001b[0;36msave\u001b[0;34m(self, savefile)\u001b[0m\n\u001b[1;32m    323\u001b[0m         \"\"\"\n\u001b[1;32m    324\u001b[0m         \u001b[0;32mwith\u001b[0m \u001b[0mopen\u001b[0m\u001b[0;34m(\u001b[0m\u001b[0mstr\u001b[0m\u001b[0;34m(\u001b[0m\u001b[0msavefile\u001b[0m\u001b[0;34m)\u001b[0m\u001b[0;34m,\u001b[0m \u001b[0;34m\"wb\"\u001b[0m\u001b[0;34m)\u001b[0m \u001b[0;32mas\u001b[0m \u001b[0mf\u001b[0m\u001b[0;34m:\u001b[0m\u001b[0;34m\u001b[0m\u001b[0;34m\u001b[0m\u001b[0m\n\u001b[0;32m--> 325\u001b[0;31m             \u001b[0mself\u001b[0m\u001b[0;34m.\u001b[0m\u001b[0mwrite_to_fp\u001b[0m\u001b[0;34m(\u001b[0m\u001b[0mf\u001b[0m\u001b[0;34m)\u001b[0m\u001b[0;34m\u001b[0m\u001b[0;34m\u001b[0m\u001b[0m\n\u001b[0m\u001b[1;32m    326\u001b[0m             \u001b[0mlog\u001b[0m\u001b[0;34m.\u001b[0m\u001b[0mdebug\u001b[0m\u001b[0;34m(\u001b[0m\u001b[0;34m\"Saved to %s\"\u001b[0m\u001b[0;34m,\u001b[0m \u001b[0msavefile\u001b[0m\u001b[0;34m)\u001b[0m\u001b[0;34m\u001b[0m\u001b[0;34m\u001b[0m\u001b[0m\n\u001b[1;32m    327\u001b[0m \u001b[0;34m\u001b[0m\u001b[0m\n",
            "\u001b[0;32m/usr/local/lib/python3.8/dist-packages/gtts/tts.py\u001b[0m in \u001b[0;36mwrite_to_fp\u001b[0;34m(self, fp)\u001b[0m\n\u001b[1;32m    304\u001b[0m \u001b[0;34m\u001b[0m\u001b[0m\n\u001b[1;32m    305\u001b[0m         \u001b[0;32mtry\u001b[0m\u001b[0;34m:\u001b[0m\u001b[0;34m\u001b[0m\u001b[0;34m\u001b[0m\u001b[0m\n\u001b[0;32m--> 306\u001b[0;31m             \u001b[0;32mfor\u001b[0m \u001b[0midx\u001b[0m\u001b[0;34m,\u001b[0m \u001b[0mdecoded\u001b[0m \u001b[0;32min\u001b[0m \u001b[0menumerate\u001b[0m\u001b[0;34m(\u001b[0m\u001b[0mself\u001b[0m\u001b[0;34m.\u001b[0m\u001b[0mstream\u001b[0m\u001b[0;34m(\u001b[0m\u001b[0;34m)\u001b[0m\u001b[0;34m)\u001b[0m\u001b[0;34m:\u001b[0m\u001b[0;34m\u001b[0m\u001b[0;34m\u001b[0m\u001b[0m\n\u001b[0m\u001b[1;32m    307\u001b[0m                 \u001b[0mfp\u001b[0m\u001b[0;34m.\u001b[0m\u001b[0mwrite\u001b[0m\u001b[0;34m(\u001b[0m\u001b[0mdecoded\u001b[0m\u001b[0;34m)\u001b[0m\u001b[0;34m\u001b[0m\u001b[0;34m\u001b[0m\u001b[0m\n\u001b[1;32m    308\u001b[0m                 \u001b[0mlog\u001b[0m\u001b[0;34m.\u001b[0m\u001b[0mdebug\u001b[0m\u001b[0;34m(\u001b[0m\u001b[0;34m\"part-%i written to %s\"\u001b[0m\u001b[0;34m,\u001b[0m \u001b[0midx\u001b[0m\u001b[0;34m,\u001b[0m \u001b[0mfp\u001b[0m\u001b[0;34m)\u001b[0m\u001b[0;34m\u001b[0m\u001b[0;34m\u001b[0m\u001b[0m\n",
            "\u001b[0;32m/usr/local/lib/python3.8/dist-packages/gtts/tts.py\u001b[0m in \u001b[0;36mstream\u001b[0;34m(self)\u001b[0m\n\u001b[1;32m    271\u001b[0m                 \u001b[0;31m# Request successful, bad response\u001b[0m\u001b[0;34m\u001b[0m\u001b[0;34m\u001b[0m\u001b[0;34m\u001b[0m\u001b[0m\n\u001b[1;32m    272\u001b[0m                 \u001b[0mlog\u001b[0m\u001b[0;34m.\u001b[0m\u001b[0mdebug\u001b[0m\u001b[0;34m(\u001b[0m\u001b[0mstr\u001b[0m\u001b[0;34m(\u001b[0m\u001b[0me\u001b[0m\u001b[0;34m)\u001b[0m\u001b[0;34m)\u001b[0m\u001b[0;34m\u001b[0m\u001b[0;34m\u001b[0m\u001b[0m\n\u001b[0;32m--> 273\u001b[0;31m                 \u001b[0;32mraise\u001b[0m \u001b[0mgTTSError\u001b[0m\u001b[0;34m(\u001b[0m\u001b[0mtts\u001b[0m\u001b[0;34m=\u001b[0m\u001b[0mself\u001b[0m\u001b[0;34m,\u001b[0m \u001b[0mresponse\u001b[0m\u001b[0;34m=\u001b[0m\u001b[0mr\u001b[0m\u001b[0;34m)\u001b[0m\u001b[0;34m\u001b[0m\u001b[0;34m\u001b[0m\u001b[0m\n\u001b[0m\u001b[1;32m    274\u001b[0m             \u001b[0;32mexcept\u001b[0m \u001b[0mrequests\u001b[0m\u001b[0;34m.\u001b[0m\u001b[0mexceptions\u001b[0m\u001b[0;34m.\u001b[0m\u001b[0mRequestException\u001b[0m \u001b[0;32mas\u001b[0m \u001b[0me\u001b[0m\u001b[0;34m:\u001b[0m  \u001b[0;31m# pragma: no cover\u001b[0m\u001b[0;34m\u001b[0m\u001b[0;34m\u001b[0m\u001b[0m\n\u001b[1;32m    275\u001b[0m                 \u001b[0;31m# Request failed\u001b[0m\u001b[0;34m\u001b[0m\u001b[0;34m\u001b[0m\u001b[0;34m\u001b[0m\u001b[0m\n",
            "\u001b[0;31mgTTSError\u001b[0m: 429 (Too Many Requests) from TTS API. Probable cause: Unknown"
          ]
        }
      ]
    },
    {
      "cell_type": "code",
      "source": [
        "with open('/content/drive/MyDrive/DAI_Assignment_1/Q3/Hindi_1000.txt', 'r', encoding='utf-8') as f:\n",
        "    for i, line in tqdm(enumerate(f)):\n",
        "        tts = gTTS(line, lang='hi')\n",
        "        tts.save(f'/content/drive/MyDrive/DAI_Assignment_1/Q3/Generated_Hindi/{i}.wav')"
      ],
      "metadata": {
        "colab": {
          "base_uri": "https://localhost:8080/"
        },
        "id": "AXADd--rcdLx",
        "outputId": "0f8888c1-69a0-49e0-8198-9e3ca74db8bd"
      },
      "execution_count": null,
      "outputs": [
        {
          "output_type": "stream",
          "name": "stderr",
          "text": [
            "1000it [07:05,  2.35it/s]\n"
          ]
        }
      ]
    }
  ],
  "metadata": {
    "colab": {
      "collapsed_sections": [
        "eZvchEIi8Yud",
        "6IfT1Bm976lB",
        "eZtx5lCV73KJ",
        "X9lL1uHq79jK",
        "CX3Hcx_3SyKK",
        "MK3nDqO2S3kg",
        "rLy1nEFMP4p9",
        "iLqzC1CJP_S9",
        "xfgVaS14z2JB",
        "1OES8yv3FXOx",
        "q2Ft1vFsGMTU",
        "HdW_DJCVwvqn",
        "qXBHLuW6w4h_",
        "r8YjXUQagDTq"
      ],
      "provenance": []
    },
    "gpuClass": "standard",
    "kernelspec": {
      "display_name": "Python 3",
      "name": "python3"
    },
    "language_info": {
      "name": "python"
    },
    "widgets": {
      "application/vnd.jupyter.widget-state+json": {
        "1fcddc94bf3d4fe4995e5d6a85dcd0d6": {
          "model_module": "@jupyter-widgets/base",
          "model_module_version": "1.2.0",
          "model_name": "LayoutModel",
          "state": {
            "_model_module": "@jupyter-widgets/base",
            "_model_module_version": "1.2.0",
            "_model_name": "LayoutModel",
            "_view_count": null,
            "_view_module": "@jupyter-widgets/base",
            "_view_module_version": "1.2.0",
            "_view_name": "LayoutView",
            "align_content": null,
            "align_items": null,
            "align_self": null,
            "border": null,
            "bottom": null,
            "display": "inline-flex",
            "flex": null,
            "flex_flow": "row wrap",
            "grid_area": null,
            "grid_auto_columns": null,
            "grid_auto_flow": null,
            "grid_auto_rows": null,
            "grid_column": null,
            "grid_gap": null,
            "grid_row": null,
            "grid_template_areas": null,
            "grid_template_columns": null,
            "grid_template_rows": null,
            "height": null,
            "justify_content": null,
            "justify_items": null,
            "left": null,
            "margin": null,
            "max_height": null,
            "max_width": null,
            "min_height": null,
            "min_width": null,
            "object_fit": null,
            "object_position": null,
            "order": null,
            "overflow": null,
            "overflow_x": null,
            "overflow_y": null,
            "padding": null,
            "right": null,
            "top": null,
            "visibility": null,
            "width": "100%"
          }
        },
        "2104cc490e784ab3aa1980c752e9f082": {
          "model_module": "@jupyter-widgets/base",
          "model_module_version": "1.2.0",
          "model_name": "LayoutModel",
          "state": {
            "_model_module": "@jupyter-widgets/base",
            "_model_module_version": "1.2.0",
            "_model_name": "LayoutModel",
            "_view_count": null,
            "_view_module": "@jupyter-widgets/base",
            "_view_module_version": "1.2.0",
            "_view_name": "LayoutView",
            "align_content": null,
            "align_items": null,
            "align_self": null,
            "border": null,
            "bottom": null,
            "display": "inline-flex",
            "flex": null,
            "flex_flow": "row wrap",
            "grid_area": null,
            "grid_auto_columns": null,
            "grid_auto_flow": null,
            "grid_auto_rows": null,
            "grid_column": null,
            "grid_gap": null,
            "grid_row": null,
            "grid_template_areas": null,
            "grid_template_columns": null,
            "grid_template_rows": null,
            "height": null,
            "justify_content": null,
            "justify_items": null,
            "left": null,
            "margin": null,
            "max_height": null,
            "max_width": null,
            "min_height": null,
            "min_width": null,
            "object_fit": null,
            "object_position": null,
            "order": null,
            "overflow": null,
            "overflow_x": null,
            "overflow_y": null,
            "padding": null,
            "right": null,
            "top": null,
            "visibility": null,
            "width": "100%"
          }
        },
        "21a11e67bf3442aaa15a1150940d1b98": {
          "model_module": "@jupyter-widgets/base",
          "model_module_version": "1.2.0",
          "model_name": "LayoutModel",
          "state": {
            "_model_module": "@jupyter-widgets/base",
            "_model_module_version": "1.2.0",
            "_model_name": "LayoutModel",
            "_view_count": null,
            "_view_module": "@jupyter-widgets/base",
            "_view_module_version": "1.2.0",
            "_view_name": "LayoutView",
            "align_content": null,
            "align_items": null,
            "align_self": null,
            "border": null,
            "bottom": null,
            "display": null,
            "flex": null,
            "flex_flow": null,
            "grid_area": null,
            "grid_auto_columns": null,
            "grid_auto_flow": null,
            "grid_auto_rows": null,
            "grid_column": null,
            "grid_gap": null,
            "grid_row": null,
            "grid_template_areas": null,
            "grid_template_columns": null,
            "grid_template_rows": null,
            "height": null,
            "justify_content": null,
            "justify_items": null,
            "left": null,
            "margin": null,
            "max_height": null,
            "max_width": null,
            "min_height": null,
            "min_width": null,
            "object_fit": null,
            "object_position": null,
            "order": null,
            "overflow": null,
            "overflow_x": null,
            "overflow_y": null,
            "padding": null,
            "right": null,
            "top": null,
            "visibility": null,
            "width": null
          }
        },
        "21d0f3b6d8a74bf5a0774bbd21aa6c9b": {
          "model_module": "@jupyter-widgets/base",
          "model_module_version": "1.2.0",
          "model_name": "LayoutModel",
          "state": {
            "_model_module": "@jupyter-widgets/base",
            "_model_module_version": "1.2.0",
            "_model_name": "LayoutModel",
            "_view_count": null,
            "_view_module": "@jupyter-widgets/base",
            "_view_module_version": "1.2.0",
            "_view_name": "LayoutView",
            "align_content": null,
            "align_items": null,
            "align_self": null,
            "border": null,
            "bottom": null,
            "display": "inline-flex",
            "flex": null,
            "flex_flow": "row wrap",
            "grid_area": null,
            "grid_auto_columns": null,
            "grid_auto_flow": null,
            "grid_auto_rows": null,
            "grid_column": null,
            "grid_gap": null,
            "grid_row": null,
            "grid_template_areas": null,
            "grid_template_columns": null,
            "grid_template_rows": null,
            "height": null,
            "justify_content": null,
            "justify_items": null,
            "left": null,
            "margin": null,
            "max_height": null,
            "max_width": null,
            "min_height": null,
            "min_width": null,
            "object_fit": null,
            "object_position": null,
            "order": null,
            "overflow": null,
            "overflow_x": null,
            "overflow_y": null,
            "padding": null,
            "right": null,
            "top": null,
            "visibility": null,
            "width": "100%"
          }
        },
        "2a0e7dd34da642bd8a3843b4e25d1683": {
          "model_module": "@jupyter-widgets/base",
          "model_module_version": "1.2.0",
          "model_name": "LayoutModel",
          "state": {
            "_model_module": "@jupyter-widgets/base",
            "_model_module_version": "1.2.0",
            "_model_name": "LayoutModel",
            "_view_count": null,
            "_view_module": "@jupyter-widgets/base",
            "_view_module_version": "1.2.0",
            "_view_name": "LayoutView",
            "align_content": null,
            "align_items": null,
            "align_self": null,
            "border": null,
            "bottom": null,
            "display": null,
            "flex": null,
            "flex_flow": null,
            "grid_area": null,
            "grid_auto_columns": null,
            "grid_auto_flow": null,
            "grid_auto_rows": null,
            "grid_column": null,
            "grid_gap": null,
            "grid_row": null,
            "grid_template_areas": null,
            "grid_template_columns": null,
            "grid_template_rows": null,
            "height": null,
            "justify_content": null,
            "justify_items": null,
            "left": null,
            "margin": null,
            "max_height": null,
            "max_width": null,
            "min_height": null,
            "min_width": null,
            "object_fit": null,
            "object_position": null,
            "order": null,
            "overflow": null,
            "overflow_x": null,
            "overflow_y": null,
            "padding": null,
            "right": null,
            "top": null,
            "visibility": null,
            "width": null
          }
        },
        "2e104700f5d940e5b9ce6c71cab8df33": {
          "model_module": "@jupyter-widgets/controls",
          "model_module_version": "1.5.0",
          "model_name": "DescriptionStyleModel",
          "state": {
            "_model_module": "@jupyter-widgets/controls",
            "_model_module_version": "1.5.0",
            "_model_name": "DescriptionStyleModel",
            "_view_count": null,
            "_view_module": "@jupyter-widgets/base",
            "_view_module_version": "1.2.0",
            "_view_name": "StyleView",
            "description_width": ""
          }
        },
        "2e59e3f57a39468a8c6832a021e8e256": {
          "model_module": "@jupyter-widgets/controls",
          "model_module_version": "1.5.0",
          "model_name": "DescriptionStyleModel",
          "state": {
            "_model_module": "@jupyter-widgets/controls",
            "_model_module_version": "1.5.0",
            "_model_name": "DescriptionStyleModel",
            "_view_count": null,
            "_view_module": "@jupyter-widgets/base",
            "_view_module_version": "1.2.0",
            "_view_name": "StyleView",
            "description_width": ""
          }
        },
        "3397acc58e22400d95227dd79097173b": {
          "model_module": "@jupyter-widgets/controls",
          "model_module_version": "1.5.0",
          "model_name": "ProgressStyleModel",
          "state": {
            "_model_module": "@jupyter-widgets/controls",
            "_model_module_version": "1.5.0",
            "_model_name": "ProgressStyleModel",
            "_view_count": null,
            "_view_module": "@jupyter-widgets/base",
            "_view_module_version": "1.2.0",
            "_view_name": "StyleView",
            "bar_color": null,
            "description_width": ""
          }
        },
        "42362601eb194678af5e7d91886dd1ca": {
          "model_module": "@jupyter-widgets/base",
          "model_module_version": "1.2.0",
          "model_name": "LayoutModel",
          "state": {
            "_model_module": "@jupyter-widgets/base",
            "_model_module_version": "1.2.0",
            "_model_name": "LayoutModel",
            "_view_count": null,
            "_view_module": "@jupyter-widgets/base",
            "_view_module_version": "1.2.0",
            "_view_name": "LayoutView",
            "align_content": null,
            "align_items": null,
            "align_self": null,
            "border": null,
            "bottom": null,
            "display": null,
            "flex": null,
            "flex_flow": null,
            "grid_area": null,
            "grid_auto_columns": null,
            "grid_auto_flow": null,
            "grid_auto_rows": null,
            "grid_column": null,
            "grid_gap": null,
            "grid_row": null,
            "grid_template_areas": null,
            "grid_template_columns": null,
            "grid_template_rows": null,
            "height": null,
            "justify_content": null,
            "justify_items": null,
            "left": null,
            "margin": null,
            "max_height": null,
            "max_width": null,
            "min_height": null,
            "min_width": null,
            "object_fit": null,
            "object_position": null,
            "order": null,
            "overflow": null,
            "overflow_x": null,
            "overflow_y": null,
            "padding": null,
            "right": null,
            "top": null,
            "visibility": null,
            "width": null
          }
        },
        "5048c7ee2c8e477bbd065ff426ce2d03": {
          "model_module": "@jupyter-widgets/controls",
          "model_module_version": "1.5.0",
          "model_name": "HBoxModel",
          "state": {
            "_dom_classes": [],
            "_model_module": "@jupyter-widgets/controls",
            "_model_module_version": "1.5.0",
            "_model_name": "HBoxModel",
            "_view_count": null,
            "_view_module": "@jupyter-widgets/controls",
            "_view_module_version": "1.5.0",
            "_view_name": "HBoxView",
            "box_style": "",
            "children": [
              "IPY_MODEL_c411bfae711c4c1bb67dde1313a78ac7",
              "IPY_MODEL_c501e456de984c4cabe9d53ef0daba88",
              "IPY_MODEL_cf1c8ec5ec7f4498bac6c6192ce96288"
            ],
            "layout": "IPY_MODEL_21d0f3b6d8a74bf5a0774bbd21aa6c9b"
          }
        },
        "50da5524aa484f47879a7219222ac9cc": {
          "model_module": "@jupyter-widgets/controls",
          "model_module_version": "1.5.0",
          "model_name": "HBoxModel",
          "state": {
            "_dom_classes": [],
            "_model_module": "@jupyter-widgets/controls",
            "_model_module_version": "1.5.0",
            "_model_name": "HBoxModel",
            "_view_count": null,
            "_view_module": "@jupyter-widgets/controls",
            "_view_module_version": "1.5.0",
            "_view_name": "HBoxView",
            "box_style": "",
            "children": [
              "IPY_MODEL_e81eaa95974a4498bfc9ca35e93dda69",
              "IPY_MODEL_a57622c37935408dab4f270bb05c30f3",
              "IPY_MODEL_8cd8d9ff25a543eeb5367835f255154e"
            ],
            "layout": "IPY_MODEL_1fcddc94bf3d4fe4995e5d6a85dcd0d6"
          }
        },
        "548e721b1bb14e91aabaadbb9444476c": {
          "model_module": "@jupyter-widgets/controls",
          "model_module_version": "1.5.0",
          "model_name": "FloatProgressModel",
          "state": {
            "_dom_classes": [],
            "_model_module": "@jupyter-widgets/controls",
            "_model_module_version": "1.5.0",
            "_model_name": "FloatProgressModel",
            "_view_count": null,
            "_view_module": "@jupyter-widgets/controls",
            "_view_module_version": "1.5.0",
            "_view_name": "ProgressView",
            "bar_style": "success",
            "description": "",
            "description_tooltip": null,
            "layout": "IPY_MODEL_6e070c57e0574b028b9ba1a6e4200e96",
            "max": 3125,
            "min": 0,
            "orientation": "horizontal",
            "style": "IPY_MODEL_8dd52d5863e742849a4de8dc3bb61b19",
            "value": 3125
          }
        },
        "560976a33aea4a6691d3bc07baf18709": {
          "model_module": "@jupyter-widgets/base",
          "model_module_version": "1.2.0",
          "model_name": "LayoutModel",
          "state": {
            "_model_module": "@jupyter-widgets/base",
            "_model_module_version": "1.2.0",
            "_model_name": "LayoutModel",
            "_view_count": null,
            "_view_module": "@jupyter-widgets/base",
            "_view_module_version": "1.2.0",
            "_view_name": "LayoutView",
            "align_content": null,
            "align_items": null,
            "align_self": null,
            "border": null,
            "bottom": null,
            "display": null,
            "flex": "2",
            "flex_flow": null,
            "grid_area": null,
            "grid_auto_columns": null,
            "grid_auto_flow": null,
            "grid_auto_rows": null,
            "grid_column": null,
            "grid_gap": null,
            "grid_row": null,
            "grid_template_areas": null,
            "grid_template_columns": null,
            "grid_template_rows": null,
            "height": null,
            "justify_content": null,
            "justify_items": null,
            "left": null,
            "margin": null,
            "max_height": null,
            "max_width": null,
            "min_height": null,
            "min_width": null,
            "object_fit": null,
            "object_position": null,
            "order": null,
            "overflow": null,
            "overflow_x": null,
            "overflow_y": null,
            "padding": null,
            "right": null,
            "top": null,
            "visibility": null,
            "width": null
          }
        },
        "5a8066fe526442a2883d3baaefc77149": {
          "model_module": "@jupyter-widgets/controls",
          "model_module_version": "1.5.0",
          "model_name": "HTMLModel",
          "state": {
            "_dom_classes": [],
            "_model_module": "@jupyter-widgets/controls",
            "_model_module_version": "1.5.0",
            "_model_name": "HTMLModel",
            "_view_count": null,
            "_view_module": "@jupyter-widgets/controls",
            "_view_module_version": "1.5.0",
            "_view_name": "HTMLView",
            "description": "",
            "description_tooltip": null,
            "layout": "IPY_MODEL_21a11e67bf3442aaa15a1150940d1b98",
            "placeholder": "​",
            "style": "IPY_MODEL_2e59e3f57a39468a8c6832a021e8e256",
            "value": "Epoch 19: 100%"
          }
        },
        "6c1e8d4ff4e240a885a5b71843f350f4": {
          "model_module": "@jupyter-widgets/controls",
          "model_module_version": "1.5.0",
          "model_name": "DescriptionStyleModel",
          "state": {
            "_model_module": "@jupyter-widgets/controls",
            "_model_module_version": "1.5.0",
            "_model_name": "DescriptionStyleModel",
            "_view_count": null,
            "_view_module": "@jupyter-widgets/base",
            "_view_module_version": "1.2.0",
            "_view_name": "StyleView",
            "description_width": ""
          }
        },
        "6e070c57e0574b028b9ba1a6e4200e96": {
          "model_module": "@jupyter-widgets/base",
          "model_module_version": "1.2.0",
          "model_name": "LayoutModel",
          "state": {
            "_model_module": "@jupyter-widgets/base",
            "_model_module_version": "1.2.0",
            "_model_name": "LayoutModel",
            "_view_count": null,
            "_view_module": "@jupyter-widgets/base",
            "_view_module_version": "1.2.0",
            "_view_name": "LayoutView",
            "align_content": null,
            "align_items": null,
            "align_self": null,
            "border": null,
            "bottom": null,
            "display": null,
            "flex": "2",
            "flex_flow": null,
            "grid_area": null,
            "grid_auto_columns": null,
            "grid_auto_flow": null,
            "grid_auto_rows": null,
            "grid_column": null,
            "grid_gap": null,
            "grid_row": null,
            "grid_template_areas": null,
            "grid_template_columns": null,
            "grid_template_rows": null,
            "height": null,
            "justify_content": null,
            "justify_items": null,
            "left": null,
            "margin": null,
            "max_height": null,
            "max_width": null,
            "min_height": null,
            "min_width": null,
            "object_fit": null,
            "object_position": null,
            "order": null,
            "overflow": null,
            "overflow_x": null,
            "overflow_y": null,
            "padding": null,
            "right": null,
            "top": null,
            "visibility": null,
            "width": null
          }
        },
        "713b607c51fd4c9a8db4ef2988bac21b": {
          "model_module": "@jupyter-widgets/controls",
          "model_module_version": "1.5.0",
          "model_name": "DescriptionStyleModel",
          "state": {
            "_model_module": "@jupyter-widgets/controls",
            "_model_module_version": "1.5.0",
            "_model_name": "DescriptionStyleModel",
            "_view_count": null,
            "_view_module": "@jupyter-widgets/base",
            "_view_module_version": "1.2.0",
            "_view_name": "StyleView",
            "description_width": ""
          }
        },
        "71f15e8628d14281a53938b66f4b1f33": {
          "model_module": "@jupyter-widgets/controls",
          "model_module_version": "1.5.0",
          "model_name": "ProgressStyleModel",
          "state": {
            "_model_module": "@jupyter-widgets/controls",
            "_model_module_version": "1.5.0",
            "_model_name": "ProgressStyleModel",
            "_view_count": null,
            "_view_module": "@jupyter-widgets/base",
            "_view_module_version": "1.2.0",
            "_view_name": "StyleView",
            "bar_color": null,
            "description_width": ""
          }
        },
        "732aa6b7566f4cc69da57d6ddc471302": {
          "model_module": "@jupyter-widgets/controls",
          "model_module_version": "1.5.0",
          "model_name": "HTMLModel",
          "state": {
            "_dom_classes": [],
            "_model_module": "@jupyter-widgets/controls",
            "_model_module_version": "1.5.0",
            "_model_name": "HTMLModel",
            "_view_count": null,
            "_view_module": "@jupyter-widgets/controls",
            "_view_module_version": "1.5.0",
            "_view_name": "HTMLView",
            "description": "",
            "description_tooltip": null,
            "layout": "IPY_MODEL_b1eaa35d475b4057818547813e03d061",
            "placeholder": "​",
            "style": "IPY_MODEL_2e104700f5d940e5b9ce6c71cab8df33",
            "value": " 3125/3125 [02:27&lt;00:00, 21.17it/s, loss=0.0626, v_num=1]"
          }
        },
        "7ce0229460ab47dcb463ac5faeb5c000": {
          "model_module": "@jupyter-widgets/controls",
          "model_module_version": "1.5.0",
          "model_name": "HBoxModel",
          "state": {
            "_dom_classes": [],
            "_model_module": "@jupyter-widgets/controls",
            "_model_module_version": "1.5.0",
            "_model_name": "HBoxModel",
            "_view_count": null,
            "_view_module": "@jupyter-widgets/controls",
            "_view_module_version": "1.5.0",
            "_view_name": "HBoxView",
            "box_style": "",
            "children": [
              "IPY_MODEL_80825faa6c6a49d7a55385cad16e8424",
              "IPY_MODEL_548e721b1bb14e91aabaadbb9444476c",
              "IPY_MODEL_89462418b3664932aecac7e693e52206"
            ],
            "layout": "IPY_MODEL_8bb00d6b5d2346be9d7ed6f57a78869c"
          }
        },
        "80825faa6c6a49d7a55385cad16e8424": {
          "model_module": "@jupyter-widgets/controls",
          "model_module_version": "1.5.0",
          "model_name": "HTMLModel",
          "state": {
            "_dom_classes": [],
            "_model_module": "@jupyter-widgets/controls",
            "_model_module_version": "1.5.0",
            "_model_name": "HTMLModel",
            "_view_count": null,
            "_view_module": "@jupyter-widgets/controls",
            "_view_module_version": "1.5.0",
            "_view_name": "HTMLView",
            "description": "",
            "description_tooltip": null,
            "layout": "IPY_MODEL_42362601eb194678af5e7d91886dd1ca",
            "placeholder": "​",
            "style": "IPY_MODEL_c8dc7a09c4d54caeb3df6b63c864efd2",
            "value": "Epoch 19: 100%"
          }
        },
        "89462418b3664932aecac7e693e52206": {
          "model_module": "@jupyter-widgets/controls",
          "model_module_version": "1.5.0",
          "model_name": "HTMLModel",
          "state": {
            "_dom_classes": [],
            "_model_module": "@jupyter-widgets/controls",
            "_model_module_version": "1.5.0",
            "_model_name": "HTMLModel",
            "_view_count": null,
            "_view_module": "@jupyter-widgets/controls",
            "_view_module_version": "1.5.0",
            "_view_name": "HTMLView",
            "description": "",
            "description_tooltip": null,
            "layout": "IPY_MODEL_e3f7825b539d42b3a5060ef1c1e8fdda",
            "placeholder": "​",
            "style": "IPY_MODEL_c6d3ba24b3b84385aba7c8a3a86d5c60",
            "value": " 3125/3125 [06:13&lt;00:00,  8.37it/s, loss=0.103, v_num=0]"
          }
        },
        "8bb00d6b5d2346be9d7ed6f57a78869c": {
          "model_module": "@jupyter-widgets/base",
          "model_module_version": "1.2.0",
          "model_name": "LayoutModel",
          "state": {
            "_model_module": "@jupyter-widgets/base",
            "_model_module_version": "1.2.0",
            "_model_name": "LayoutModel",
            "_view_count": null,
            "_view_module": "@jupyter-widgets/base",
            "_view_module_version": "1.2.0",
            "_view_name": "LayoutView",
            "align_content": null,
            "align_items": null,
            "align_self": null,
            "border": null,
            "bottom": null,
            "display": "inline-flex",
            "flex": null,
            "flex_flow": "row wrap",
            "grid_area": null,
            "grid_auto_columns": null,
            "grid_auto_flow": null,
            "grid_auto_rows": null,
            "grid_column": null,
            "grid_gap": null,
            "grid_row": null,
            "grid_template_areas": null,
            "grid_template_columns": null,
            "grid_template_rows": null,
            "height": null,
            "justify_content": null,
            "justify_items": null,
            "left": null,
            "margin": null,
            "max_height": null,
            "max_width": null,
            "min_height": null,
            "min_width": null,
            "object_fit": null,
            "object_position": null,
            "order": null,
            "overflow": null,
            "overflow_x": null,
            "overflow_y": null,
            "padding": null,
            "right": null,
            "top": null,
            "visibility": null,
            "width": "100%"
          }
        },
        "8cd8d9ff25a543eeb5367835f255154e": {
          "model_module": "@jupyter-widgets/controls",
          "model_module_version": "1.5.0",
          "model_name": "HTMLModel",
          "state": {
            "_dom_classes": [],
            "_model_module": "@jupyter-widgets/controls",
            "_model_module_version": "1.5.0",
            "_model_name": "HTMLModel",
            "_view_count": null,
            "_view_module": "@jupyter-widgets/controls",
            "_view_module_version": "1.5.0",
            "_view_name": "HTMLView",
            "description": "",
            "description_tooltip": null,
            "layout": "IPY_MODEL_2a0e7dd34da642bd8a3843b4e25d1683",
            "placeholder": "​",
            "style": "IPY_MODEL_c7ba9bf691a2440ea77b8f856d1d4007",
            "value": " 4579/4579 [03:57&lt;00:00, 19.26it/s, loss=0.0322, v_num=3]"
          }
        },
        "8dd52d5863e742849a4de8dc3bb61b19": {
          "model_module": "@jupyter-widgets/controls",
          "model_module_version": "1.5.0",
          "model_name": "ProgressStyleModel",
          "state": {
            "_model_module": "@jupyter-widgets/controls",
            "_model_module_version": "1.5.0",
            "_model_name": "ProgressStyleModel",
            "_view_count": null,
            "_view_module": "@jupyter-widgets/base",
            "_view_module_version": "1.2.0",
            "_view_name": "StyleView",
            "bar_color": null,
            "description_width": ""
          }
        },
        "95e9d0527a12414ea50a48012e9d08ea": {
          "model_module": "@jupyter-widgets/base",
          "model_module_version": "1.2.0",
          "model_name": "LayoutModel",
          "state": {
            "_model_module": "@jupyter-widgets/base",
            "_model_module_version": "1.2.0",
            "_model_name": "LayoutModel",
            "_view_count": null,
            "_view_module": "@jupyter-widgets/base",
            "_view_module_version": "1.2.0",
            "_view_name": "LayoutView",
            "align_content": null,
            "align_items": null,
            "align_self": null,
            "border": null,
            "bottom": null,
            "display": null,
            "flex": null,
            "flex_flow": null,
            "grid_area": null,
            "grid_auto_columns": null,
            "grid_auto_flow": null,
            "grid_auto_rows": null,
            "grid_column": null,
            "grid_gap": null,
            "grid_row": null,
            "grid_template_areas": null,
            "grid_template_columns": null,
            "grid_template_rows": null,
            "height": null,
            "justify_content": null,
            "justify_items": null,
            "left": null,
            "margin": null,
            "max_height": null,
            "max_width": null,
            "min_height": null,
            "min_width": null,
            "object_fit": null,
            "object_position": null,
            "order": null,
            "overflow": null,
            "overflow_x": null,
            "overflow_y": null,
            "padding": null,
            "right": null,
            "top": null,
            "visibility": null,
            "width": null
          }
        },
        "9ba4d33eb6d34c7f94874e4eea9b3ffe": {
          "model_module": "@jupyter-widgets/base",
          "model_module_version": "1.2.0",
          "model_name": "LayoutModel",
          "state": {
            "_model_module": "@jupyter-widgets/base",
            "_model_module_version": "1.2.0",
            "_model_name": "LayoutModel",
            "_view_count": null,
            "_view_module": "@jupyter-widgets/base",
            "_view_module_version": "1.2.0",
            "_view_name": "LayoutView",
            "align_content": null,
            "align_items": null,
            "align_self": null,
            "border": null,
            "bottom": null,
            "display": null,
            "flex": null,
            "flex_flow": null,
            "grid_area": null,
            "grid_auto_columns": null,
            "grid_auto_flow": null,
            "grid_auto_rows": null,
            "grid_column": null,
            "grid_gap": null,
            "grid_row": null,
            "grid_template_areas": null,
            "grid_template_columns": null,
            "grid_template_rows": null,
            "height": null,
            "justify_content": null,
            "justify_items": null,
            "left": null,
            "margin": null,
            "max_height": null,
            "max_width": null,
            "min_height": null,
            "min_width": null,
            "object_fit": null,
            "object_position": null,
            "order": null,
            "overflow": null,
            "overflow_x": null,
            "overflow_y": null,
            "padding": null,
            "right": null,
            "top": null,
            "visibility": null,
            "width": null
          }
        },
        "a57622c37935408dab4f270bb05c30f3": {
          "model_module": "@jupyter-widgets/controls",
          "model_module_version": "1.5.0",
          "model_name": "FloatProgressModel",
          "state": {
            "_dom_classes": [],
            "_model_module": "@jupyter-widgets/controls",
            "_model_module_version": "1.5.0",
            "_model_name": "FloatProgressModel",
            "_view_count": null,
            "_view_module": "@jupyter-widgets/controls",
            "_view_module_version": "1.5.0",
            "_view_name": "ProgressView",
            "bar_style": "success",
            "description": "",
            "description_tooltip": null,
            "layout": "IPY_MODEL_fe6c719e5b95432787973d800d7a109a",
            "max": 4579,
            "min": 0,
            "orientation": "horizontal",
            "style": "IPY_MODEL_71f15e8628d14281a53938b66f4b1f33",
            "value": 4579
          }
        },
        "a779e9482959463ca37d5bf57913e93e": {
          "model_module": "@jupyter-widgets/controls",
          "model_module_version": "1.5.0",
          "model_name": "HBoxModel",
          "state": {
            "_dom_classes": [],
            "_model_module": "@jupyter-widgets/controls",
            "_model_module_version": "1.5.0",
            "_model_name": "HBoxModel",
            "_view_count": null,
            "_view_module": "@jupyter-widgets/controls",
            "_view_module_version": "1.5.0",
            "_view_name": "HBoxView",
            "box_style": "",
            "children": [
              "IPY_MODEL_5a8066fe526442a2883d3baaefc77149",
              "IPY_MODEL_ac3bc97fc07b494b9f3c8b4b35a6b2ec",
              "IPY_MODEL_732aa6b7566f4cc69da57d6ddc471302"
            ],
            "layout": "IPY_MODEL_2104cc490e784ab3aa1980c752e9f082"
          }
        },
        "ab75cd92b895423a9f3bc13639c70330": {
          "model_module": "@jupyter-widgets/base",
          "model_module_version": "1.2.0",
          "model_name": "LayoutModel",
          "state": {
            "_model_module": "@jupyter-widgets/base",
            "_model_module_version": "1.2.0",
            "_model_name": "LayoutModel",
            "_view_count": null,
            "_view_module": "@jupyter-widgets/base",
            "_view_module_version": "1.2.0",
            "_view_name": "LayoutView",
            "align_content": null,
            "align_items": null,
            "align_self": null,
            "border": null,
            "bottom": null,
            "display": null,
            "flex": null,
            "flex_flow": null,
            "grid_area": null,
            "grid_auto_columns": null,
            "grid_auto_flow": null,
            "grid_auto_rows": null,
            "grid_column": null,
            "grid_gap": null,
            "grid_row": null,
            "grid_template_areas": null,
            "grid_template_columns": null,
            "grid_template_rows": null,
            "height": null,
            "justify_content": null,
            "justify_items": null,
            "left": null,
            "margin": null,
            "max_height": null,
            "max_width": null,
            "min_height": null,
            "min_width": null,
            "object_fit": null,
            "object_position": null,
            "order": null,
            "overflow": null,
            "overflow_x": null,
            "overflow_y": null,
            "padding": null,
            "right": null,
            "top": null,
            "visibility": null,
            "width": null
          }
        },
        "ac3bc97fc07b494b9f3c8b4b35a6b2ec": {
          "model_module": "@jupyter-widgets/controls",
          "model_module_version": "1.5.0",
          "model_name": "FloatProgressModel",
          "state": {
            "_dom_classes": [],
            "_model_module": "@jupyter-widgets/controls",
            "_model_module_version": "1.5.0",
            "_model_name": "FloatProgressModel",
            "_view_count": null,
            "_view_module": "@jupyter-widgets/controls",
            "_view_module_version": "1.5.0",
            "_view_name": "ProgressView",
            "bar_style": "success",
            "description": "",
            "description_tooltip": null,
            "layout": "IPY_MODEL_560976a33aea4a6691d3bc07baf18709",
            "max": 3125,
            "min": 0,
            "orientation": "horizontal",
            "style": "IPY_MODEL_3397acc58e22400d95227dd79097173b",
            "value": 3125
          }
        },
        "aec45ccd892649cdbb663ccd28540c55": {
          "model_module": "@jupyter-widgets/base",
          "model_module_version": "1.2.0",
          "model_name": "LayoutModel",
          "state": {
            "_model_module": "@jupyter-widgets/base",
            "_model_module_version": "1.2.0",
            "_model_name": "LayoutModel",
            "_view_count": null,
            "_view_module": "@jupyter-widgets/base",
            "_view_module_version": "1.2.0",
            "_view_name": "LayoutView",
            "align_content": null,
            "align_items": null,
            "align_self": null,
            "border": null,
            "bottom": null,
            "display": null,
            "flex": "2",
            "flex_flow": null,
            "grid_area": null,
            "grid_auto_columns": null,
            "grid_auto_flow": null,
            "grid_auto_rows": null,
            "grid_column": null,
            "grid_gap": null,
            "grid_row": null,
            "grid_template_areas": null,
            "grid_template_columns": null,
            "grid_template_rows": null,
            "height": null,
            "justify_content": null,
            "justify_items": null,
            "left": null,
            "margin": null,
            "max_height": null,
            "max_width": null,
            "min_height": null,
            "min_width": null,
            "object_fit": null,
            "object_position": null,
            "order": null,
            "overflow": null,
            "overflow_x": null,
            "overflow_y": null,
            "padding": null,
            "right": null,
            "top": null,
            "visibility": null,
            "width": null
          }
        },
        "b1eaa35d475b4057818547813e03d061": {
          "model_module": "@jupyter-widgets/base",
          "model_module_version": "1.2.0",
          "model_name": "LayoutModel",
          "state": {
            "_model_module": "@jupyter-widgets/base",
            "_model_module_version": "1.2.0",
            "_model_name": "LayoutModel",
            "_view_count": null,
            "_view_module": "@jupyter-widgets/base",
            "_view_module_version": "1.2.0",
            "_view_name": "LayoutView",
            "align_content": null,
            "align_items": null,
            "align_self": null,
            "border": null,
            "bottom": null,
            "display": null,
            "flex": null,
            "flex_flow": null,
            "grid_area": null,
            "grid_auto_columns": null,
            "grid_auto_flow": null,
            "grid_auto_rows": null,
            "grid_column": null,
            "grid_gap": null,
            "grid_row": null,
            "grid_template_areas": null,
            "grid_template_columns": null,
            "grid_template_rows": null,
            "height": null,
            "justify_content": null,
            "justify_items": null,
            "left": null,
            "margin": null,
            "max_height": null,
            "max_width": null,
            "min_height": null,
            "min_width": null,
            "object_fit": null,
            "object_position": null,
            "order": null,
            "overflow": null,
            "overflow_x": null,
            "overflow_y": null,
            "padding": null,
            "right": null,
            "top": null,
            "visibility": null,
            "width": null
          }
        },
        "b64b4537304d47bc923df7ce2be93893": {
          "model_module": "@jupyter-widgets/controls",
          "model_module_version": "1.5.0",
          "model_name": "DescriptionStyleModel",
          "state": {
            "_model_module": "@jupyter-widgets/controls",
            "_model_module_version": "1.5.0",
            "_model_name": "DescriptionStyleModel",
            "_view_count": null,
            "_view_module": "@jupyter-widgets/base",
            "_view_module_version": "1.2.0",
            "_view_name": "StyleView",
            "description_width": ""
          }
        },
        "c356d19529bd46ae859cc72abe8a6487": {
          "model_module": "@jupyter-widgets/controls",
          "model_module_version": "1.5.0",
          "model_name": "ProgressStyleModel",
          "state": {
            "_model_module": "@jupyter-widgets/controls",
            "_model_module_version": "1.5.0",
            "_model_name": "ProgressStyleModel",
            "_view_count": null,
            "_view_module": "@jupyter-widgets/base",
            "_view_module_version": "1.2.0",
            "_view_name": "StyleView",
            "bar_color": null,
            "description_width": ""
          }
        },
        "c411bfae711c4c1bb67dde1313a78ac7": {
          "model_module": "@jupyter-widgets/controls",
          "model_module_version": "1.5.0",
          "model_name": "HTMLModel",
          "state": {
            "_dom_classes": [],
            "_model_module": "@jupyter-widgets/controls",
            "_model_module_version": "1.5.0",
            "_model_name": "HTMLModel",
            "_view_count": null,
            "_view_module": "@jupyter-widgets/controls",
            "_view_module_version": "1.5.0",
            "_view_name": "HTMLView",
            "description": "",
            "description_tooltip": null,
            "layout": "IPY_MODEL_ab75cd92b895423a9f3bc13639c70330",
            "placeholder": "​",
            "style": "IPY_MODEL_6c1e8d4ff4e240a885a5b71843f350f4",
            "value": "Epoch 19: 100%"
          }
        },
        "c501e456de984c4cabe9d53ef0daba88": {
          "model_module": "@jupyter-widgets/controls",
          "model_module_version": "1.5.0",
          "model_name": "FloatProgressModel",
          "state": {
            "_dom_classes": [],
            "_model_module": "@jupyter-widgets/controls",
            "_model_module_version": "1.5.0",
            "_model_name": "FloatProgressModel",
            "_view_count": null,
            "_view_module": "@jupyter-widgets/controls",
            "_view_module_version": "1.5.0",
            "_view_name": "ProgressView",
            "bar_style": "success",
            "description": "",
            "description_tooltip": null,
            "layout": "IPY_MODEL_aec45ccd892649cdbb663ccd28540c55",
            "max": 4579,
            "min": 0,
            "orientation": "horizontal",
            "style": "IPY_MODEL_c356d19529bd46ae859cc72abe8a6487",
            "value": 4579
          }
        },
        "c6d3ba24b3b84385aba7c8a3a86d5c60": {
          "model_module": "@jupyter-widgets/controls",
          "model_module_version": "1.5.0",
          "model_name": "DescriptionStyleModel",
          "state": {
            "_model_module": "@jupyter-widgets/controls",
            "_model_module_version": "1.5.0",
            "_model_name": "DescriptionStyleModel",
            "_view_count": null,
            "_view_module": "@jupyter-widgets/base",
            "_view_module_version": "1.2.0",
            "_view_name": "StyleView",
            "description_width": ""
          }
        },
        "c7ba9bf691a2440ea77b8f856d1d4007": {
          "model_module": "@jupyter-widgets/controls",
          "model_module_version": "1.5.0",
          "model_name": "DescriptionStyleModel",
          "state": {
            "_model_module": "@jupyter-widgets/controls",
            "_model_module_version": "1.5.0",
            "_model_name": "DescriptionStyleModel",
            "_view_count": null,
            "_view_module": "@jupyter-widgets/base",
            "_view_module_version": "1.2.0",
            "_view_name": "StyleView",
            "description_width": ""
          }
        },
        "c8dc7a09c4d54caeb3df6b63c864efd2": {
          "model_module": "@jupyter-widgets/controls",
          "model_module_version": "1.5.0",
          "model_name": "DescriptionStyleModel",
          "state": {
            "_model_module": "@jupyter-widgets/controls",
            "_model_module_version": "1.5.0",
            "_model_name": "DescriptionStyleModel",
            "_view_count": null,
            "_view_module": "@jupyter-widgets/base",
            "_view_module_version": "1.2.0",
            "_view_name": "StyleView",
            "description_width": ""
          }
        },
        "cf1c8ec5ec7f4498bac6c6192ce96288": {
          "model_module": "@jupyter-widgets/controls",
          "model_module_version": "1.5.0",
          "model_name": "HTMLModel",
          "state": {
            "_dom_classes": [],
            "_model_module": "@jupyter-widgets/controls",
            "_model_module_version": "1.5.0",
            "_model_name": "HTMLModel",
            "_view_count": null,
            "_view_module": "@jupyter-widgets/controls",
            "_view_module_version": "1.5.0",
            "_view_name": "HTMLView",
            "description": "",
            "description_tooltip": null,
            "layout": "IPY_MODEL_95e9d0527a12414ea50a48012e9d08ea",
            "placeholder": "​",
            "style": "IPY_MODEL_713b607c51fd4c9a8db4ef2988bac21b",
            "value": " 4579/4579 [08:24&lt;00:00,  9.07it/s, loss=0.0749, v_num=0]"
          }
        },
        "e3f7825b539d42b3a5060ef1c1e8fdda": {
          "model_module": "@jupyter-widgets/base",
          "model_module_version": "1.2.0",
          "model_name": "LayoutModel",
          "state": {
            "_model_module": "@jupyter-widgets/base",
            "_model_module_version": "1.2.0",
            "_model_name": "LayoutModel",
            "_view_count": null,
            "_view_module": "@jupyter-widgets/base",
            "_view_module_version": "1.2.0",
            "_view_name": "LayoutView",
            "align_content": null,
            "align_items": null,
            "align_self": null,
            "border": null,
            "bottom": null,
            "display": null,
            "flex": null,
            "flex_flow": null,
            "grid_area": null,
            "grid_auto_columns": null,
            "grid_auto_flow": null,
            "grid_auto_rows": null,
            "grid_column": null,
            "grid_gap": null,
            "grid_row": null,
            "grid_template_areas": null,
            "grid_template_columns": null,
            "grid_template_rows": null,
            "height": null,
            "justify_content": null,
            "justify_items": null,
            "left": null,
            "margin": null,
            "max_height": null,
            "max_width": null,
            "min_height": null,
            "min_width": null,
            "object_fit": null,
            "object_position": null,
            "order": null,
            "overflow": null,
            "overflow_x": null,
            "overflow_y": null,
            "padding": null,
            "right": null,
            "top": null,
            "visibility": null,
            "width": null
          }
        },
        "e81eaa95974a4498bfc9ca35e93dda69": {
          "model_module": "@jupyter-widgets/controls",
          "model_module_version": "1.5.0",
          "model_name": "HTMLModel",
          "state": {
            "_dom_classes": [],
            "_model_module": "@jupyter-widgets/controls",
            "_model_module_version": "1.5.0",
            "_model_name": "HTMLModel",
            "_view_count": null,
            "_view_module": "@jupyter-widgets/controls",
            "_view_module_version": "1.5.0",
            "_view_name": "HTMLView",
            "description": "",
            "description_tooltip": null,
            "layout": "IPY_MODEL_9ba4d33eb6d34c7f94874e4eea9b3ffe",
            "placeholder": "​",
            "style": "IPY_MODEL_b64b4537304d47bc923df7ce2be93893",
            "value": "Epoch 19: 100%"
          }
        },
        "fe6c719e5b95432787973d800d7a109a": {
          "model_module": "@jupyter-widgets/base",
          "model_module_version": "1.2.0",
          "model_name": "LayoutModel",
          "state": {
            "_model_module": "@jupyter-widgets/base",
            "_model_module_version": "1.2.0",
            "_model_name": "LayoutModel",
            "_view_count": null,
            "_view_module": "@jupyter-widgets/base",
            "_view_module_version": "1.2.0",
            "_view_name": "LayoutView",
            "align_content": null,
            "align_items": null,
            "align_self": null,
            "border": null,
            "bottom": null,
            "display": null,
            "flex": "2",
            "flex_flow": null,
            "grid_area": null,
            "grid_auto_columns": null,
            "grid_auto_flow": null,
            "grid_auto_rows": null,
            "grid_column": null,
            "grid_gap": null,
            "grid_row": null,
            "grid_template_areas": null,
            "grid_template_columns": null,
            "grid_template_rows": null,
            "height": null,
            "justify_content": null,
            "justify_items": null,
            "left": null,
            "margin": null,
            "max_height": null,
            "max_width": null,
            "min_height": null,
            "min_width": null,
            "object_fit": null,
            "object_position": null,
            "order": null,
            "overflow": null,
            "overflow_x": null,
            "overflow_y": null,
            "padding": null,
            "right": null,
            "top": null,
            "visibility": null,
            "width": null
          }
        },
        "24ad754166354a2f841c568bb044200e": {
          "model_module": "@jupyter-widgets/controls",
          "model_name": "HBoxModel",
          "model_module_version": "1.5.0",
          "state": {
            "_dom_classes": [],
            "_model_module": "@jupyter-widgets/controls",
            "_model_module_version": "1.5.0",
            "_model_name": "HBoxModel",
            "_view_count": null,
            "_view_module": "@jupyter-widgets/controls",
            "_view_module_version": "1.5.0",
            "_view_name": "HBoxView",
            "box_style": "",
            "children": [
              "IPY_MODEL_91937b10178447ba819ba8c6f789be0c",
              "IPY_MODEL_a71e6e8e09694662a689cb4d9e6a99a3",
              "IPY_MODEL_d18452c5a4374f579e73fefd10457dde"
            ],
            "layout": "IPY_MODEL_88916612e70a4273b378e525ec7acdc3"
          }
        },
        "91937b10178447ba819ba8c6f789be0c": {
          "model_module": "@jupyter-widgets/controls",
          "model_name": "HTMLModel",
          "model_module_version": "1.5.0",
          "state": {
            "_dom_classes": [],
            "_model_module": "@jupyter-widgets/controls",
            "_model_module_version": "1.5.0",
            "_model_name": "HTMLModel",
            "_view_count": null,
            "_view_module": "@jupyter-widgets/controls",
            "_view_module_version": "1.5.0",
            "_view_name": "HTMLView",
            "description": "",
            "description_tooltip": null,
            "layout": "IPY_MODEL_46dca4d10fc341b4b78f5240b20b52c0",
            "placeholder": "​",
            "style": "IPY_MODEL_a29adef137034d56a90be9e52c6da32b",
            "value": "Epoch 4: 100%"
          }
        },
        "a71e6e8e09694662a689cb4d9e6a99a3": {
          "model_module": "@jupyter-widgets/controls",
          "model_name": "FloatProgressModel",
          "model_module_version": "1.5.0",
          "state": {
            "_dom_classes": [],
            "_model_module": "@jupyter-widgets/controls",
            "_model_module_version": "1.5.0",
            "_model_name": "FloatProgressModel",
            "_view_count": null,
            "_view_module": "@jupyter-widgets/controls",
            "_view_module_version": "1.5.0",
            "_view_name": "ProgressView",
            "bar_style": "success",
            "description": "",
            "description_tooltip": null,
            "layout": "IPY_MODEL_f407c1ea4e73460faca3c969b8f72df5",
            "max": 4579,
            "min": 0,
            "orientation": "horizontal",
            "style": "IPY_MODEL_e115d87fa8f848ad90aa688870a97ed4",
            "value": 4579
          }
        },
        "d18452c5a4374f579e73fefd10457dde": {
          "model_module": "@jupyter-widgets/controls",
          "model_name": "HTMLModel",
          "model_module_version": "1.5.0",
          "state": {
            "_dom_classes": [],
            "_model_module": "@jupyter-widgets/controls",
            "_model_module_version": "1.5.0",
            "_model_name": "HTMLModel",
            "_view_count": null,
            "_view_module": "@jupyter-widgets/controls",
            "_view_module_version": "1.5.0",
            "_view_name": "HTMLView",
            "description": "",
            "description_tooltip": null,
            "layout": "IPY_MODEL_47f97eae92e44a068c7378b5c6353e1a",
            "placeholder": "​",
            "style": "IPY_MODEL_bc6b21e99c68483e88cb0de3e17d7629",
            "value": " 4579/4579 [16:12&lt;00:00,  4.71it/s, loss=3.08e-07, v_num=4]"
          }
        },
        "88916612e70a4273b378e525ec7acdc3": {
          "model_module": "@jupyter-widgets/base",
          "model_name": "LayoutModel",
          "model_module_version": "1.2.0",
          "state": {
            "_model_module": "@jupyter-widgets/base",
            "_model_module_version": "1.2.0",
            "_model_name": "LayoutModel",
            "_view_count": null,
            "_view_module": "@jupyter-widgets/base",
            "_view_module_version": "1.2.0",
            "_view_name": "LayoutView",
            "align_content": null,
            "align_items": null,
            "align_self": null,
            "border": null,
            "bottom": null,
            "display": "inline-flex",
            "flex": null,
            "flex_flow": "row wrap",
            "grid_area": null,
            "grid_auto_columns": null,
            "grid_auto_flow": null,
            "grid_auto_rows": null,
            "grid_column": null,
            "grid_gap": null,
            "grid_row": null,
            "grid_template_areas": null,
            "grid_template_columns": null,
            "grid_template_rows": null,
            "height": null,
            "justify_content": null,
            "justify_items": null,
            "left": null,
            "margin": null,
            "max_height": null,
            "max_width": null,
            "min_height": null,
            "min_width": null,
            "object_fit": null,
            "object_position": null,
            "order": null,
            "overflow": null,
            "overflow_x": null,
            "overflow_y": null,
            "padding": null,
            "right": null,
            "top": null,
            "visibility": null,
            "width": "100%"
          }
        },
        "46dca4d10fc341b4b78f5240b20b52c0": {
          "model_module": "@jupyter-widgets/base",
          "model_name": "LayoutModel",
          "model_module_version": "1.2.0",
          "state": {
            "_model_module": "@jupyter-widgets/base",
            "_model_module_version": "1.2.0",
            "_model_name": "LayoutModel",
            "_view_count": null,
            "_view_module": "@jupyter-widgets/base",
            "_view_module_version": "1.2.0",
            "_view_name": "LayoutView",
            "align_content": null,
            "align_items": null,
            "align_self": null,
            "border": null,
            "bottom": null,
            "display": null,
            "flex": null,
            "flex_flow": null,
            "grid_area": null,
            "grid_auto_columns": null,
            "grid_auto_flow": null,
            "grid_auto_rows": null,
            "grid_column": null,
            "grid_gap": null,
            "grid_row": null,
            "grid_template_areas": null,
            "grid_template_columns": null,
            "grid_template_rows": null,
            "height": null,
            "justify_content": null,
            "justify_items": null,
            "left": null,
            "margin": null,
            "max_height": null,
            "max_width": null,
            "min_height": null,
            "min_width": null,
            "object_fit": null,
            "object_position": null,
            "order": null,
            "overflow": null,
            "overflow_x": null,
            "overflow_y": null,
            "padding": null,
            "right": null,
            "top": null,
            "visibility": null,
            "width": null
          }
        },
        "a29adef137034d56a90be9e52c6da32b": {
          "model_module": "@jupyter-widgets/controls",
          "model_name": "DescriptionStyleModel",
          "model_module_version": "1.5.0",
          "state": {
            "_model_module": "@jupyter-widgets/controls",
            "_model_module_version": "1.5.0",
            "_model_name": "DescriptionStyleModel",
            "_view_count": null,
            "_view_module": "@jupyter-widgets/base",
            "_view_module_version": "1.2.0",
            "_view_name": "StyleView",
            "description_width": ""
          }
        },
        "f407c1ea4e73460faca3c969b8f72df5": {
          "model_module": "@jupyter-widgets/base",
          "model_name": "LayoutModel",
          "model_module_version": "1.2.0",
          "state": {
            "_model_module": "@jupyter-widgets/base",
            "_model_module_version": "1.2.0",
            "_model_name": "LayoutModel",
            "_view_count": null,
            "_view_module": "@jupyter-widgets/base",
            "_view_module_version": "1.2.0",
            "_view_name": "LayoutView",
            "align_content": null,
            "align_items": null,
            "align_self": null,
            "border": null,
            "bottom": null,
            "display": null,
            "flex": "2",
            "flex_flow": null,
            "grid_area": null,
            "grid_auto_columns": null,
            "grid_auto_flow": null,
            "grid_auto_rows": null,
            "grid_column": null,
            "grid_gap": null,
            "grid_row": null,
            "grid_template_areas": null,
            "grid_template_columns": null,
            "grid_template_rows": null,
            "height": null,
            "justify_content": null,
            "justify_items": null,
            "left": null,
            "margin": null,
            "max_height": null,
            "max_width": null,
            "min_height": null,
            "min_width": null,
            "object_fit": null,
            "object_position": null,
            "order": null,
            "overflow": null,
            "overflow_x": null,
            "overflow_y": null,
            "padding": null,
            "right": null,
            "top": null,
            "visibility": null,
            "width": null
          }
        },
        "e115d87fa8f848ad90aa688870a97ed4": {
          "model_module": "@jupyter-widgets/controls",
          "model_name": "ProgressStyleModel",
          "model_module_version": "1.5.0",
          "state": {
            "_model_module": "@jupyter-widgets/controls",
            "_model_module_version": "1.5.0",
            "_model_name": "ProgressStyleModel",
            "_view_count": null,
            "_view_module": "@jupyter-widgets/base",
            "_view_module_version": "1.2.0",
            "_view_name": "StyleView",
            "bar_color": null,
            "description_width": ""
          }
        },
        "47f97eae92e44a068c7378b5c6353e1a": {
          "model_module": "@jupyter-widgets/base",
          "model_name": "LayoutModel",
          "model_module_version": "1.2.0",
          "state": {
            "_model_module": "@jupyter-widgets/base",
            "_model_module_version": "1.2.0",
            "_model_name": "LayoutModel",
            "_view_count": null,
            "_view_module": "@jupyter-widgets/base",
            "_view_module_version": "1.2.0",
            "_view_name": "LayoutView",
            "align_content": null,
            "align_items": null,
            "align_self": null,
            "border": null,
            "bottom": null,
            "display": null,
            "flex": null,
            "flex_flow": null,
            "grid_area": null,
            "grid_auto_columns": null,
            "grid_auto_flow": null,
            "grid_auto_rows": null,
            "grid_column": null,
            "grid_gap": null,
            "grid_row": null,
            "grid_template_areas": null,
            "grid_template_columns": null,
            "grid_template_rows": null,
            "height": null,
            "justify_content": null,
            "justify_items": null,
            "left": null,
            "margin": null,
            "max_height": null,
            "max_width": null,
            "min_height": null,
            "min_width": null,
            "object_fit": null,
            "object_position": null,
            "order": null,
            "overflow": null,
            "overflow_x": null,
            "overflow_y": null,
            "padding": null,
            "right": null,
            "top": null,
            "visibility": null,
            "width": null
          }
        },
        "bc6b21e99c68483e88cb0de3e17d7629": {
          "model_module": "@jupyter-widgets/controls",
          "model_name": "DescriptionStyleModel",
          "model_module_version": "1.5.0",
          "state": {
            "_model_module": "@jupyter-widgets/controls",
            "_model_module_version": "1.5.0",
            "_model_name": "DescriptionStyleModel",
            "_view_count": null,
            "_view_module": "@jupyter-widgets/base",
            "_view_module_version": "1.2.0",
            "_view_name": "StyleView",
            "description_width": ""
          }
        },
        "a56fd153bf754335bacd79f01b341098": {
          "model_module": "@jupyter-widgets/controls",
          "model_name": "HBoxModel",
          "model_module_version": "1.5.0",
          "state": {
            "_dom_classes": [],
            "_model_module": "@jupyter-widgets/controls",
            "_model_module_version": "1.5.0",
            "_model_name": "HBoxModel",
            "_view_count": null,
            "_view_module": "@jupyter-widgets/controls",
            "_view_module_version": "1.5.0",
            "_view_name": "HBoxView",
            "box_style": "",
            "children": [
              "IPY_MODEL_8fd608cf8b914faea2087751ee662a43",
              "IPY_MODEL_e7964fafec7647fa8252ea3ab75dd216",
              "IPY_MODEL_ac2e0339890b4e3ea73feff1bc4f47d8"
            ],
            "layout": "IPY_MODEL_06184b3106e04467bc16493cd6430430"
          }
        },
        "8fd608cf8b914faea2087751ee662a43": {
          "model_module": "@jupyter-widgets/controls",
          "model_name": "HTMLModel",
          "model_module_version": "1.5.0",
          "state": {
            "_dom_classes": [],
            "_model_module": "@jupyter-widgets/controls",
            "_model_module_version": "1.5.0",
            "_model_name": "HTMLModel",
            "_view_count": null,
            "_view_module": "@jupyter-widgets/controls",
            "_view_module_version": "1.5.0",
            "_view_name": "HTMLView",
            "description": "",
            "description_tooltip": null,
            "layout": "IPY_MODEL_4def72c98b954d899be9cab3eb8c3d4e",
            "placeholder": "​",
            "style": "IPY_MODEL_ca3b06e00c424c6d9d1db3f44d5fd170",
            "value": "Epoch 4: 100%"
          }
        },
        "e7964fafec7647fa8252ea3ab75dd216": {
          "model_module": "@jupyter-widgets/controls",
          "model_name": "FloatProgressModel",
          "model_module_version": "1.5.0",
          "state": {
            "_dom_classes": [],
            "_model_module": "@jupyter-widgets/controls",
            "_model_module_version": "1.5.0",
            "_model_name": "FloatProgressModel",
            "_view_count": null,
            "_view_module": "@jupyter-widgets/controls",
            "_view_module_version": "1.5.0",
            "_view_name": "ProgressView",
            "bar_style": "success",
            "description": "",
            "description_tooltip": null,
            "layout": "IPY_MODEL_af5cbe806f614da5b3a00b8b2e8c4fa5",
            "max": 4579,
            "min": 0,
            "orientation": "horizontal",
            "style": "IPY_MODEL_807b2597d10c40b5a40f8d6dc2c81ed1",
            "value": 4579
          }
        },
        "ac2e0339890b4e3ea73feff1bc4f47d8": {
          "model_module": "@jupyter-widgets/controls",
          "model_name": "HTMLModel",
          "model_module_version": "1.5.0",
          "state": {
            "_dom_classes": [],
            "_model_module": "@jupyter-widgets/controls",
            "_model_module_version": "1.5.0",
            "_model_name": "HTMLModel",
            "_view_count": null,
            "_view_module": "@jupyter-widgets/controls",
            "_view_module_version": "1.5.0",
            "_view_name": "HTMLView",
            "description": "",
            "description_tooltip": null,
            "layout": "IPY_MODEL_453f0a5d98b740b9b20659e5c78c63c9",
            "placeholder": "​",
            "style": "IPY_MODEL_df34e41a816d415db262f2f0e3f49d24",
            "value": " 4579/4579 [05:11&lt;00:00, 14.70it/s, loss=7.49e-06, v_num=5]"
          }
        },
        "06184b3106e04467bc16493cd6430430": {
          "model_module": "@jupyter-widgets/base",
          "model_name": "LayoutModel",
          "model_module_version": "1.2.0",
          "state": {
            "_model_module": "@jupyter-widgets/base",
            "_model_module_version": "1.2.0",
            "_model_name": "LayoutModel",
            "_view_count": null,
            "_view_module": "@jupyter-widgets/base",
            "_view_module_version": "1.2.0",
            "_view_name": "LayoutView",
            "align_content": null,
            "align_items": null,
            "align_self": null,
            "border": null,
            "bottom": null,
            "display": "inline-flex",
            "flex": null,
            "flex_flow": "row wrap",
            "grid_area": null,
            "grid_auto_columns": null,
            "grid_auto_flow": null,
            "grid_auto_rows": null,
            "grid_column": null,
            "grid_gap": null,
            "grid_row": null,
            "grid_template_areas": null,
            "grid_template_columns": null,
            "grid_template_rows": null,
            "height": null,
            "justify_content": null,
            "justify_items": null,
            "left": null,
            "margin": null,
            "max_height": null,
            "max_width": null,
            "min_height": null,
            "min_width": null,
            "object_fit": null,
            "object_position": null,
            "order": null,
            "overflow": null,
            "overflow_x": null,
            "overflow_y": null,
            "padding": null,
            "right": null,
            "top": null,
            "visibility": null,
            "width": "100%"
          }
        },
        "4def72c98b954d899be9cab3eb8c3d4e": {
          "model_module": "@jupyter-widgets/base",
          "model_name": "LayoutModel",
          "model_module_version": "1.2.0",
          "state": {
            "_model_module": "@jupyter-widgets/base",
            "_model_module_version": "1.2.0",
            "_model_name": "LayoutModel",
            "_view_count": null,
            "_view_module": "@jupyter-widgets/base",
            "_view_module_version": "1.2.0",
            "_view_name": "LayoutView",
            "align_content": null,
            "align_items": null,
            "align_self": null,
            "border": null,
            "bottom": null,
            "display": null,
            "flex": null,
            "flex_flow": null,
            "grid_area": null,
            "grid_auto_columns": null,
            "grid_auto_flow": null,
            "grid_auto_rows": null,
            "grid_column": null,
            "grid_gap": null,
            "grid_row": null,
            "grid_template_areas": null,
            "grid_template_columns": null,
            "grid_template_rows": null,
            "height": null,
            "justify_content": null,
            "justify_items": null,
            "left": null,
            "margin": null,
            "max_height": null,
            "max_width": null,
            "min_height": null,
            "min_width": null,
            "object_fit": null,
            "object_position": null,
            "order": null,
            "overflow": null,
            "overflow_x": null,
            "overflow_y": null,
            "padding": null,
            "right": null,
            "top": null,
            "visibility": null,
            "width": null
          }
        },
        "ca3b06e00c424c6d9d1db3f44d5fd170": {
          "model_module": "@jupyter-widgets/controls",
          "model_name": "DescriptionStyleModel",
          "model_module_version": "1.5.0",
          "state": {
            "_model_module": "@jupyter-widgets/controls",
            "_model_module_version": "1.5.0",
            "_model_name": "DescriptionStyleModel",
            "_view_count": null,
            "_view_module": "@jupyter-widgets/base",
            "_view_module_version": "1.2.0",
            "_view_name": "StyleView",
            "description_width": ""
          }
        },
        "af5cbe806f614da5b3a00b8b2e8c4fa5": {
          "model_module": "@jupyter-widgets/base",
          "model_name": "LayoutModel",
          "model_module_version": "1.2.0",
          "state": {
            "_model_module": "@jupyter-widgets/base",
            "_model_module_version": "1.2.0",
            "_model_name": "LayoutModel",
            "_view_count": null,
            "_view_module": "@jupyter-widgets/base",
            "_view_module_version": "1.2.0",
            "_view_name": "LayoutView",
            "align_content": null,
            "align_items": null,
            "align_self": null,
            "border": null,
            "bottom": null,
            "display": null,
            "flex": "2",
            "flex_flow": null,
            "grid_area": null,
            "grid_auto_columns": null,
            "grid_auto_flow": null,
            "grid_auto_rows": null,
            "grid_column": null,
            "grid_gap": null,
            "grid_row": null,
            "grid_template_areas": null,
            "grid_template_columns": null,
            "grid_template_rows": null,
            "height": null,
            "justify_content": null,
            "justify_items": null,
            "left": null,
            "margin": null,
            "max_height": null,
            "max_width": null,
            "min_height": null,
            "min_width": null,
            "object_fit": null,
            "object_position": null,
            "order": null,
            "overflow": null,
            "overflow_x": null,
            "overflow_y": null,
            "padding": null,
            "right": null,
            "top": null,
            "visibility": null,
            "width": null
          }
        },
        "807b2597d10c40b5a40f8d6dc2c81ed1": {
          "model_module": "@jupyter-widgets/controls",
          "model_name": "ProgressStyleModel",
          "model_module_version": "1.5.0",
          "state": {
            "_model_module": "@jupyter-widgets/controls",
            "_model_module_version": "1.5.0",
            "_model_name": "ProgressStyleModel",
            "_view_count": null,
            "_view_module": "@jupyter-widgets/base",
            "_view_module_version": "1.2.0",
            "_view_name": "StyleView",
            "bar_color": null,
            "description_width": ""
          }
        },
        "453f0a5d98b740b9b20659e5c78c63c9": {
          "model_module": "@jupyter-widgets/base",
          "model_name": "LayoutModel",
          "model_module_version": "1.2.0",
          "state": {
            "_model_module": "@jupyter-widgets/base",
            "_model_module_version": "1.2.0",
            "_model_name": "LayoutModel",
            "_view_count": null,
            "_view_module": "@jupyter-widgets/base",
            "_view_module_version": "1.2.0",
            "_view_name": "LayoutView",
            "align_content": null,
            "align_items": null,
            "align_self": null,
            "border": null,
            "bottom": null,
            "display": null,
            "flex": null,
            "flex_flow": null,
            "grid_area": null,
            "grid_auto_columns": null,
            "grid_auto_flow": null,
            "grid_auto_rows": null,
            "grid_column": null,
            "grid_gap": null,
            "grid_row": null,
            "grid_template_areas": null,
            "grid_template_columns": null,
            "grid_template_rows": null,
            "height": null,
            "justify_content": null,
            "justify_items": null,
            "left": null,
            "margin": null,
            "max_height": null,
            "max_width": null,
            "min_height": null,
            "min_width": null,
            "object_fit": null,
            "object_position": null,
            "order": null,
            "overflow": null,
            "overflow_x": null,
            "overflow_y": null,
            "padding": null,
            "right": null,
            "top": null,
            "visibility": null,
            "width": null
          }
        },
        "df34e41a816d415db262f2f0e3f49d24": {
          "model_module": "@jupyter-widgets/controls",
          "model_name": "DescriptionStyleModel",
          "model_module_version": "1.5.0",
          "state": {
            "_model_module": "@jupyter-widgets/controls",
            "_model_module_version": "1.5.0",
            "_model_name": "DescriptionStyleModel",
            "_view_count": null,
            "_view_module": "@jupyter-widgets/base",
            "_view_module_version": "1.2.0",
            "_view_name": "StyleView",
            "description_width": ""
          }
        },
        "315daf7916d84a3a956384669765aab7": {
          "model_module": "@jupyter-widgets/controls",
          "model_name": "HBoxModel",
          "model_module_version": "1.5.0",
          "state": {
            "_dom_classes": [],
            "_model_module": "@jupyter-widgets/controls",
            "_model_module_version": "1.5.0",
            "_model_name": "HBoxModel",
            "_view_count": null,
            "_view_module": "@jupyter-widgets/controls",
            "_view_module_version": "1.5.0",
            "_view_name": "HBoxView",
            "box_style": "",
            "children": [
              "IPY_MODEL_b0edd93144d3406692322eb8c0c19c09",
              "IPY_MODEL_78ee77c01a2f4ae5bad2a98166bf8951",
              "IPY_MODEL_1a6df4f7898a4a0f8bd5c6a067495bf6"
            ],
            "layout": "IPY_MODEL_2fa44f891e584cf186ea6f05f3a1f21b"
          }
        },
        "b0edd93144d3406692322eb8c0c19c09": {
          "model_module": "@jupyter-widgets/controls",
          "model_name": "HTMLModel",
          "model_module_version": "1.5.0",
          "state": {
            "_dom_classes": [],
            "_model_module": "@jupyter-widgets/controls",
            "_model_module_version": "1.5.0",
            "_model_name": "HTMLModel",
            "_view_count": null,
            "_view_module": "@jupyter-widgets/controls",
            "_view_module_version": "1.5.0",
            "_view_name": "HTMLView",
            "description": "",
            "description_tooltip": null,
            "layout": "IPY_MODEL_7b2b8390549147fda0c3617e0fa568e8",
            "placeholder": "​",
            "style": "IPY_MODEL_0e386a806c49464988491e513edfa226",
            "value": "Epoch 4: 100%"
          }
        },
        "78ee77c01a2f4ae5bad2a98166bf8951": {
          "model_module": "@jupyter-widgets/controls",
          "model_name": "FloatProgressModel",
          "model_module_version": "1.5.0",
          "state": {
            "_dom_classes": [],
            "_model_module": "@jupyter-widgets/controls",
            "_model_module_version": "1.5.0",
            "_model_name": "FloatProgressModel",
            "_view_count": null,
            "_view_module": "@jupyter-widgets/controls",
            "_view_module_version": "1.5.0",
            "_view_name": "ProgressView",
            "bar_style": "success",
            "description": "",
            "description_tooltip": null,
            "layout": "IPY_MODEL_b10aa281113f4c1c956e8a0db91128d9",
            "max": 3125,
            "min": 0,
            "orientation": "horizontal",
            "style": "IPY_MODEL_bfeac61698be44f6b2b4c7c8cdc92eeb",
            "value": 3125
          }
        },
        "1a6df4f7898a4a0f8bd5c6a067495bf6": {
          "model_module": "@jupyter-widgets/controls",
          "model_name": "HTMLModel",
          "model_module_version": "1.5.0",
          "state": {
            "_dom_classes": [],
            "_model_module": "@jupyter-widgets/controls",
            "_model_module_version": "1.5.0",
            "_model_name": "HTMLModel",
            "_view_count": null,
            "_view_module": "@jupyter-widgets/controls",
            "_view_module_version": "1.5.0",
            "_view_name": "HTMLView",
            "description": "",
            "description_tooltip": null,
            "layout": "IPY_MODEL_609659d257294dd89960aea296ffff69",
            "placeholder": "​",
            "style": "IPY_MODEL_f20d7693deba4e5d8193e1fad4b623a8",
            "value": " 3125/3125 [03:41&lt;00:00, 14.11it/s, loss=1.39, v_num=2]"
          }
        },
        "2fa44f891e584cf186ea6f05f3a1f21b": {
          "model_module": "@jupyter-widgets/base",
          "model_name": "LayoutModel",
          "model_module_version": "1.2.0",
          "state": {
            "_model_module": "@jupyter-widgets/base",
            "_model_module_version": "1.2.0",
            "_model_name": "LayoutModel",
            "_view_count": null,
            "_view_module": "@jupyter-widgets/base",
            "_view_module_version": "1.2.0",
            "_view_name": "LayoutView",
            "align_content": null,
            "align_items": null,
            "align_self": null,
            "border": null,
            "bottom": null,
            "display": "inline-flex",
            "flex": null,
            "flex_flow": "row wrap",
            "grid_area": null,
            "grid_auto_columns": null,
            "grid_auto_flow": null,
            "grid_auto_rows": null,
            "grid_column": null,
            "grid_gap": null,
            "grid_row": null,
            "grid_template_areas": null,
            "grid_template_columns": null,
            "grid_template_rows": null,
            "height": null,
            "justify_content": null,
            "justify_items": null,
            "left": null,
            "margin": null,
            "max_height": null,
            "max_width": null,
            "min_height": null,
            "min_width": null,
            "object_fit": null,
            "object_position": null,
            "order": null,
            "overflow": null,
            "overflow_x": null,
            "overflow_y": null,
            "padding": null,
            "right": null,
            "top": null,
            "visibility": null,
            "width": "100%"
          }
        },
        "7b2b8390549147fda0c3617e0fa568e8": {
          "model_module": "@jupyter-widgets/base",
          "model_name": "LayoutModel",
          "model_module_version": "1.2.0",
          "state": {
            "_model_module": "@jupyter-widgets/base",
            "_model_module_version": "1.2.0",
            "_model_name": "LayoutModel",
            "_view_count": null,
            "_view_module": "@jupyter-widgets/base",
            "_view_module_version": "1.2.0",
            "_view_name": "LayoutView",
            "align_content": null,
            "align_items": null,
            "align_self": null,
            "border": null,
            "bottom": null,
            "display": null,
            "flex": null,
            "flex_flow": null,
            "grid_area": null,
            "grid_auto_columns": null,
            "grid_auto_flow": null,
            "grid_auto_rows": null,
            "grid_column": null,
            "grid_gap": null,
            "grid_row": null,
            "grid_template_areas": null,
            "grid_template_columns": null,
            "grid_template_rows": null,
            "height": null,
            "justify_content": null,
            "justify_items": null,
            "left": null,
            "margin": null,
            "max_height": null,
            "max_width": null,
            "min_height": null,
            "min_width": null,
            "object_fit": null,
            "object_position": null,
            "order": null,
            "overflow": null,
            "overflow_x": null,
            "overflow_y": null,
            "padding": null,
            "right": null,
            "top": null,
            "visibility": null,
            "width": null
          }
        },
        "0e386a806c49464988491e513edfa226": {
          "model_module": "@jupyter-widgets/controls",
          "model_name": "DescriptionStyleModel",
          "model_module_version": "1.5.0",
          "state": {
            "_model_module": "@jupyter-widgets/controls",
            "_model_module_version": "1.5.0",
            "_model_name": "DescriptionStyleModel",
            "_view_count": null,
            "_view_module": "@jupyter-widgets/base",
            "_view_module_version": "1.2.0",
            "_view_name": "StyleView",
            "description_width": ""
          }
        },
        "b10aa281113f4c1c956e8a0db91128d9": {
          "model_module": "@jupyter-widgets/base",
          "model_name": "LayoutModel",
          "model_module_version": "1.2.0",
          "state": {
            "_model_module": "@jupyter-widgets/base",
            "_model_module_version": "1.2.0",
            "_model_name": "LayoutModel",
            "_view_count": null,
            "_view_module": "@jupyter-widgets/base",
            "_view_module_version": "1.2.0",
            "_view_name": "LayoutView",
            "align_content": null,
            "align_items": null,
            "align_self": null,
            "border": null,
            "bottom": null,
            "display": null,
            "flex": "2",
            "flex_flow": null,
            "grid_area": null,
            "grid_auto_columns": null,
            "grid_auto_flow": null,
            "grid_auto_rows": null,
            "grid_column": null,
            "grid_gap": null,
            "grid_row": null,
            "grid_template_areas": null,
            "grid_template_columns": null,
            "grid_template_rows": null,
            "height": null,
            "justify_content": null,
            "justify_items": null,
            "left": null,
            "margin": null,
            "max_height": null,
            "max_width": null,
            "min_height": null,
            "min_width": null,
            "object_fit": null,
            "object_position": null,
            "order": null,
            "overflow": null,
            "overflow_x": null,
            "overflow_y": null,
            "padding": null,
            "right": null,
            "top": null,
            "visibility": null,
            "width": null
          }
        },
        "bfeac61698be44f6b2b4c7c8cdc92eeb": {
          "model_module": "@jupyter-widgets/controls",
          "model_name": "ProgressStyleModel",
          "model_module_version": "1.5.0",
          "state": {
            "_model_module": "@jupyter-widgets/controls",
            "_model_module_version": "1.5.0",
            "_model_name": "ProgressStyleModel",
            "_view_count": null,
            "_view_module": "@jupyter-widgets/base",
            "_view_module_version": "1.2.0",
            "_view_name": "StyleView",
            "bar_color": null,
            "description_width": ""
          }
        },
        "609659d257294dd89960aea296ffff69": {
          "model_module": "@jupyter-widgets/base",
          "model_name": "LayoutModel",
          "model_module_version": "1.2.0",
          "state": {
            "_model_module": "@jupyter-widgets/base",
            "_model_module_version": "1.2.0",
            "_model_name": "LayoutModel",
            "_view_count": null,
            "_view_module": "@jupyter-widgets/base",
            "_view_module_version": "1.2.0",
            "_view_name": "LayoutView",
            "align_content": null,
            "align_items": null,
            "align_self": null,
            "border": null,
            "bottom": null,
            "display": null,
            "flex": null,
            "flex_flow": null,
            "grid_area": null,
            "grid_auto_columns": null,
            "grid_auto_flow": null,
            "grid_auto_rows": null,
            "grid_column": null,
            "grid_gap": null,
            "grid_row": null,
            "grid_template_areas": null,
            "grid_template_columns": null,
            "grid_template_rows": null,
            "height": null,
            "justify_content": null,
            "justify_items": null,
            "left": null,
            "margin": null,
            "max_height": null,
            "max_width": null,
            "min_height": null,
            "min_width": null,
            "object_fit": null,
            "object_position": null,
            "order": null,
            "overflow": null,
            "overflow_x": null,
            "overflow_y": null,
            "padding": null,
            "right": null,
            "top": null,
            "visibility": null,
            "width": null
          }
        },
        "f20d7693deba4e5d8193e1fad4b623a8": {
          "model_module": "@jupyter-widgets/controls",
          "model_name": "DescriptionStyleModel",
          "model_module_version": "1.5.0",
          "state": {
            "_model_module": "@jupyter-widgets/controls",
            "_model_module_version": "1.5.0",
            "_model_name": "DescriptionStyleModel",
            "_view_count": null,
            "_view_module": "@jupyter-widgets/base",
            "_view_module_version": "1.2.0",
            "_view_name": "StyleView",
            "description_width": ""
          }
        },
        "37ac0f82ec134a0c871845c7b8289200": {
          "model_module": "@jupyter-widgets/controls",
          "model_name": "HBoxModel",
          "model_module_version": "1.5.0",
          "state": {
            "_dom_classes": [],
            "_model_module": "@jupyter-widgets/controls",
            "_model_module_version": "1.5.0",
            "_model_name": "HBoxModel",
            "_view_count": null,
            "_view_module": "@jupyter-widgets/controls",
            "_view_module_version": "1.5.0",
            "_view_name": "HBoxView",
            "box_style": "",
            "children": [
              "IPY_MODEL_98cca7bf3aad49ada58f2e5e76dc8dcf",
              "IPY_MODEL_6225d3777dbc4e5f88e3a3505445a85c",
              "IPY_MODEL_4a00626f74824c499f245ac2a4c4be8d"
            ],
            "layout": "IPY_MODEL_f4d0e5e5f3cb4e9f966429a3ed49a28e"
          }
        },
        "98cca7bf3aad49ada58f2e5e76dc8dcf": {
          "model_module": "@jupyter-widgets/controls",
          "model_name": "HTMLModel",
          "model_module_version": "1.5.0",
          "state": {
            "_dom_classes": [],
            "_model_module": "@jupyter-widgets/controls",
            "_model_module_version": "1.5.0",
            "_model_name": "HTMLModel",
            "_view_count": null,
            "_view_module": "@jupyter-widgets/controls",
            "_view_module_version": "1.5.0",
            "_view_name": "HTMLView",
            "description": "",
            "description_tooltip": null,
            "layout": "IPY_MODEL_2a03410c619d46509ae249969d3c02c6",
            "placeholder": "​",
            "style": "IPY_MODEL_bb10666dc2b34cf792bf95121dd6de54",
            "value": "100%"
          }
        },
        "6225d3777dbc4e5f88e3a3505445a85c": {
          "model_module": "@jupyter-widgets/controls",
          "model_name": "FloatProgressModel",
          "model_module_version": "1.5.0",
          "state": {
            "_dom_classes": [],
            "_model_module": "@jupyter-widgets/controls",
            "_model_module_version": "1.5.0",
            "_model_name": "FloatProgressModel",
            "_view_count": null,
            "_view_module": "@jupyter-widgets/controls",
            "_view_module_version": "1.5.0",
            "_view_name": "ProgressView",
            "bar_style": "success",
            "description": "",
            "description_tooltip": null,
            "layout": "IPY_MODEL_dd1557b93cfe452c91bb590ec7e9195d",
            "max": 182040794,
            "min": 0,
            "orientation": "horizontal",
            "style": "IPY_MODEL_e00c4c1f022e43e9a63ebe85d2b2e717",
            "value": 182040794
          }
        },
        "4a00626f74824c499f245ac2a4c4be8d": {
          "model_module": "@jupyter-widgets/controls",
          "model_name": "HTMLModel",
          "model_module_version": "1.5.0",
          "state": {
            "_dom_classes": [],
            "_model_module": "@jupyter-widgets/controls",
            "_model_module_version": "1.5.0",
            "_model_name": "HTMLModel",
            "_view_count": null,
            "_view_module": "@jupyter-widgets/controls",
            "_view_module_version": "1.5.0",
            "_view_name": "HTMLView",
            "description": "",
            "description_tooltip": null,
            "layout": "IPY_MODEL_d36b66791df74a40909308d690ccaaf0",
            "placeholder": "​",
            "style": "IPY_MODEL_7848021eae304f928119ac0f49f4d814",
            "value": " 182040794/182040794 [00:12&lt;00:00, 18918499.90it/s]"
          }
        },
        "f4d0e5e5f3cb4e9f966429a3ed49a28e": {
          "model_module": "@jupyter-widgets/base",
          "model_name": "LayoutModel",
          "model_module_version": "1.2.0",
          "state": {
            "_model_module": "@jupyter-widgets/base",
            "_model_module_version": "1.2.0",
            "_model_name": "LayoutModel",
            "_view_count": null,
            "_view_module": "@jupyter-widgets/base",
            "_view_module_version": "1.2.0",
            "_view_name": "LayoutView",
            "align_content": null,
            "align_items": null,
            "align_self": null,
            "border": null,
            "bottom": null,
            "display": null,
            "flex": null,
            "flex_flow": null,
            "grid_area": null,
            "grid_auto_columns": null,
            "grid_auto_flow": null,
            "grid_auto_rows": null,
            "grid_column": null,
            "grid_gap": null,
            "grid_row": null,
            "grid_template_areas": null,
            "grid_template_columns": null,
            "grid_template_rows": null,
            "height": null,
            "justify_content": null,
            "justify_items": null,
            "left": null,
            "margin": null,
            "max_height": null,
            "max_width": null,
            "min_height": null,
            "min_width": null,
            "object_fit": null,
            "object_position": null,
            "order": null,
            "overflow": null,
            "overflow_x": null,
            "overflow_y": null,
            "padding": null,
            "right": null,
            "top": null,
            "visibility": null,
            "width": null
          }
        },
        "2a03410c619d46509ae249969d3c02c6": {
          "model_module": "@jupyter-widgets/base",
          "model_name": "LayoutModel",
          "model_module_version": "1.2.0",
          "state": {
            "_model_module": "@jupyter-widgets/base",
            "_model_module_version": "1.2.0",
            "_model_name": "LayoutModel",
            "_view_count": null,
            "_view_module": "@jupyter-widgets/base",
            "_view_module_version": "1.2.0",
            "_view_name": "LayoutView",
            "align_content": null,
            "align_items": null,
            "align_self": null,
            "border": null,
            "bottom": null,
            "display": null,
            "flex": null,
            "flex_flow": null,
            "grid_area": null,
            "grid_auto_columns": null,
            "grid_auto_flow": null,
            "grid_auto_rows": null,
            "grid_column": null,
            "grid_gap": null,
            "grid_row": null,
            "grid_template_areas": null,
            "grid_template_columns": null,
            "grid_template_rows": null,
            "height": null,
            "justify_content": null,
            "justify_items": null,
            "left": null,
            "margin": null,
            "max_height": null,
            "max_width": null,
            "min_height": null,
            "min_width": null,
            "object_fit": null,
            "object_position": null,
            "order": null,
            "overflow": null,
            "overflow_x": null,
            "overflow_y": null,
            "padding": null,
            "right": null,
            "top": null,
            "visibility": null,
            "width": null
          }
        },
        "bb10666dc2b34cf792bf95121dd6de54": {
          "model_module": "@jupyter-widgets/controls",
          "model_name": "DescriptionStyleModel",
          "model_module_version": "1.5.0",
          "state": {
            "_model_module": "@jupyter-widgets/controls",
            "_model_module_version": "1.5.0",
            "_model_name": "DescriptionStyleModel",
            "_view_count": null,
            "_view_module": "@jupyter-widgets/base",
            "_view_module_version": "1.2.0",
            "_view_name": "StyleView",
            "description_width": ""
          }
        },
        "dd1557b93cfe452c91bb590ec7e9195d": {
          "model_module": "@jupyter-widgets/base",
          "model_name": "LayoutModel",
          "model_module_version": "1.2.0",
          "state": {
            "_model_module": "@jupyter-widgets/base",
            "_model_module_version": "1.2.0",
            "_model_name": "LayoutModel",
            "_view_count": null,
            "_view_module": "@jupyter-widgets/base",
            "_view_module_version": "1.2.0",
            "_view_name": "LayoutView",
            "align_content": null,
            "align_items": null,
            "align_self": null,
            "border": null,
            "bottom": null,
            "display": null,
            "flex": null,
            "flex_flow": null,
            "grid_area": null,
            "grid_auto_columns": null,
            "grid_auto_flow": null,
            "grid_auto_rows": null,
            "grid_column": null,
            "grid_gap": null,
            "grid_row": null,
            "grid_template_areas": null,
            "grid_template_columns": null,
            "grid_template_rows": null,
            "height": null,
            "justify_content": null,
            "justify_items": null,
            "left": null,
            "margin": null,
            "max_height": null,
            "max_width": null,
            "min_height": null,
            "min_width": null,
            "object_fit": null,
            "object_position": null,
            "order": null,
            "overflow": null,
            "overflow_x": null,
            "overflow_y": null,
            "padding": null,
            "right": null,
            "top": null,
            "visibility": null,
            "width": null
          }
        },
        "e00c4c1f022e43e9a63ebe85d2b2e717": {
          "model_module": "@jupyter-widgets/controls",
          "model_name": "ProgressStyleModel",
          "model_module_version": "1.5.0",
          "state": {
            "_model_module": "@jupyter-widgets/controls",
            "_model_module_version": "1.5.0",
            "_model_name": "ProgressStyleModel",
            "_view_count": null,
            "_view_module": "@jupyter-widgets/base",
            "_view_module_version": "1.2.0",
            "_view_name": "StyleView",
            "bar_color": null,
            "description_width": ""
          }
        },
        "d36b66791df74a40909308d690ccaaf0": {
          "model_module": "@jupyter-widgets/base",
          "model_name": "LayoutModel",
          "model_module_version": "1.2.0",
          "state": {
            "_model_module": "@jupyter-widgets/base",
            "_model_module_version": "1.2.0",
            "_model_name": "LayoutModel",
            "_view_count": null,
            "_view_module": "@jupyter-widgets/base",
            "_view_module_version": "1.2.0",
            "_view_name": "LayoutView",
            "align_content": null,
            "align_items": null,
            "align_self": null,
            "border": null,
            "bottom": null,
            "display": null,
            "flex": null,
            "flex_flow": null,
            "grid_area": null,
            "grid_auto_columns": null,
            "grid_auto_flow": null,
            "grid_auto_rows": null,
            "grid_column": null,
            "grid_gap": null,
            "grid_row": null,
            "grid_template_areas": null,
            "grid_template_columns": null,
            "grid_template_rows": null,
            "height": null,
            "justify_content": null,
            "justify_items": null,
            "left": null,
            "margin": null,
            "max_height": null,
            "max_width": null,
            "min_height": null,
            "min_width": null,
            "object_fit": null,
            "object_position": null,
            "order": null,
            "overflow": null,
            "overflow_x": null,
            "overflow_y": null,
            "padding": null,
            "right": null,
            "top": null,
            "visibility": null,
            "width": null
          }
        },
        "7848021eae304f928119ac0f49f4d814": {
          "model_module": "@jupyter-widgets/controls",
          "model_name": "DescriptionStyleModel",
          "model_module_version": "1.5.0",
          "state": {
            "_model_module": "@jupyter-widgets/controls",
            "_model_module_version": "1.5.0",
            "_model_name": "DescriptionStyleModel",
            "_view_count": null,
            "_view_module": "@jupyter-widgets/base",
            "_view_module_version": "1.2.0",
            "_view_name": "StyleView",
            "description_width": ""
          }
        },
        "b6331718331a4af48c803b2593a28658": {
          "model_module": "@jupyter-widgets/controls",
          "model_name": "HBoxModel",
          "model_module_version": "1.5.0",
          "state": {
            "_dom_classes": [],
            "_model_module": "@jupyter-widgets/controls",
            "_model_module_version": "1.5.0",
            "_model_name": "HBoxModel",
            "_view_count": null,
            "_view_module": "@jupyter-widgets/controls",
            "_view_module_version": "1.5.0",
            "_view_name": "HBoxView",
            "box_style": "",
            "children": [
              "IPY_MODEL_3f40daf075324a2a922fc5102c750f4c",
              "IPY_MODEL_823a513f601b46fd869c116c05d15629",
              "IPY_MODEL_4dd6764737334ac5b131d3d24849591d"
            ],
            "layout": "IPY_MODEL_54a8774cb4074e14bc054db7a22a1791"
          }
        },
        "3f40daf075324a2a922fc5102c750f4c": {
          "model_module": "@jupyter-widgets/controls",
          "model_name": "HTMLModel",
          "model_module_version": "1.5.0",
          "state": {
            "_dom_classes": [],
            "_model_module": "@jupyter-widgets/controls",
            "_model_module_version": "1.5.0",
            "_model_name": "HTMLModel",
            "_view_count": null,
            "_view_module": "@jupyter-widgets/controls",
            "_view_module_version": "1.5.0",
            "_view_name": "HTMLView",
            "description": "",
            "description_tooltip": null,
            "layout": "IPY_MODEL_309ae20aba9c480d98ab14cc728d52b3",
            "placeholder": "​",
            "style": "IPY_MODEL_9a167dcd10364f189ff99589126406c7",
            "value": "100%"
          }
        },
        "823a513f601b46fd869c116c05d15629": {
          "model_module": "@jupyter-widgets/controls",
          "model_name": "FloatProgressModel",
          "model_module_version": "1.5.0",
          "state": {
            "_dom_classes": [],
            "_model_module": "@jupyter-widgets/controls",
            "_model_module_version": "1.5.0",
            "_model_name": "FloatProgressModel",
            "_view_count": null,
            "_view_module": "@jupyter-widgets/controls",
            "_view_module_version": "1.5.0",
            "_view_name": "ProgressView",
            "bar_style": "success",
            "description": "",
            "description_tooltip": null,
            "layout": "IPY_MODEL_638b94c813f148fb9b961847e5efb179",
            "max": 64275384,
            "min": 0,
            "orientation": "horizontal",
            "style": "IPY_MODEL_dd7ba334e33c426ea9d2b334c21bde61",
            "value": 64275384
          }
        },
        "4dd6764737334ac5b131d3d24849591d": {
          "model_module": "@jupyter-widgets/controls",
          "model_name": "HTMLModel",
          "model_module_version": "1.5.0",
          "state": {
            "_dom_classes": [],
            "_model_module": "@jupyter-widgets/controls",
            "_model_module_version": "1.5.0",
            "_model_name": "HTMLModel",
            "_view_count": null,
            "_view_module": "@jupyter-widgets/controls",
            "_view_module_version": "1.5.0",
            "_view_name": "HTMLView",
            "description": "",
            "description_tooltip": null,
            "layout": "IPY_MODEL_44a5e1d23316495bae75c26c82a543a6",
            "placeholder": "​",
            "style": "IPY_MODEL_103fa132e9aa4001a5351b75e467fdef",
            "value": " 64275384/64275384 [00:06&lt;00:00, 18917382.23it/s]"
          }
        },
        "54a8774cb4074e14bc054db7a22a1791": {
          "model_module": "@jupyter-widgets/base",
          "model_name": "LayoutModel",
          "model_module_version": "1.2.0",
          "state": {
            "_model_module": "@jupyter-widgets/base",
            "_model_module_version": "1.2.0",
            "_model_name": "LayoutModel",
            "_view_count": null,
            "_view_module": "@jupyter-widgets/base",
            "_view_module_version": "1.2.0",
            "_view_name": "LayoutView",
            "align_content": null,
            "align_items": null,
            "align_self": null,
            "border": null,
            "bottom": null,
            "display": null,
            "flex": null,
            "flex_flow": null,
            "grid_area": null,
            "grid_auto_columns": null,
            "grid_auto_flow": null,
            "grid_auto_rows": null,
            "grid_column": null,
            "grid_gap": null,
            "grid_row": null,
            "grid_template_areas": null,
            "grid_template_columns": null,
            "grid_template_rows": null,
            "height": null,
            "justify_content": null,
            "justify_items": null,
            "left": null,
            "margin": null,
            "max_height": null,
            "max_width": null,
            "min_height": null,
            "min_width": null,
            "object_fit": null,
            "object_position": null,
            "order": null,
            "overflow": null,
            "overflow_x": null,
            "overflow_y": null,
            "padding": null,
            "right": null,
            "top": null,
            "visibility": null,
            "width": null
          }
        },
        "309ae20aba9c480d98ab14cc728d52b3": {
          "model_module": "@jupyter-widgets/base",
          "model_name": "LayoutModel",
          "model_module_version": "1.2.0",
          "state": {
            "_model_module": "@jupyter-widgets/base",
            "_model_module_version": "1.2.0",
            "_model_name": "LayoutModel",
            "_view_count": null,
            "_view_module": "@jupyter-widgets/base",
            "_view_module_version": "1.2.0",
            "_view_name": "LayoutView",
            "align_content": null,
            "align_items": null,
            "align_self": null,
            "border": null,
            "bottom": null,
            "display": null,
            "flex": null,
            "flex_flow": null,
            "grid_area": null,
            "grid_auto_columns": null,
            "grid_auto_flow": null,
            "grid_auto_rows": null,
            "grid_column": null,
            "grid_gap": null,
            "grid_row": null,
            "grid_template_areas": null,
            "grid_template_columns": null,
            "grid_template_rows": null,
            "height": null,
            "justify_content": null,
            "justify_items": null,
            "left": null,
            "margin": null,
            "max_height": null,
            "max_width": null,
            "min_height": null,
            "min_width": null,
            "object_fit": null,
            "object_position": null,
            "order": null,
            "overflow": null,
            "overflow_x": null,
            "overflow_y": null,
            "padding": null,
            "right": null,
            "top": null,
            "visibility": null,
            "width": null
          }
        },
        "9a167dcd10364f189ff99589126406c7": {
          "model_module": "@jupyter-widgets/controls",
          "model_name": "DescriptionStyleModel",
          "model_module_version": "1.5.0",
          "state": {
            "_model_module": "@jupyter-widgets/controls",
            "_model_module_version": "1.5.0",
            "_model_name": "DescriptionStyleModel",
            "_view_count": null,
            "_view_module": "@jupyter-widgets/base",
            "_view_module_version": "1.2.0",
            "_view_name": "StyleView",
            "description_width": ""
          }
        },
        "638b94c813f148fb9b961847e5efb179": {
          "model_module": "@jupyter-widgets/base",
          "model_name": "LayoutModel",
          "model_module_version": "1.2.0",
          "state": {
            "_model_module": "@jupyter-widgets/base",
            "_model_module_version": "1.2.0",
            "_model_name": "LayoutModel",
            "_view_count": null,
            "_view_module": "@jupyter-widgets/base",
            "_view_module_version": "1.2.0",
            "_view_name": "LayoutView",
            "align_content": null,
            "align_items": null,
            "align_self": null,
            "border": null,
            "bottom": null,
            "display": null,
            "flex": null,
            "flex_flow": null,
            "grid_area": null,
            "grid_auto_columns": null,
            "grid_auto_flow": null,
            "grid_auto_rows": null,
            "grid_column": null,
            "grid_gap": null,
            "grid_row": null,
            "grid_template_areas": null,
            "grid_template_columns": null,
            "grid_template_rows": null,
            "height": null,
            "justify_content": null,
            "justify_items": null,
            "left": null,
            "margin": null,
            "max_height": null,
            "max_width": null,
            "min_height": null,
            "min_width": null,
            "object_fit": null,
            "object_position": null,
            "order": null,
            "overflow": null,
            "overflow_x": null,
            "overflow_y": null,
            "padding": null,
            "right": null,
            "top": null,
            "visibility": null,
            "width": null
          }
        },
        "dd7ba334e33c426ea9d2b334c21bde61": {
          "model_module": "@jupyter-widgets/controls",
          "model_name": "ProgressStyleModel",
          "model_module_version": "1.5.0",
          "state": {
            "_model_module": "@jupyter-widgets/controls",
            "_model_module_version": "1.5.0",
            "_model_name": "ProgressStyleModel",
            "_view_count": null,
            "_view_module": "@jupyter-widgets/base",
            "_view_module_version": "1.2.0",
            "_view_name": "StyleView",
            "bar_color": null,
            "description_width": ""
          }
        },
        "44a5e1d23316495bae75c26c82a543a6": {
          "model_module": "@jupyter-widgets/base",
          "model_name": "LayoutModel",
          "model_module_version": "1.2.0",
          "state": {
            "_model_module": "@jupyter-widgets/base",
            "_model_module_version": "1.2.0",
            "_model_name": "LayoutModel",
            "_view_count": null,
            "_view_module": "@jupyter-widgets/base",
            "_view_module_version": "1.2.0",
            "_view_name": "LayoutView",
            "align_content": null,
            "align_items": null,
            "align_self": null,
            "border": null,
            "bottom": null,
            "display": null,
            "flex": null,
            "flex_flow": null,
            "grid_area": null,
            "grid_auto_columns": null,
            "grid_auto_flow": null,
            "grid_auto_rows": null,
            "grid_column": null,
            "grid_gap": null,
            "grid_row": null,
            "grid_template_areas": null,
            "grid_template_columns": null,
            "grid_template_rows": null,
            "height": null,
            "justify_content": null,
            "justify_items": null,
            "left": null,
            "margin": null,
            "max_height": null,
            "max_width": null,
            "min_height": null,
            "min_width": null,
            "object_fit": null,
            "object_position": null,
            "order": null,
            "overflow": null,
            "overflow_x": null,
            "overflow_y": null,
            "padding": null,
            "right": null,
            "top": null,
            "visibility": null,
            "width": null
          }
        },
        "103fa132e9aa4001a5351b75e467fdef": {
          "model_module": "@jupyter-widgets/controls",
          "model_name": "DescriptionStyleModel",
          "model_module_version": "1.5.0",
          "state": {
            "_model_module": "@jupyter-widgets/controls",
            "_model_module_version": "1.5.0",
            "_model_name": "DescriptionStyleModel",
            "_view_count": null,
            "_view_module": "@jupyter-widgets/base",
            "_view_module_version": "1.2.0",
            "_view_name": "StyleView",
            "description_width": ""
          }
        },
        "3ed0038502d6474483f79b6743e86c7a": {
          "model_module": "@jupyter-widgets/controls",
          "model_name": "HBoxModel",
          "model_module_version": "1.5.0",
          "state": {
            "_dom_classes": [],
            "_model_module": "@jupyter-widgets/controls",
            "_model_module_version": "1.5.0",
            "_model_name": "HBoxModel",
            "_view_count": null,
            "_view_module": "@jupyter-widgets/controls",
            "_view_module_version": "1.5.0",
            "_view_name": "HBoxView",
            "box_style": "",
            "children": [
              "IPY_MODEL_859e4cac5ebf43ebaf1a2fc569554fe7",
              "IPY_MODEL_d9230ffb5d7f4791bf0474ab7629a7fc",
              "IPY_MODEL_903559e8148b42b49e4d027d7e1f38e0"
            ],
            "layout": "IPY_MODEL_ba085d8fddbf468dbf1ba54b6adee7a6"
          }
        },
        "859e4cac5ebf43ebaf1a2fc569554fe7": {
          "model_module": "@jupyter-widgets/controls",
          "model_name": "HTMLModel",
          "model_module_version": "1.5.0",
          "state": {
            "_dom_classes": [],
            "_model_module": "@jupyter-widgets/controls",
            "_model_module_version": "1.5.0",
            "_model_name": "HTMLModel",
            "_view_count": null,
            "_view_module": "@jupyter-widgets/controls",
            "_view_module_version": "1.5.0",
            "_view_name": "HTMLView",
            "description": "",
            "description_tooltip": null,
            "layout": "IPY_MODEL_ab69ca03db554bfb8113bd8515d5449a",
            "placeholder": "​",
            "style": "IPY_MODEL_9c5d88346f8d40f2b61eba50b58312ac",
            "value": "Epoch 4: 100%"
          }
        },
        "d9230ffb5d7f4791bf0474ab7629a7fc": {
          "model_module": "@jupyter-widgets/controls",
          "model_name": "FloatProgressModel",
          "model_module_version": "1.5.0",
          "state": {
            "_dom_classes": [],
            "_model_module": "@jupyter-widgets/controls",
            "_model_module_version": "1.5.0",
            "_model_name": "FloatProgressModel",
            "_view_count": null,
            "_view_module": "@jupyter-widgets/controls",
            "_view_module_version": "1.5.0",
            "_view_name": "ProgressView",
            "bar_style": "success",
            "description": "",
            "description_tooltip": null,
            "layout": "IPY_MODEL_cb7c561854d4400e8a9ada2858f5f821",
            "max": 3125,
            "min": 0,
            "orientation": "horizontal",
            "style": "IPY_MODEL_49c6c0f884a049cda82fca76272bc747",
            "value": 3125
          }
        },
        "903559e8148b42b49e4d027d7e1f38e0": {
          "model_module": "@jupyter-widgets/controls",
          "model_name": "HTMLModel",
          "model_module_version": "1.5.0",
          "state": {
            "_dom_classes": [],
            "_model_module": "@jupyter-widgets/controls",
            "_model_module_version": "1.5.0",
            "_model_name": "HTMLModel",
            "_view_count": null,
            "_view_module": "@jupyter-widgets/controls",
            "_view_module_version": "1.5.0",
            "_view_name": "HTMLView",
            "description": "",
            "description_tooltip": null,
            "layout": "IPY_MODEL_410c68516e4a4247adb7ecdc270d0878",
            "placeholder": "​",
            "style": "IPY_MODEL_902a55e237d446f1b8b76baeea69a79e",
            "value": " 3125/3125 [08:58&lt;00:00,  5.80it/s, loss=1.39, v_num=3]"
          }
        },
        "ba085d8fddbf468dbf1ba54b6adee7a6": {
          "model_module": "@jupyter-widgets/base",
          "model_name": "LayoutModel",
          "model_module_version": "1.2.0",
          "state": {
            "_model_module": "@jupyter-widgets/base",
            "_model_module_version": "1.2.0",
            "_model_name": "LayoutModel",
            "_view_count": null,
            "_view_module": "@jupyter-widgets/base",
            "_view_module_version": "1.2.0",
            "_view_name": "LayoutView",
            "align_content": null,
            "align_items": null,
            "align_self": null,
            "border": null,
            "bottom": null,
            "display": "inline-flex",
            "flex": null,
            "flex_flow": "row wrap",
            "grid_area": null,
            "grid_auto_columns": null,
            "grid_auto_flow": null,
            "grid_auto_rows": null,
            "grid_column": null,
            "grid_gap": null,
            "grid_row": null,
            "grid_template_areas": null,
            "grid_template_columns": null,
            "grid_template_rows": null,
            "height": null,
            "justify_content": null,
            "justify_items": null,
            "left": null,
            "margin": null,
            "max_height": null,
            "max_width": null,
            "min_height": null,
            "min_width": null,
            "object_fit": null,
            "object_position": null,
            "order": null,
            "overflow": null,
            "overflow_x": null,
            "overflow_y": null,
            "padding": null,
            "right": null,
            "top": null,
            "visibility": null,
            "width": "100%"
          }
        },
        "ab69ca03db554bfb8113bd8515d5449a": {
          "model_module": "@jupyter-widgets/base",
          "model_name": "LayoutModel",
          "model_module_version": "1.2.0",
          "state": {
            "_model_module": "@jupyter-widgets/base",
            "_model_module_version": "1.2.0",
            "_model_name": "LayoutModel",
            "_view_count": null,
            "_view_module": "@jupyter-widgets/base",
            "_view_module_version": "1.2.0",
            "_view_name": "LayoutView",
            "align_content": null,
            "align_items": null,
            "align_self": null,
            "border": null,
            "bottom": null,
            "display": null,
            "flex": null,
            "flex_flow": null,
            "grid_area": null,
            "grid_auto_columns": null,
            "grid_auto_flow": null,
            "grid_auto_rows": null,
            "grid_column": null,
            "grid_gap": null,
            "grid_row": null,
            "grid_template_areas": null,
            "grid_template_columns": null,
            "grid_template_rows": null,
            "height": null,
            "justify_content": null,
            "justify_items": null,
            "left": null,
            "margin": null,
            "max_height": null,
            "max_width": null,
            "min_height": null,
            "min_width": null,
            "object_fit": null,
            "object_position": null,
            "order": null,
            "overflow": null,
            "overflow_x": null,
            "overflow_y": null,
            "padding": null,
            "right": null,
            "top": null,
            "visibility": null,
            "width": null
          }
        },
        "9c5d88346f8d40f2b61eba50b58312ac": {
          "model_module": "@jupyter-widgets/controls",
          "model_name": "DescriptionStyleModel",
          "model_module_version": "1.5.0",
          "state": {
            "_model_module": "@jupyter-widgets/controls",
            "_model_module_version": "1.5.0",
            "_model_name": "DescriptionStyleModel",
            "_view_count": null,
            "_view_module": "@jupyter-widgets/base",
            "_view_module_version": "1.2.0",
            "_view_name": "StyleView",
            "description_width": ""
          }
        },
        "cb7c561854d4400e8a9ada2858f5f821": {
          "model_module": "@jupyter-widgets/base",
          "model_name": "LayoutModel",
          "model_module_version": "1.2.0",
          "state": {
            "_model_module": "@jupyter-widgets/base",
            "_model_module_version": "1.2.0",
            "_model_name": "LayoutModel",
            "_view_count": null,
            "_view_module": "@jupyter-widgets/base",
            "_view_module_version": "1.2.0",
            "_view_name": "LayoutView",
            "align_content": null,
            "align_items": null,
            "align_self": null,
            "border": null,
            "bottom": null,
            "display": null,
            "flex": "2",
            "flex_flow": null,
            "grid_area": null,
            "grid_auto_columns": null,
            "grid_auto_flow": null,
            "grid_auto_rows": null,
            "grid_column": null,
            "grid_gap": null,
            "grid_row": null,
            "grid_template_areas": null,
            "grid_template_columns": null,
            "grid_template_rows": null,
            "height": null,
            "justify_content": null,
            "justify_items": null,
            "left": null,
            "margin": null,
            "max_height": null,
            "max_width": null,
            "min_height": null,
            "min_width": null,
            "object_fit": null,
            "object_position": null,
            "order": null,
            "overflow": null,
            "overflow_x": null,
            "overflow_y": null,
            "padding": null,
            "right": null,
            "top": null,
            "visibility": null,
            "width": null
          }
        },
        "49c6c0f884a049cda82fca76272bc747": {
          "model_module": "@jupyter-widgets/controls",
          "model_name": "ProgressStyleModel",
          "model_module_version": "1.5.0",
          "state": {
            "_model_module": "@jupyter-widgets/controls",
            "_model_module_version": "1.5.0",
            "_model_name": "ProgressStyleModel",
            "_view_count": null,
            "_view_module": "@jupyter-widgets/base",
            "_view_module_version": "1.2.0",
            "_view_name": "StyleView",
            "bar_color": null,
            "description_width": ""
          }
        },
        "410c68516e4a4247adb7ecdc270d0878": {
          "model_module": "@jupyter-widgets/base",
          "model_name": "LayoutModel",
          "model_module_version": "1.2.0",
          "state": {
            "_model_module": "@jupyter-widgets/base",
            "_model_module_version": "1.2.0",
            "_model_name": "LayoutModel",
            "_view_count": null,
            "_view_module": "@jupyter-widgets/base",
            "_view_module_version": "1.2.0",
            "_view_name": "LayoutView",
            "align_content": null,
            "align_items": null,
            "align_self": null,
            "border": null,
            "bottom": null,
            "display": null,
            "flex": null,
            "flex_flow": null,
            "grid_area": null,
            "grid_auto_columns": null,
            "grid_auto_flow": null,
            "grid_auto_rows": null,
            "grid_column": null,
            "grid_gap": null,
            "grid_row": null,
            "grid_template_areas": null,
            "grid_template_columns": null,
            "grid_template_rows": null,
            "height": null,
            "justify_content": null,
            "justify_items": null,
            "left": null,
            "margin": null,
            "max_height": null,
            "max_width": null,
            "min_height": null,
            "min_width": null,
            "object_fit": null,
            "object_position": null,
            "order": null,
            "overflow": null,
            "overflow_x": null,
            "overflow_y": null,
            "padding": null,
            "right": null,
            "top": null,
            "visibility": null,
            "width": null
          }
        },
        "902a55e237d446f1b8b76baeea69a79e": {
          "model_module": "@jupyter-widgets/controls",
          "model_name": "DescriptionStyleModel",
          "model_module_version": "1.5.0",
          "state": {
            "_model_module": "@jupyter-widgets/controls",
            "_model_module_version": "1.5.0",
            "_model_name": "DescriptionStyleModel",
            "_view_count": null,
            "_view_module": "@jupyter-widgets/base",
            "_view_module_version": "1.2.0",
            "_view_name": "StyleView",
            "description_width": ""
          }
        },
        "c4d8215987a04a19b3be64d9d8786e84": {
          "model_module": "@jupyter-widgets/controls",
          "model_name": "HBoxModel",
          "model_module_version": "1.5.0",
          "state": {
            "_dom_classes": [],
            "_model_module": "@jupyter-widgets/controls",
            "_model_module_version": "1.5.0",
            "_model_name": "HBoxModel",
            "_view_count": null,
            "_view_module": "@jupyter-widgets/controls",
            "_view_module_version": "1.5.0",
            "_view_name": "HBoxView",
            "box_style": "",
            "children": [
              "IPY_MODEL_66133284a75c4cbf8bcf9eca8b90ee20",
              "IPY_MODEL_81b66b6e70aa49ef8476059309e68bdc",
              "IPY_MODEL_3b3d659a806d481a9449477b88331eb5"
            ],
            "layout": "IPY_MODEL_60215db0fb0e492ba71b441c0d4a7291"
          }
        },
        "66133284a75c4cbf8bcf9eca8b90ee20": {
          "model_module": "@jupyter-widgets/controls",
          "model_name": "HTMLModel",
          "model_module_version": "1.5.0",
          "state": {
            "_dom_classes": [],
            "_model_module": "@jupyter-widgets/controls",
            "_model_module_version": "1.5.0",
            "_model_name": "HTMLModel",
            "_view_count": null,
            "_view_module": "@jupyter-widgets/controls",
            "_view_module_version": "1.5.0",
            "_view_name": "HTMLView",
            "description": "",
            "description_tooltip": null,
            "layout": "IPY_MODEL_3c019e6079f94a15a0fe07928850b5d3",
            "placeholder": "​",
            "style": "IPY_MODEL_aec9c7f0c95040a1b072c4cf71f1fbdf",
            "value": "Epoch 4: 100%"
          }
        },
        "81b66b6e70aa49ef8476059309e68bdc": {
          "model_module": "@jupyter-widgets/controls",
          "model_name": "FloatProgressModel",
          "model_module_version": "1.5.0",
          "state": {
            "_dom_classes": [],
            "_model_module": "@jupyter-widgets/controls",
            "_model_module_version": "1.5.0",
            "_model_name": "FloatProgressModel",
            "_view_count": null,
            "_view_module": "@jupyter-widgets/controls",
            "_view_module_version": "1.5.0",
            "_view_name": "ProgressView",
            "bar_style": "success",
            "description": "",
            "description_tooltip": null,
            "layout": "IPY_MODEL_cc212d3fda5c4221a693b4dbaf94493c",
            "max": 3125,
            "min": 0,
            "orientation": "horizontal",
            "style": "IPY_MODEL_104118c1bacb4aada1dd62be40034039",
            "value": 3125
          }
        },
        "3b3d659a806d481a9449477b88331eb5": {
          "model_module": "@jupyter-widgets/controls",
          "model_name": "HTMLModel",
          "model_module_version": "1.5.0",
          "state": {
            "_dom_classes": [],
            "_model_module": "@jupyter-widgets/controls",
            "_model_module_version": "1.5.0",
            "_model_name": "HTMLModel",
            "_view_count": null,
            "_view_module": "@jupyter-widgets/controls",
            "_view_module_version": "1.5.0",
            "_view_name": "HTMLView",
            "description": "",
            "description_tooltip": null,
            "layout": "IPY_MODEL_fd94485e13a64c9685e1d9078ae247d2",
            "placeholder": "​",
            "style": "IPY_MODEL_bc408c537e124a208fc307cba975d37c",
            "value": " 3125/3125 [10:02&lt;00:00,  5.19it/s, loss=1.39, v_num=4]"
          }
        },
        "60215db0fb0e492ba71b441c0d4a7291": {
          "model_module": "@jupyter-widgets/base",
          "model_name": "LayoutModel",
          "model_module_version": "1.2.0",
          "state": {
            "_model_module": "@jupyter-widgets/base",
            "_model_module_version": "1.2.0",
            "_model_name": "LayoutModel",
            "_view_count": null,
            "_view_module": "@jupyter-widgets/base",
            "_view_module_version": "1.2.0",
            "_view_name": "LayoutView",
            "align_content": null,
            "align_items": null,
            "align_self": null,
            "border": null,
            "bottom": null,
            "display": "inline-flex",
            "flex": null,
            "flex_flow": "row wrap",
            "grid_area": null,
            "grid_auto_columns": null,
            "grid_auto_flow": null,
            "grid_auto_rows": null,
            "grid_column": null,
            "grid_gap": null,
            "grid_row": null,
            "grid_template_areas": null,
            "grid_template_columns": null,
            "grid_template_rows": null,
            "height": null,
            "justify_content": null,
            "justify_items": null,
            "left": null,
            "margin": null,
            "max_height": null,
            "max_width": null,
            "min_height": null,
            "min_width": null,
            "object_fit": null,
            "object_position": null,
            "order": null,
            "overflow": null,
            "overflow_x": null,
            "overflow_y": null,
            "padding": null,
            "right": null,
            "top": null,
            "visibility": null,
            "width": "100%"
          }
        },
        "3c019e6079f94a15a0fe07928850b5d3": {
          "model_module": "@jupyter-widgets/base",
          "model_name": "LayoutModel",
          "model_module_version": "1.2.0",
          "state": {
            "_model_module": "@jupyter-widgets/base",
            "_model_module_version": "1.2.0",
            "_model_name": "LayoutModel",
            "_view_count": null,
            "_view_module": "@jupyter-widgets/base",
            "_view_module_version": "1.2.0",
            "_view_name": "LayoutView",
            "align_content": null,
            "align_items": null,
            "align_self": null,
            "border": null,
            "bottom": null,
            "display": null,
            "flex": null,
            "flex_flow": null,
            "grid_area": null,
            "grid_auto_columns": null,
            "grid_auto_flow": null,
            "grid_auto_rows": null,
            "grid_column": null,
            "grid_gap": null,
            "grid_row": null,
            "grid_template_areas": null,
            "grid_template_columns": null,
            "grid_template_rows": null,
            "height": null,
            "justify_content": null,
            "justify_items": null,
            "left": null,
            "margin": null,
            "max_height": null,
            "max_width": null,
            "min_height": null,
            "min_width": null,
            "object_fit": null,
            "object_position": null,
            "order": null,
            "overflow": null,
            "overflow_x": null,
            "overflow_y": null,
            "padding": null,
            "right": null,
            "top": null,
            "visibility": null,
            "width": null
          }
        },
        "aec9c7f0c95040a1b072c4cf71f1fbdf": {
          "model_module": "@jupyter-widgets/controls",
          "model_name": "DescriptionStyleModel",
          "model_module_version": "1.5.0",
          "state": {
            "_model_module": "@jupyter-widgets/controls",
            "_model_module_version": "1.5.0",
            "_model_name": "DescriptionStyleModel",
            "_view_count": null,
            "_view_module": "@jupyter-widgets/base",
            "_view_module_version": "1.2.0",
            "_view_name": "StyleView",
            "description_width": ""
          }
        },
        "cc212d3fda5c4221a693b4dbaf94493c": {
          "model_module": "@jupyter-widgets/base",
          "model_name": "LayoutModel",
          "model_module_version": "1.2.0",
          "state": {
            "_model_module": "@jupyter-widgets/base",
            "_model_module_version": "1.2.0",
            "_model_name": "LayoutModel",
            "_view_count": null,
            "_view_module": "@jupyter-widgets/base",
            "_view_module_version": "1.2.0",
            "_view_name": "LayoutView",
            "align_content": null,
            "align_items": null,
            "align_self": null,
            "border": null,
            "bottom": null,
            "display": null,
            "flex": "2",
            "flex_flow": null,
            "grid_area": null,
            "grid_auto_columns": null,
            "grid_auto_flow": null,
            "grid_auto_rows": null,
            "grid_column": null,
            "grid_gap": null,
            "grid_row": null,
            "grid_template_areas": null,
            "grid_template_columns": null,
            "grid_template_rows": null,
            "height": null,
            "justify_content": null,
            "justify_items": null,
            "left": null,
            "margin": null,
            "max_height": null,
            "max_width": null,
            "min_height": null,
            "min_width": null,
            "object_fit": null,
            "object_position": null,
            "order": null,
            "overflow": null,
            "overflow_x": null,
            "overflow_y": null,
            "padding": null,
            "right": null,
            "top": null,
            "visibility": null,
            "width": null
          }
        },
        "104118c1bacb4aada1dd62be40034039": {
          "model_module": "@jupyter-widgets/controls",
          "model_name": "ProgressStyleModel",
          "model_module_version": "1.5.0",
          "state": {
            "_model_module": "@jupyter-widgets/controls",
            "_model_module_version": "1.5.0",
            "_model_name": "ProgressStyleModel",
            "_view_count": null,
            "_view_module": "@jupyter-widgets/base",
            "_view_module_version": "1.2.0",
            "_view_name": "StyleView",
            "bar_color": null,
            "description_width": ""
          }
        },
        "fd94485e13a64c9685e1d9078ae247d2": {
          "model_module": "@jupyter-widgets/base",
          "model_name": "LayoutModel",
          "model_module_version": "1.2.0",
          "state": {
            "_model_module": "@jupyter-widgets/base",
            "_model_module_version": "1.2.0",
            "_model_name": "LayoutModel",
            "_view_count": null,
            "_view_module": "@jupyter-widgets/base",
            "_view_module_version": "1.2.0",
            "_view_name": "LayoutView",
            "align_content": null,
            "align_items": null,
            "align_self": null,
            "border": null,
            "bottom": null,
            "display": null,
            "flex": null,
            "flex_flow": null,
            "grid_area": null,
            "grid_auto_columns": null,
            "grid_auto_flow": null,
            "grid_auto_rows": null,
            "grid_column": null,
            "grid_gap": null,
            "grid_row": null,
            "grid_template_areas": null,
            "grid_template_columns": null,
            "grid_template_rows": null,
            "height": null,
            "justify_content": null,
            "justify_items": null,
            "left": null,
            "margin": null,
            "max_height": null,
            "max_width": null,
            "min_height": null,
            "min_width": null,
            "object_fit": null,
            "object_position": null,
            "order": null,
            "overflow": null,
            "overflow_x": null,
            "overflow_y": null,
            "padding": null,
            "right": null,
            "top": null,
            "visibility": null,
            "width": null
          }
        },
        "bc408c537e124a208fc307cba975d37c": {
          "model_module": "@jupyter-widgets/controls",
          "model_name": "DescriptionStyleModel",
          "model_module_version": "1.5.0",
          "state": {
            "_model_module": "@jupyter-widgets/controls",
            "_model_module_version": "1.5.0",
            "_model_name": "DescriptionStyleModel",
            "_view_count": null,
            "_view_module": "@jupyter-widgets/base",
            "_view_module_version": "1.2.0",
            "_view_name": "StyleView",
            "description_width": ""
          }
        },
        "2c1f0273db5c419c93002ddba1d96831": {
          "model_module": "@jupyter-widgets/controls",
          "model_name": "HBoxModel",
          "model_module_version": "1.5.0",
          "state": {
            "_dom_classes": [],
            "_model_module": "@jupyter-widgets/controls",
            "_model_module_version": "1.5.0",
            "_model_name": "HBoxModel",
            "_view_count": null,
            "_view_module": "@jupyter-widgets/controls",
            "_view_module_version": "1.5.0",
            "_view_name": "HBoxView",
            "box_style": "",
            "children": [
              "IPY_MODEL_52199723483d4c2dbaa726a20616ef50",
              "IPY_MODEL_b06ee03237bb455fa0e9dc0b622e480f",
              "IPY_MODEL_f08edd1891ac4747af45aee3fa19cb70"
            ],
            "layout": "IPY_MODEL_5a6746a96c814d4cbb2cffc417cd3128"
          }
        },
        "52199723483d4c2dbaa726a20616ef50": {
          "model_module": "@jupyter-widgets/controls",
          "model_name": "HTMLModel",
          "model_module_version": "1.5.0",
          "state": {
            "_dom_classes": [],
            "_model_module": "@jupyter-widgets/controls",
            "_model_module_version": "1.5.0",
            "_model_name": "HTMLModel",
            "_view_count": null,
            "_view_module": "@jupyter-widgets/controls",
            "_view_module_version": "1.5.0",
            "_view_name": "HTMLView",
            "description": "",
            "description_tooltip": null,
            "layout": "IPY_MODEL_1d7c62788be7479d9622901cdaa54588",
            "placeholder": "​",
            "style": "IPY_MODEL_34c7c9bfa55f4b909ecc7f99ac744703",
            "value": "100%"
          }
        },
        "b06ee03237bb455fa0e9dc0b622e480f": {
          "model_module": "@jupyter-widgets/controls",
          "model_name": "FloatProgressModel",
          "model_module_version": "1.5.0",
          "state": {
            "_dom_classes": [],
            "_model_module": "@jupyter-widgets/controls",
            "_model_module_version": "1.5.0",
            "_model_name": "FloatProgressModel",
            "_view_count": null,
            "_view_module": "@jupyter-widgets/controls",
            "_view_module_version": "1.5.0",
            "_view_name": "ProgressView",
            "bar_style": "success",
            "description": "",
            "description_tooltip": null,
            "layout": "IPY_MODEL_cb6261a596e24f83874e285f5491ddf0",
            "max": 170498071,
            "min": 0,
            "orientation": "horizontal",
            "style": "IPY_MODEL_adbdf7a810b3447d8e7e5ebe75de9803",
            "value": 170498071
          }
        },
        "f08edd1891ac4747af45aee3fa19cb70": {
          "model_module": "@jupyter-widgets/controls",
          "model_name": "HTMLModel",
          "model_module_version": "1.5.0",
          "state": {
            "_dom_classes": [],
            "_model_module": "@jupyter-widgets/controls",
            "_model_module_version": "1.5.0",
            "_model_name": "HTMLModel",
            "_view_count": null,
            "_view_module": "@jupyter-widgets/controls",
            "_view_module_version": "1.5.0",
            "_view_name": "HTMLView",
            "description": "",
            "description_tooltip": null,
            "layout": "IPY_MODEL_e4f2325e3f554b9e9acd9d9e65740756",
            "placeholder": "​",
            "style": "IPY_MODEL_40048d1949414b5984e1137eddcf53ee",
            "value": " 170498071/170498071 [00:02&lt;00:00, 79876887.55it/s]"
          }
        },
        "5a6746a96c814d4cbb2cffc417cd3128": {
          "model_module": "@jupyter-widgets/base",
          "model_name": "LayoutModel",
          "model_module_version": "1.2.0",
          "state": {
            "_model_module": "@jupyter-widgets/base",
            "_model_module_version": "1.2.0",
            "_model_name": "LayoutModel",
            "_view_count": null,
            "_view_module": "@jupyter-widgets/base",
            "_view_module_version": "1.2.0",
            "_view_name": "LayoutView",
            "align_content": null,
            "align_items": null,
            "align_self": null,
            "border": null,
            "bottom": null,
            "display": null,
            "flex": null,
            "flex_flow": null,
            "grid_area": null,
            "grid_auto_columns": null,
            "grid_auto_flow": null,
            "grid_auto_rows": null,
            "grid_column": null,
            "grid_gap": null,
            "grid_row": null,
            "grid_template_areas": null,
            "grid_template_columns": null,
            "grid_template_rows": null,
            "height": null,
            "justify_content": null,
            "justify_items": null,
            "left": null,
            "margin": null,
            "max_height": null,
            "max_width": null,
            "min_height": null,
            "min_width": null,
            "object_fit": null,
            "object_position": null,
            "order": null,
            "overflow": null,
            "overflow_x": null,
            "overflow_y": null,
            "padding": null,
            "right": null,
            "top": null,
            "visibility": null,
            "width": null
          }
        },
        "1d7c62788be7479d9622901cdaa54588": {
          "model_module": "@jupyter-widgets/base",
          "model_name": "LayoutModel",
          "model_module_version": "1.2.0",
          "state": {
            "_model_module": "@jupyter-widgets/base",
            "_model_module_version": "1.2.0",
            "_model_name": "LayoutModel",
            "_view_count": null,
            "_view_module": "@jupyter-widgets/base",
            "_view_module_version": "1.2.0",
            "_view_name": "LayoutView",
            "align_content": null,
            "align_items": null,
            "align_self": null,
            "border": null,
            "bottom": null,
            "display": null,
            "flex": null,
            "flex_flow": null,
            "grid_area": null,
            "grid_auto_columns": null,
            "grid_auto_flow": null,
            "grid_auto_rows": null,
            "grid_column": null,
            "grid_gap": null,
            "grid_row": null,
            "grid_template_areas": null,
            "grid_template_columns": null,
            "grid_template_rows": null,
            "height": null,
            "justify_content": null,
            "justify_items": null,
            "left": null,
            "margin": null,
            "max_height": null,
            "max_width": null,
            "min_height": null,
            "min_width": null,
            "object_fit": null,
            "object_position": null,
            "order": null,
            "overflow": null,
            "overflow_x": null,
            "overflow_y": null,
            "padding": null,
            "right": null,
            "top": null,
            "visibility": null,
            "width": null
          }
        },
        "34c7c9bfa55f4b909ecc7f99ac744703": {
          "model_module": "@jupyter-widgets/controls",
          "model_name": "DescriptionStyleModel",
          "model_module_version": "1.5.0",
          "state": {
            "_model_module": "@jupyter-widgets/controls",
            "_model_module_version": "1.5.0",
            "_model_name": "DescriptionStyleModel",
            "_view_count": null,
            "_view_module": "@jupyter-widgets/base",
            "_view_module_version": "1.2.0",
            "_view_name": "StyleView",
            "description_width": ""
          }
        },
        "cb6261a596e24f83874e285f5491ddf0": {
          "model_module": "@jupyter-widgets/base",
          "model_name": "LayoutModel",
          "model_module_version": "1.2.0",
          "state": {
            "_model_module": "@jupyter-widgets/base",
            "_model_module_version": "1.2.0",
            "_model_name": "LayoutModel",
            "_view_count": null,
            "_view_module": "@jupyter-widgets/base",
            "_view_module_version": "1.2.0",
            "_view_name": "LayoutView",
            "align_content": null,
            "align_items": null,
            "align_self": null,
            "border": null,
            "bottom": null,
            "display": null,
            "flex": null,
            "flex_flow": null,
            "grid_area": null,
            "grid_auto_columns": null,
            "grid_auto_flow": null,
            "grid_auto_rows": null,
            "grid_column": null,
            "grid_gap": null,
            "grid_row": null,
            "grid_template_areas": null,
            "grid_template_columns": null,
            "grid_template_rows": null,
            "height": null,
            "justify_content": null,
            "justify_items": null,
            "left": null,
            "margin": null,
            "max_height": null,
            "max_width": null,
            "min_height": null,
            "min_width": null,
            "object_fit": null,
            "object_position": null,
            "order": null,
            "overflow": null,
            "overflow_x": null,
            "overflow_y": null,
            "padding": null,
            "right": null,
            "top": null,
            "visibility": null,
            "width": null
          }
        },
        "adbdf7a810b3447d8e7e5ebe75de9803": {
          "model_module": "@jupyter-widgets/controls",
          "model_name": "ProgressStyleModel",
          "model_module_version": "1.5.0",
          "state": {
            "_model_module": "@jupyter-widgets/controls",
            "_model_module_version": "1.5.0",
            "_model_name": "ProgressStyleModel",
            "_view_count": null,
            "_view_module": "@jupyter-widgets/base",
            "_view_module_version": "1.2.0",
            "_view_name": "StyleView",
            "bar_color": null,
            "description_width": ""
          }
        },
        "e4f2325e3f554b9e9acd9d9e65740756": {
          "model_module": "@jupyter-widgets/base",
          "model_name": "LayoutModel",
          "model_module_version": "1.2.0",
          "state": {
            "_model_module": "@jupyter-widgets/base",
            "_model_module_version": "1.2.0",
            "_model_name": "LayoutModel",
            "_view_count": null,
            "_view_module": "@jupyter-widgets/base",
            "_view_module_version": "1.2.0",
            "_view_name": "LayoutView",
            "align_content": null,
            "align_items": null,
            "align_self": null,
            "border": null,
            "bottom": null,
            "display": null,
            "flex": null,
            "flex_flow": null,
            "grid_area": null,
            "grid_auto_columns": null,
            "grid_auto_flow": null,
            "grid_auto_rows": null,
            "grid_column": null,
            "grid_gap": null,
            "grid_row": null,
            "grid_template_areas": null,
            "grid_template_columns": null,
            "grid_template_rows": null,
            "height": null,
            "justify_content": null,
            "justify_items": null,
            "left": null,
            "margin": null,
            "max_height": null,
            "max_width": null,
            "min_height": null,
            "min_width": null,
            "object_fit": null,
            "object_position": null,
            "order": null,
            "overflow": null,
            "overflow_x": null,
            "overflow_y": null,
            "padding": null,
            "right": null,
            "top": null,
            "visibility": null,
            "width": null
          }
        },
        "40048d1949414b5984e1137eddcf53ee": {
          "model_module": "@jupyter-widgets/controls",
          "model_name": "DescriptionStyleModel",
          "model_module_version": "1.5.0",
          "state": {
            "_model_module": "@jupyter-widgets/controls",
            "_model_module_version": "1.5.0",
            "_model_name": "DescriptionStyleModel",
            "_view_count": null,
            "_view_module": "@jupyter-widgets/base",
            "_view_module_version": "1.2.0",
            "_view_name": "StyleView",
            "description_width": ""
          }
        },
        "41a285ffcc424becbe1716ba332cda1c": {
          "model_module": "@jupyter-widgets/controls",
          "model_name": "HBoxModel",
          "model_module_version": "1.5.0",
          "state": {
            "_dom_classes": [],
            "_model_module": "@jupyter-widgets/controls",
            "_model_module_version": "1.5.0",
            "_model_name": "HBoxModel",
            "_view_count": null,
            "_view_module": "@jupyter-widgets/controls",
            "_view_module_version": "1.5.0",
            "_view_name": "HBoxView",
            "box_style": "",
            "children": [
              "IPY_MODEL_d9a8455fc7564e28a6bef7f8841043e5",
              "IPY_MODEL_28b15094f1ac4736890c067ffd8c16f7",
              "IPY_MODEL_a70e98d0dcb846a4b370ad09ba95c9c4"
            ],
            "layout": "IPY_MODEL_9973829d55b644d297265249cb2a8cb9"
          }
        },
        "d9a8455fc7564e28a6bef7f8841043e5": {
          "model_module": "@jupyter-widgets/controls",
          "model_name": "HTMLModel",
          "model_module_version": "1.5.0",
          "state": {
            "_dom_classes": [],
            "_model_module": "@jupyter-widgets/controls",
            "_model_module_version": "1.5.0",
            "_model_name": "HTMLModel",
            "_view_count": null,
            "_view_module": "@jupyter-widgets/controls",
            "_view_module_version": "1.5.0",
            "_view_name": "HTMLView",
            "description": "",
            "description_tooltip": null,
            "layout": "IPY_MODEL_05b1c88e4f60411180b1a0a8d5e477e5",
            "placeholder": "​",
            "style": "IPY_MODEL_ef5215e59a6348b999c605a5e387c36d",
            "value": "Epoch 14: 100%"
          }
        },
        "28b15094f1ac4736890c067ffd8c16f7": {
          "model_module": "@jupyter-widgets/controls",
          "model_name": "FloatProgressModel",
          "model_module_version": "1.5.0",
          "state": {
            "_dom_classes": [],
            "_model_module": "@jupyter-widgets/controls",
            "_model_module_version": "1.5.0",
            "_model_name": "FloatProgressModel",
            "_view_count": null,
            "_view_module": "@jupyter-widgets/controls",
            "_view_module_version": "1.5.0",
            "_view_name": "ProgressView",
            "bar_style": "success",
            "description": "",
            "description_tooltip": null,
            "layout": "IPY_MODEL_6a5d8d48f5c943bca9eb879798570f21",
            "max": 50,
            "min": 0,
            "orientation": "horizontal",
            "style": "IPY_MODEL_15d2b1b3b36140c7b7a4ce38288e8aa8",
            "value": 50
          }
        },
        "a70e98d0dcb846a4b370ad09ba95c9c4": {
          "model_module": "@jupyter-widgets/controls",
          "model_name": "HTMLModel",
          "model_module_version": "1.5.0",
          "state": {
            "_dom_classes": [],
            "_model_module": "@jupyter-widgets/controls",
            "_model_module_version": "1.5.0",
            "_model_name": "HTMLModel",
            "_view_count": null,
            "_view_module": "@jupyter-widgets/controls",
            "_view_module_version": "1.5.0",
            "_view_name": "HTMLView",
            "description": "",
            "description_tooltip": null,
            "layout": "IPY_MODEL_ccbe6168a4b548819f82bc9001254c3a",
            "placeholder": "​",
            "style": "IPY_MODEL_345ca3c7f89c46a5805fbf6163018acf",
            "value": " 50/50 [00:06&lt;00:00,  8.30it/s, loss=0.726, v_num=1]"
          }
        },
        "9973829d55b644d297265249cb2a8cb9": {
          "model_module": "@jupyter-widgets/base",
          "model_name": "LayoutModel",
          "model_module_version": "1.2.0",
          "state": {
            "_model_module": "@jupyter-widgets/base",
            "_model_module_version": "1.2.0",
            "_model_name": "LayoutModel",
            "_view_count": null,
            "_view_module": "@jupyter-widgets/base",
            "_view_module_version": "1.2.0",
            "_view_name": "LayoutView",
            "align_content": null,
            "align_items": null,
            "align_self": null,
            "border": null,
            "bottom": null,
            "display": "inline-flex",
            "flex": null,
            "flex_flow": "row wrap",
            "grid_area": null,
            "grid_auto_columns": null,
            "grid_auto_flow": null,
            "grid_auto_rows": null,
            "grid_column": null,
            "grid_gap": null,
            "grid_row": null,
            "grid_template_areas": null,
            "grid_template_columns": null,
            "grid_template_rows": null,
            "height": null,
            "justify_content": null,
            "justify_items": null,
            "left": null,
            "margin": null,
            "max_height": null,
            "max_width": null,
            "min_height": null,
            "min_width": null,
            "object_fit": null,
            "object_position": null,
            "order": null,
            "overflow": null,
            "overflow_x": null,
            "overflow_y": null,
            "padding": null,
            "right": null,
            "top": null,
            "visibility": null,
            "width": "100%"
          }
        },
        "05b1c88e4f60411180b1a0a8d5e477e5": {
          "model_module": "@jupyter-widgets/base",
          "model_name": "LayoutModel",
          "model_module_version": "1.2.0",
          "state": {
            "_model_module": "@jupyter-widgets/base",
            "_model_module_version": "1.2.0",
            "_model_name": "LayoutModel",
            "_view_count": null,
            "_view_module": "@jupyter-widgets/base",
            "_view_module_version": "1.2.0",
            "_view_name": "LayoutView",
            "align_content": null,
            "align_items": null,
            "align_self": null,
            "border": null,
            "bottom": null,
            "display": null,
            "flex": null,
            "flex_flow": null,
            "grid_area": null,
            "grid_auto_columns": null,
            "grid_auto_flow": null,
            "grid_auto_rows": null,
            "grid_column": null,
            "grid_gap": null,
            "grid_row": null,
            "grid_template_areas": null,
            "grid_template_columns": null,
            "grid_template_rows": null,
            "height": null,
            "justify_content": null,
            "justify_items": null,
            "left": null,
            "margin": null,
            "max_height": null,
            "max_width": null,
            "min_height": null,
            "min_width": null,
            "object_fit": null,
            "object_position": null,
            "order": null,
            "overflow": null,
            "overflow_x": null,
            "overflow_y": null,
            "padding": null,
            "right": null,
            "top": null,
            "visibility": null,
            "width": null
          }
        },
        "ef5215e59a6348b999c605a5e387c36d": {
          "model_module": "@jupyter-widgets/controls",
          "model_name": "DescriptionStyleModel",
          "model_module_version": "1.5.0",
          "state": {
            "_model_module": "@jupyter-widgets/controls",
            "_model_module_version": "1.5.0",
            "_model_name": "DescriptionStyleModel",
            "_view_count": null,
            "_view_module": "@jupyter-widgets/base",
            "_view_module_version": "1.2.0",
            "_view_name": "StyleView",
            "description_width": ""
          }
        },
        "6a5d8d48f5c943bca9eb879798570f21": {
          "model_module": "@jupyter-widgets/base",
          "model_name": "LayoutModel",
          "model_module_version": "1.2.0",
          "state": {
            "_model_module": "@jupyter-widgets/base",
            "_model_module_version": "1.2.0",
            "_model_name": "LayoutModel",
            "_view_count": null,
            "_view_module": "@jupyter-widgets/base",
            "_view_module_version": "1.2.0",
            "_view_name": "LayoutView",
            "align_content": null,
            "align_items": null,
            "align_self": null,
            "border": null,
            "bottom": null,
            "display": null,
            "flex": "2",
            "flex_flow": null,
            "grid_area": null,
            "grid_auto_columns": null,
            "grid_auto_flow": null,
            "grid_auto_rows": null,
            "grid_column": null,
            "grid_gap": null,
            "grid_row": null,
            "grid_template_areas": null,
            "grid_template_columns": null,
            "grid_template_rows": null,
            "height": null,
            "justify_content": null,
            "justify_items": null,
            "left": null,
            "margin": null,
            "max_height": null,
            "max_width": null,
            "min_height": null,
            "min_width": null,
            "object_fit": null,
            "object_position": null,
            "order": null,
            "overflow": null,
            "overflow_x": null,
            "overflow_y": null,
            "padding": null,
            "right": null,
            "top": null,
            "visibility": null,
            "width": null
          }
        },
        "15d2b1b3b36140c7b7a4ce38288e8aa8": {
          "model_module": "@jupyter-widgets/controls",
          "model_name": "ProgressStyleModel",
          "model_module_version": "1.5.0",
          "state": {
            "_model_module": "@jupyter-widgets/controls",
            "_model_module_version": "1.5.0",
            "_model_name": "ProgressStyleModel",
            "_view_count": null,
            "_view_module": "@jupyter-widgets/base",
            "_view_module_version": "1.2.0",
            "_view_name": "StyleView",
            "bar_color": null,
            "description_width": ""
          }
        },
        "ccbe6168a4b548819f82bc9001254c3a": {
          "model_module": "@jupyter-widgets/base",
          "model_name": "LayoutModel",
          "model_module_version": "1.2.0",
          "state": {
            "_model_module": "@jupyter-widgets/base",
            "_model_module_version": "1.2.0",
            "_model_name": "LayoutModel",
            "_view_count": null,
            "_view_module": "@jupyter-widgets/base",
            "_view_module_version": "1.2.0",
            "_view_name": "LayoutView",
            "align_content": null,
            "align_items": null,
            "align_self": null,
            "border": null,
            "bottom": null,
            "display": null,
            "flex": null,
            "flex_flow": null,
            "grid_area": null,
            "grid_auto_columns": null,
            "grid_auto_flow": null,
            "grid_auto_rows": null,
            "grid_column": null,
            "grid_gap": null,
            "grid_row": null,
            "grid_template_areas": null,
            "grid_template_columns": null,
            "grid_template_rows": null,
            "height": null,
            "justify_content": null,
            "justify_items": null,
            "left": null,
            "margin": null,
            "max_height": null,
            "max_width": null,
            "min_height": null,
            "min_width": null,
            "object_fit": null,
            "object_position": null,
            "order": null,
            "overflow": null,
            "overflow_x": null,
            "overflow_y": null,
            "padding": null,
            "right": null,
            "top": null,
            "visibility": null,
            "width": null
          }
        },
        "345ca3c7f89c46a5805fbf6163018acf": {
          "model_module": "@jupyter-widgets/controls",
          "model_name": "DescriptionStyleModel",
          "model_module_version": "1.5.0",
          "state": {
            "_model_module": "@jupyter-widgets/controls",
            "_model_module_version": "1.5.0",
            "_model_name": "DescriptionStyleModel",
            "_view_count": null,
            "_view_module": "@jupyter-widgets/base",
            "_view_module_version": "1.2.0",
            "_view_name": "StyleView",
            "description_width": ""
          }
        },
        "4185bdca55b349f9b1eced1605f3c454": {
          "model_module": "@jupyter-widgets/controls",
          "model_name": "HBoxModel",
          "model_module_version": "1.5.0",
          "state": {
            "_dom_classes": [],
            "_model_module": "@jupyter-widgets/controls",
            "_model_module_version": "1.5.0",
            "_model_name": "HBoxModel",
            "_view_count": null,
            "_view_module": "@jupyter-widgets/controls",
            "_view_module_version": "1.5.0",
            "_view_name": "HBoxView",
            "box_style": "",
            "children": [
              "IPY_MODEL_40b1fa113b424ec59fea5f36dad688ee",
              "IPY_MODEL_22934aad0f3f470db88b5a01e40e3978",
              "IPY_MODEL_7380dda7928044c691204e124e5c36cd"
            ],
            "layout": "IPY_MODEL_2ef4ab39a75a47fba1c0ae55f2c2b9b3"
          }
        },
        "40b1fa113b424ec59fea5f36dad688ee": {
          "model_module": "@jupyter-widgets/controls",
          "model_name": "HTMLModel",
          "model_module_version": "1.5.0",
          "state": {
            "_dom_classes": [],
            "_model_module": "@jupyter-widgets/controls",
            "_model_module_version": "1.5.0",
            "_model_name": "HTMLModel",
            "_view_count": null,
            "_view_module": "@jupyter-widgets/controls",
            "_view_module_version": "1.5.0",
            "_view_name": "HTMLView",
            "description": "",
            "description_tooltip": null,
            "layout": "IPY_MODEL_86948ec007d24cddb2b74e2c2f53fdd3",
            "placeholder": "​",
            "style": "IPY_MODEL_26535bb565b74f30939d874ddf7d50f7",
            "value": "Epoch 14: 100%"
          }
        },
        "22934aad0f3f470db88b5a01e40e3978": {
          "model_module": "@jupyter-widgets/controls",
          "model_name": "FloatProgressModel",
          "model_module_version": "1.5.0",
          "state": {
            "_dom_classes": [],
            "_model_module": "@jupyter-widgets/controls",
            "_model_module_version": "1.5.0",
            "_model_name": "FloatProgressModel",
            "_view_count": null,
            "_view_module": "@jupyter-widgets/controls",
            "_view_module_version": "1.5.0",
            "_view_name": "ProgressView",
            "bar_style": "success",
            "description": "",
            "description_tooltip": null,
            "layout": "IPY_MODEL_0e716d8e3ecf41bb93b878380505440c",
            "max": 50,
            "min": 0,
            "orientation": "horizontal",
            "style": "IPY_MODEL_6e1f8ad13a6043bab487304656a7e951",
            "value": 50
          }
        },
        "7380dda7928044c691204e124e5c36cd": {
          "model_module": "@jupyter-widgets/controls",
          "model_name": "HTMLModel",
          "model_module_version": "1.5.0",
          "state": {
            "_dom_classes": [],
            "_model_module": "@jupyter-widgets/controls",
            "_model_module_version": "1.5.0",
            "_model_name": "HTMLModel",
            "_view_count": null,
            "_view_module": "@jupyter-widgets/controls",
            "_view_module_version": "1.5.0",
            "_view_name": "HTMLView",
            "description": "",
            "description_tooltip": null,
            "layout": "IPY_MODEL_e52e1a79c34e4fcf839f7142a9b3fd67",
            "placeholder": "​",
            "style": "IPY_MODEL_448f52b7c6914b10ad5892e2b19f42be",
            "value": " 50/50 [00:05&lt;00:00,  8.50it/s, loss=0.717, v_num=2]"
          }
        },
        "2ef4ab39a75a47fba1c0ae55f2c2b9b3": {
          "model_module": "@jupyter-widgets/base",
          "model_name": "LayoutModel",
          "model_module_version": "1.2.0",
          "state": {
            "_model_module": "@jupyter-widgets/base",
            "_model_module_version": "1.2.0",
            "_model_name": "LayoutModel",
            "_view_count": null,
            "_view_module": "@jupyter-widgets/base",
            "_view_module_version": "1.2.0",
            "_view_name": "LayoutView",
            "align_content": null,
            "align_items": null,
            "align_self": null,
            "border": null,
            "bottom": null,
            "display": "inline-flex",
            "flex": null,
            "flex_flow": "row wrap",
            "grid_area": null,
            "grid_auto_columns": null,
            "grid_auto_flow": null,
            "grid_auto_rows": null,
            "grid_column": null,
            "grid_gap": null,
            "grid_row": null,
            "grid_template_areas": null,
            "grid_template_columns": null,
            "grid_template_rows": null,
            "height": null,
            "justify_content": null,
            "justify_items": null,
            "left": null,
            "margin": null,
            "max_height": null,
            "max_width": null,
            "min_height": null,
            "min_width": null,
            "object_fit": null,
            "object_position": null,
            "order": null,
            "overflow": null,
            "overflow_x": null,
            "overflow_y": null,
            "padding": null,
            "right": null,
            "top": null,
            "visibility": null,
            "width": "100%"
          }
        },
        "86948ec007d24cddb2b74e2c2f53fdd3": {
          "model_module": "@jupyter-widgets/base",
          "model_name": "LayoutModel",
          "model_module_version": "1.2.0",
          "state": {
            "_model_module": "@jupyter-widgets/base",
            "_model_module_version": "1.2.0",
            "_model_name": "LayoutModel",
            "_view_count": null,
            "_view_module": "@jupyter-widgets/base",
            "_view_module_version": "1.2.0",
            "_view_name": "LayoutView",
            "align_content": null,
            "align_items": null,
            "align_self": null,
            "border": null,
            "bottom": null,
            "display": null,
            "flex": null,
            "flex_flow": null,
            "grid_area": null,
            "grid_auto_columns": null,
            "grid_auto_flow": null,
            "grid_auto_rows": null,
            "grid_column": null,
            "grid_gap": null,
            "grid_row": null,
            "grid_template_areas": null,
            "grid_template_columns": null,
            "grid_template_rows": null,
            "height": null,
            "justify_content": null,
            "justify_items": null,
            "left": null,
            "margin": null,
            "max_height": null,
            "max_width": null,
            "min_height": null,
            "min_width": null,
            "object_fit": null,
            "object_position": null,
            "order": null,
            "overflow": null,
            "overflow_x": null,
            "overflow_y": null,
            "padding": null,
            "right": null,
            "top": null,
            "visibility": null,
            "width": null
          }
        },
        "26535bb565b74f30939d874ddf7d50f7": {
          "model_module": "@jupyter-widgets/controls",
          "model_name": "DescriptionStyleModel",
          "model_module_version": "1.5.0",
          "state": {
            "_model_module": "@jupyter-widgets/controls",
            "_model_module_version": "1.5.0",
            "_model_name": "DescriptionStyleModel",
            "_view_count": null,
            "_view_module": "@jupyter-widgets/base",
            "_view_module_version": "1.2.0",
            "_view_name": "StyleView",
            "description_width": ""
          }
        },
        "0e716d8e3ecf41bb93b878380505440c": {
          "model_module": "@jupyter-widgets/base",
          "model_name": "LayoutModel",
          "model_module_version": "1.2.0",
          "state": {
            "_model_module": "@jupyter-widgets/base",
            "_model_module_version": "1.2.0",
            "_model_name": "LayoutModel",
            "_view_count": null,
            "_view_module": "@jupyter-widgets/base",
            "_view_module_version": "1.2.0",
            "_view_name": "LayoutView",
            "align_content": null,
            "align_items": null,
            "align_self": null,
            "border": null,
            "bottom": null,
            "display": null,
            "flex": "2",
            "flex_flow": null,
            "grid_area": null,
            "grid_auto_columns": null,
            "grid_auto_flow": null,
            "grid_auto_rows": null,
            "grid_column": null,
            "grid_gap": null,
            "grid_row": null,
            "grid_template_areas": null,
            "grid_template_columns": null,
            "grid_template_rows": null,
            "height": null,
            "justify_content": null,
            "justify_items": null,
            "left": null,
            "margin": null,
            "max_height": null,
            "max_width": null,
            "min_height": null,
            "min_width": null,
            "object_fit": null,
            "object_position": null,
            "order": null,
            "overflow": null,
            "overflow_x": null,
            "overflow_y": null,
            "padding": null,
            "right": null,
            "top": null,
            "visibility": null,
            "width": null
          }
        },
        "6e1f8ad13a6043bab487304656a7e951": {
          "model_module": "@jupyter-widgets/controls",
          "model_name": "ProgressStyleModel",
          "model_module_version": "1.5.0",
          "state": {
            "_model_module": "@jupyter-widgets/controls",
            "_model_module_version": "1.5.0",
            "_model_name": "ProgressStyleModel",
            "_view_count": null,
            "_view_module": "@jupyter-widgets/base",
            "_view_module_version": "1.2.0",
            "_view_name": "StyleView",
            "bar_color": null,
            "description_width": ""
          }
        },
        "e52e1a79c34e4fcf839f7142a9b3fd67": {
          "model_module": "@jupyter-widgets/base",
          "model_name": "LayoutModel",
          "model_module_version": "1.2.0",
          "state": {
            "_model_module": "@jupyter-widgets/base",
            "_model_module_version": "1.2.0",
            "_model_name": "LayoutModel",
            "_view_count": null,
            "_view_module": "@jupyter-widgets/base",
            "_view_module_version": "1.2.0",
            "_view_name": "LayoutView",
            "align_content": null,
            "align_items": null,
            "align_self": null,
            "border": null,
            "bottom": null,
            "display": null,
            "flex": null,
            "flex_flow": null,
            "grid_area": null,
            "grid_auto_columns": null,
            "grid_auto_flow": null,
            "grid_auto_rows": null,
            "grid_column": null,
            "grid_gap": null,
            "grid_row": null,
            "grid_template_areas": null,
            "grid_template_columns": null,
            "grid_template_rows": null,
            "height": null,
            "justify_content": null,
            "justify_items": null,
            "left": null,
            "margin": null,
            "max_height": null,
            "max_width": null,
            "min_height": null,
            "min_width": null,
            "object_fit": null,
            "object_position": null,
            "order": null,
            "overflow": null,
            "overflow_x": null,
            "overflow_y": null,
            "padding": null,
            "right": null,
            "top": null,
            "visibility": null,
            "width": null
          }
        },
        "448f52b7c6914b10ad5892e2b19f42be": {
          "model_module": "@jupyter-widgets/controls",
          "model_name": "DescriptionStyleModel",
          "model_module_version": "1.5.0",
          "state": {
            "_model_module": "@jupyter-widgets/controls",
            "_model_module_version": "1.5.0",
            "_model_name": "DescriptionStyleModel",
            "_view_count": null,
            "_view_module": "@jupyter-widgets/base",
            "_view_module_version": "1.2.0",
            "_view_name": "StyleView",
            "description_width": ""
          }
        },
        "b188b537982c4fe28b25da4fe3e82c7d": {
          "model_module": "@jupyter-widgets/controls",
          "model_name": "HBoxModel",
          "model_module_version": "1.5.0",
          "state": {
            "_dom_classes": [],
            "_model_module": "@jupyter-widgets/controls",
            "_model_module_version": "1.5.0",
            "_model_name": "HBoxModel",
            "_view_count": null,
            "_view_module": "@jupyter-widgets/controls",
            "_view_module_version": "1.5.0",
            "_view_name": "HBoxView",
            "box_style": "",
            "children": [
              "IPY_MODEL_1a51caebc22e4eb1b4d86731d601b1f8",
              "IPY_MODEL_78f3cbca44bf4af4a4b724e7b3cae5df",
              "IPY_MODEL_9b265f4c3aa047c0ac4c034f2d2b8366"
            ],
            "layout": "IPY_MODEL_5d3ba48dadc94268a4dee553dd40b35d"
          }
        },
        "1a51caebc22e4eb1b4d86731d601b1f8": {
          "model_module": "@jupyter-widgets/controls",
          "model_name": "HTMLModel",
          "model_module_version": "1.5.0",
          "state": {
            "_dom_classes": [],
            "_model_module": "@jupyter-widgets/controls",
            "_model_module_version": "1.5.0",
            "_model_name": "HTMLModel",
            "_view_count": null,
            "_view_module": "@jupyter-widgets/controls",
            "_view_module_version": "1.5.0",
            "_view_name": "HTMLView",
            "description": "",
            "description_tooltip": null,
            "layout": "IPY_MODEL_02982b0c6aac47ea9e5d45b80fb68e52",
            "placeholder": "​",
            "style": "IPY_MODEL_52a773d9220d4d909127ca2d4194c17c",
            "value": "Epoch 14: 100%"
          }
        },
        "78f3cbca44bf4af4a4b724e7b3cae5df": {
          "model_module": "@jupyter-widgets/controls",
          "model_name": "FloatProgressModel",
          "model_module_version": "1.5.0",
          "state": {
            "_dom_classes": [],
            "_model_module": "@jupyter-widgets/controls",
            "_model_module_version": "1.5.0",
            "_model_name": "FloatProgressModel",
            "_view_count": null,
            "_view_module": "@jupyter-widgets/controls",
            "_view_module_version": "1.5.0",
            "_view_name": "ProgressView",
            "bar_style": "success",
            "description": "",
            "description_tooltip": null,
            "layout": "IPY_MODEL_a5330e1376504d5f8ae17bd3edbde2ab",
            "max": 50,
            "min": 0,
            "orientation": "horizontal",
            "style": "IPY_MODEL_eb54aded7dac431b9efc11e4c7fce08d",
            "value": 50
          }
        },
        "9b265f4c3aa047c0ac4c034f2d2b8366": {
          "model_module": "@jupyter-widgets/controls",
          "model_name": "HTMLModel",
          "model_module_version": "1.5.0",
          "state": {
            "_dom_classes": [],
            "_model_module": "@jupyter-widgets/controls",
            "_model_module_version": "1.5.0",
            "_model_name": "HTMLModel",
            "_view_count": null,
            "_view_module": "@jupyter-widgets/controls",
            "_view_module_version": "1.5.0",
            "_view_name": "HTMLView",
            "description": "",
            "description_tooltip": null,
            "layout": "IPY_MODEL_850888c2b36945de968ec9bfd68feeeb",
            "placeholder": "​",
            "style": "IPY_MODEL_11c1a39d7633471084a5cbdc818d8f59",
            "value": " 50/50 [00:06&lt;00:00,  8.20it/s, loss=0.698, v_num=3]"
          }
        },
        "5d3ba48dadc94268a4dee553dd40b35d": {
          "model_module": "@jupyter-widgets/base",
          "model_name": "LayoutModel",
          "model_module_version": "1.2.0",
          "state": {
            "_model_module": "@jupyter-widgets/base",
            "_model_module_version": "1.2.0",
            "_model_name": "LayoutModel",
            "_view_count": null,
            "_view_module": "@jupyter-widgets/base",
            "_view_module_version": "1.2.0",
            "_view_name": "LayoutView",
            "align_content": null,
            "align_items": null,
            "align_self": null,
            "border": null,
            "bottom": null,
            "display": "inline-flex",
            "flex": null,
            "flex_flow": "row wrap",
            "grid_area": null,
            "grid_auto_columns": null,
            "grid_auto_flow": null,
            "grid_auto_rows": null,
            "grid_column": null,
            "grid_gap": null,
            "grid_row": null,
            "grid_template_areas": null,
            "grid_template_columns": null,
            "grid_template_rows": null,
            "height": null,
            "justify_content": null,
            "justify_items": null,
            "left": null,
            "margin": null,
            "max_height": null,
            "max_width": null,
            "min_height": null,
            "min_width": null,
            "object_fit": null,
            "object_position": null,
            "order": null,
            "overflow": null,
            "overflow_x": null,
            "overflow_y": null,
            "padding": null,
            "right": null,
            "top": null,
            "visibility": null,
            "width": "100%"
          }
        },
        "02982b0c6aac47ea9e5d45b80fb68e52": {
          "model_module": "@jupyter-widgets/base",
          "model_name": "LayoutModel",
          "model_module_version": "1.2.0",
          "state": {
            "_model_module": "@jupyter-widgets/base",
            "_model_module_version": "1.2.0",
            "_model_name": "LayoutModel",
            "_view_count": null,
            "_view_module": "@jupyter-widgets/base",
            "_view_module_version": "1.2.0",
            "_view_name": "LayoutView",
            "align_content": null,
            "align_items": null,
            "align_self": null,
            "border": null,
            "bottom": null,
            "display": null,
            "flex": null,
            "flex_flow": null,
            "grid_area": null,
            "grid_auto_columns": null,
            "grid_auto_flow": null,
            "grid_auto_rows": null,
            "grid_column": null,
            "grid_gap": null,
            "grid_row": null,
            "grid_template_areas": null,
            "grid_template_columns": null,
            "grid_template_rows": null,
            "height": null,
            "justify_content": null,
            "justify_items": null,
            "left": null,
            "margin": null,
            "max_height": null,
            "max_width": null,
            "min_height": null,
            "min_width": null,
            "object_fit": null,
            "object_position": null,
            "order": null,
            "overflow": null,
            "overflow_x": null,
            "overflow_y": null,
            "padding": null,
            "right": null,
            "top": null,
            "visibility": null,
            "width": null
          }
        },
        "52a773d9220d4d909127ca2d4194c17c": {
          "model_module": "@jupyter-widgets/controls",
          "model_name": "DescriptionStyleModel",
          "model_module_version": "1.5.0",
          "state": {
            "_model_module": "@jupyter-widgets/controls",
            "_model_module_version": "1.5.0",
            "_model_name": "DescriptionStyleModel",
            "_view_count": null,
            "_view_module": "@jupyter-widgets/base",
            "_view_module_version": "1.2.0",
            "_view_name": "StyleView",
            "description_width": ""
          }
        },
        "a5330e1376504d5f8ae17bd3edbde2ab": {
          "model_module": "@jupyter-widgets/base",
          "model_name": "LayoutModel",
          "model_module_version": "1.2.0",
          "state": {
            "_model_module": "@jupyter-widgets/base",
            "_model_module_version": "1.2.0",
            "_model_name": "LayoutModel",
            "_view_count": null,
            "_view_module": "@jupyter-widgets/base",
            "_view_module_version": "1.2.0",
            "_view_name": "LayoutView",
            "align_content": null,
            "align_items": null,
            "align_self": null,
            "border": null,
            "bottom": null,
            "display": null,
            "flex": "2",
            "flex_flow": null,
            "grid_area": null,
            "grid_auto_columns": null,
            "grid_auto_flow": null,
            "grid_auto_rows": null,
            "grid_column": null,
            "grid_gap": null,
            "grid_row": null,
            "grid_template_areas": null,
            "grid_template_columns": null,
            "grid_template_rows": null,
            "height": null,
            "justify_content": null,
            "justify_items": null,
            "left": null,
            "margin": null,
            "max_height": null,
            "max_width": null,
            "min_height": null,
            "min_width": null,
            "object_fit": null,
            "object_position": null,
            "order": null,
            "overflow": null,
            "overflow_x": null,
            "overflow_y": null,
            "padding": null,
            "right": null,
            "top": null,
            "visibility": null,
            "width": null
          }
        },
        "eb54aded7dac431b9efc11e4c7fce08d": {
          "model_module": "@jupyter-widgets/controls",
          "model_name": "ProgressStyleModel",
          "model_module_version": "1.5.0",
          "state": {
            "_model_module": "@jupyter-widgets/controls",
            "_model_module_version": "1.5.0",
            "_model_name": "ProgressStyleModel",
            "_view_count": null,
            "_view_module": "@jupyter-widgets/base",
            "_view_module_version": "1.2.0",
            "_view_name": "StyleView",
            "bar_color": null,
            "description_width": ""
          }
        },
        "850888c2b36945de968ec9bfd68feeeb": {
          "model_module": "@jupyter-widgets/base",
          "model_name": "LayoutModel",
          "model_module_version": "1.2.0",
          "state": {
            "_model_module": "@jupyter-widgets/base",
            "_model_module_version": "1.2.0",
            "_model_name": "LayoutModel",
            "_view_count": null,
            "_view_module": "@jupyter-widgets/base",
            "_view_module_version": "1.2.0",
            "_view_name": "LayoutView",
            "align_content": null,
            "align_items": null,
            "align_self": null,
            "border": null,
            "bottom": null,
            "display": null,
            "flex": null,
            "flex_flow": null,
            "grid_area": null,
            "grid_auto_columns": null,
            "grid_auto_flow": null,
            "grid_auto_rows": null,
            "grid_column": null,
            "grid_gap": null,
            "grid_row": null,
            "grid_template_areas": null,
            "grid_template_columns": null,
            "grid_template_rows": null,
            "height": null,
            "justify_content": null,
            "justify_items": null,
            "left": null,
            "margin": null,
            "max_height": null,
            "max_width": null,
            "min_height": null,
            "min_width": null,
            "object_fit": null,
            "object_position": null,
            "order": null,
            "overflow": null,
            "overflow_x": null,
            "overflow_y": null,
            "padding": null,
            "right": null,
            "top": null,
            "visibility": null,
            "width": null
          }
        },
        "11c1a39d7633471084a5cbdc818d8f59": {
          "model_module": "@jupyter-widgets/controls",
          "model_name": "DescriptionStyleModel",
          "model_module_version": "1.5.0",
          "state": {
            "_model_module": "@jupyter-widgets/controls",
            "_model_module_version": "1.5.0",
            "_model_name": "DescriptionStyleModel",
            "_view_count": null,
            "_view_module": "@jupyter-widgets/base",
            "_view_module_version": "1.2.0",
            "_view_name": "StyleView",
            "description_width": ""
          }
        }
      }
    }
  },
  "nbformat": 4,
  "nbformat_minor": 0
}